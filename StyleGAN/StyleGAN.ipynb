{
 "cells": [
  {
   "cell_type": "raw",
   "metadata": {
    "vscode": {
     "languageId": "raw"
    }
   },
   "source": [
    "This script was edited at Yoshimi Lab in Tohoku University, Material Science and Engineering Department"
   ]
  },
  {
   "cell_type": "raw",
   "metadata": {
    "vscode": {
     "languageId": "raw"
    }
   },
   "source": [
    "Model Discription\n",
    "\n",
    "This model is a Pytorch-based StyleGAN. About details of model architecture, please refer to original StyleGAN paper.\n",
    "URL: https://arxiv.org/abs/1812.04948\n",
    "\n",
    "This script was written by referring to \"https://www.kaggle.com/code/tauilabdelilah/stylegan-implementation-from-scratch-pytorch\"\n",
    "Additionally, this script was edited at points shown below.\n",
    "\n",
    " - Dataloader\n",
    " - Hyperparameter\n",
    " - Mapping Network\n",
    " - Convolutional Layer\n",
    " - Loss Function\n",
    " - Training Loop\n",
    " - Model Saving\n",
    " - A part of parameter names\n",
    "\n",
    "\n",
    "Copyright [2025] [Shunto OBANA]\n",
    "\n",
    "Licensed under the Apache License, Version 2.0 (the “License”);\n",
    "you may not use this file except in compliance with the License.\n",
    "You may obtain a copy of the License at\n",
    "http://www.apache.org/licenses/LICENSE-2.0\n",
    "\n",
    "Unless required by applicable law or agreed to in writing, software\n",
    "distributed under the License is distributed on an “AS IS” BASIS,\n",
    "WITHOUT WARRANTIES OR CONDITIONS OF ANY KIND, either express or implied.\n",
    "\n",
    "See the License for the specific language governing permissions and\n",
    "limitations under the License."
   ]
  },
  {
   "cell_type": "raw",
   "metadata": {
    "vscode": {
     "languageId": "raw"
    }
   },
   "source": [
    "Import necessary Python libraries"
   ]
  },
  {
   "cell_type": "code",
   "execution_count": 68,
   "metadata": {},
   "outputs": [],
   "source": [
    "import torch\n",
    "import torch.nn as nn\n",
    "import torch.optim as optim\n",
    "from torchvision import datasets, transforms\n",
    "from torch.utils.data import DataLoader\n",
    "import torch.nn.functional as F\n",
    "from torchvision.utils import save_image\n",
    "import torchvision\n",
    "import numpy as np\n",
    "import matplotlib.pylab as plt\n",
    "import os\n",
    "import cv2\n",
    "import math\n",
    "from math import log2\n",
    "from tqdm import tqdm"
   ]
  },
  {
   "cell_type": "raw",
   "metadata": {
    "vscode": {
     "languageId": "raw"
    }
   },
   "source": [
    "Check the availability of GPU"
   ]
  },
  {
   "cell_type": "code",
   "execution_count": 69,
   "metadata": {},
   "outputs": [
    {
     "name": "stdout",
     "output_type": "stream",
     "text": [
      "Mon Jan 20 11:27:30 2025       \n",
      "+-----------------------------------------------------------------------------+\n",
      "| NVIDIA-SMI 522.06       Driver Version: 522.06       CUDA Version: 11.8     |\n",
      "|-------------------------------+----------------------+----------------------+\n",
      "| GPU  Name            TCC/WDDM | Bus-Id        Disp.A | Volatile Uncorr. ECC |\n",
      "| Fan  Temp  Perf  Pwr:Usage/Cap|         Memory-Usage | GPU-Util  Compute M. |\n",
      "|                               |                      |               MIG M. |\n",
      "|===============================+======================+======================|\n",
      "|   0  NVIDIA RTX A6000   WDDM  | 00000000:01:00.0  On |                  Off |\n",
      "| 64%   80C    P3    95W / 300W |  26610MiB / 49140MiB |      0%      Default |\n",
      "|                               |                      |                  N/A |\n",
      "+-------------------------------+----------------------+----------------------+\n",
      "                                                                               \n",
      "+-----------------------------------------------------------------------------+\n",
      "| Processes:                                                                  |\n",
      "|  GPU   GI   CI        PID   Type   Process name                  GPU Memory |\n",
      "|        ID   ID                                                   Usage      |\n",
      "|=============================================================================|\n",
      "|    0   N/A  N/A       556    C+G   C:\\Windows\\explorer.exe         N/A      |\n",
      "|    0   N/A  N/A      2360    C+G   ...ge\\Application\\msedge.exe    N/A      |\n",
      "|    0   N/A  N/A      2828    C+G   ...me\\Application\\chrome.exe    N/A      |\n",
      "|    0   N/A  N/A      4156    C+G   ...artMenuExperienceHost.exe    N/A      |\n",
      "|    0   N/A  N/A      5620    C+G   ...e\\PhoneExperienceHost.exe    N/A      |\n",
      "|    0   N/A  N/A      6576    C+G   ...\\ApplicationFrameHost.exe    N/A      |\n",
      "|    0   N/A  N/A      7588    C+G   ...n1h2txyewy\\SearchHost.exe    N/A      |\n",
      "|    0   N/A  N/A     10116    C+G   ...oft\\OneDrive\\OneDrive.exe    N/A      |\n",
      "|    0   N/A  N/A     13392    C+G   ...lPanel\\SystemSettings.exe    N/A      |\n",
      "|    0   N/A  N/A     14136    C+G   ...2txyewy\\TextInputHost.exe    N/A      |\n",
      "|    0   N/A  N/A     15556    C+G   ...urrent\\LogiOptionsMgr.exe    N/A      |\n",
      "|    0   N/A  N/A     15580    C+G   ...e\\Current\\LogiOverlay.exe    N/A      |\n",
      "|    0   N/A  N/A     15684    C+G   ...03.112\\msedgewebview2.exe    N/A      |\n",
      "|    0   N/A  N/A     16064    C+G   ...me\\Application\\chrome.exe    N/A      |\n",
      "|    0   N/A  N/A     20088    C+G   ...y\\ShellExperienceHost.exe    N/A      |\n",
      "|    0   N/A  N/A     21468    C+G   ...03.112\\msedgewebview2.exe    N/A      |\n",
      "|    0   N/A  N/A     26136    C+G   ...ws\\System32\\ShellHost.exe    N/A      |\n",
      "|    0   N/A  N/A     26764    C+G   ...ekyb3d8bbwe\\HxOutlook.exe    N/A      |\n",
      "|    0   N/A  N/A     27104    C+G   ...icrosoft VS Code\\Code.exe    N/A      |\n",
      "|    0   N/A  N/A     30688      C   ...legan_python39\\python.exe    N/A      |\n",
      "+-----------------------------------------------------------------------------+\n",
      "cuda\n"
     ]
    }
   ],
   "source": [
    "!nvidia-smi\n",
    "\n",
    "DEVICE = 'cuda' if torch.cuda.is_available() else 'cpu'\n",
    "print(DEVICE)"
   ]
  },
  {
   "cell_type": "raw",
   "metadata": {
    "vscode": {
     "languageId": "raw"
    }
   },
   "source": [
    "Set hyperparameters"
   ]
  },
  {
   "cell_type": "code",
   "execution_count": 70,
   "metadata": {},
   "outputs": [],
   "source": [
    "# Basic\n",
    "RESOLUTION = 256\n",
    "IMG_CHANNELS = 1\n",
    "BATCH_SIZES = [512, 512, 256, 128, 64, 64, 32]\n",
    "LAMBDA_GP = 10\n",
    "LEARNING_RATE = 1e-3\n",
    "PROGRESSIVE_EPOCHS = [20, 20, 40, 60, 80, 120, 160]\n",
    "SAVE_INTERVAL = 10\n",
    "\n",
    "# Optional\n",
    "FIRST_IMG_SIZE = 4\n",
    "Z_DIM = 512\n",
    "W_DIM = 512\n",
    "IN_CHANNELS = 512\n",
    "factors = [1,1,1,1/2,1/4,1/8,1/16,1/32]"
   ]
  },
  {
   "cell_type": "raw",
   "metadata": {
    "vscode": {
     "languageId": "raw"
    }
   },
   "source": [
    "Dataloader"
   ]
  },
  {
   "cell_type": "code",
   "execution_count": 71,
   "metadata": {},
   "outputs": [],
   "source": [
    "DATASET = \"./dataset\"\n",
    "AUGMENTED_DATASET = \"./augmented_dataset\"\n",
    "\n",
    "def data_augmentation(input_folder, output_folder):\n",
    "    if not os.path.exists(output_folder):\n",
    "        os.makedirs(output_folder)\n",
    "\n",
    "    transformations = [\n",
    "        lambda x: x,\n",
    "        lambda x: cv2.rotate(x, cv2.ROTATE_90_CLOCKWISE),\n",
    "        lambda x: cv2.rotate(x, cv2.ROTATE_90_COUNTERCLOCKWISE),\n",
    "        lambda x: cv2.rotate(x, cv2.ROTATE_180),\n",
    "        lambda x: cv2.flip(x, 1),\n",
    "        lambda x: cv2.flip(cv2.rotate(x, cv2.ROTATE_90_CLOCKWISE), 1),\n",
    "        lambda x: cv2.flip(cv2.rotate(x, cv2.ROTATE_90_COUNTERCLOCKWISE), 1),\n",
    "        lambda x: cv2.flip(cv2.rotate(x, cv2.ROTATE_180), 1),\n",
    "    ]\n",
    "\n",
    "    for folder_name in os.listdir(input_folder):\n",
    "        input_folder_path = os.path.join(input_folder, folder_name)\n",
    "        output_folder_path = os.path.join(output_folder, folder_name)\n",
    "\n",
    "        if not os.path.exists(output_folder_path):\n",
    "            os.makedirs(output_folder_path)\n",
    "\n",
    "        for filename in os.listdir(input_folder_path):\n",
    "            filepath = os.path.join(input_folder_path, filename)\n",
    "            img = cv2.imread(filepath)\n",
    "            if img is None:\n",
    "                continue\n",
    "            \n",
    "            for i, transform in enumerate(transformations):\n",
    "                augmented_img = transform(img)\n",
    "                output_filepath = os.path.join(output_folder_path, f\"{os.path.splitext(filename)[0]}_aug{i}.tif\")\n",
    "                cv2.imwrite(output_filepath, augmented_img)\n",
    "\n",
    "def get_loader(resolution):\n",
    "    transform = transforms.Compose([\n",
    "        transforms.Resize((resolution, resolution)),\n",
    "        transforms.Grayscale(num_output_channels=1),\n",
    "        transforms.ToTensor(),\n",
    "        transforms.Normalize([0.5], [0.5]),\n",
    "    ])\n",
    "    batch_size = BATCH_SIZES[int(log2(resolution/4))]\n",
    "    dataset = datasets.ImageFolder(AUGMENTED_DATASET, transform=transform)\n",
    "    loader = DataLoader(dataset, batch_size=batch_size, shuffle=True)\n",
    "    return loader, dataset\n",
    "\n",
    "data_augmentation(DATASET, AUGMENTED_DATASET)"
   ]
  },
  {
   "cell_type": "code",
   "execution_count": 72,
   "metadata": {},
   "outputs": [
    {
     "data": {
      "image/png": "[encoded data removed]",
      "text/plain": [
       "<Figure size 800x800 with 9 Axes>"
      ]
     },
     "metadata": {},
     "output_type": "display_data"
    }
   ],
   "source": [
    "def check_loader():\n",
    "    loader,_ = get_loader(RESOLUTION)\n",
    "    MoSiBTiC,_  = next(iter(loader))\n",
    "    _,ax     = plt.subplots(3,3,figsize=(8,8))\n",
    "    plt.suptitle('Some real samples')\n",
    "    ind = 0\n",
    "    for k in range(3):\n",
    "        for kk in range(3):\n",
    "            image = MoSiBTiC[ind]\n",
    "            if image.shape[0] == 1:  # Check if the image is grayscale\n",
    "                ax[k][kk].imshow(image.squeeze(), cmap='gray')\n",
    "            else:\n",
    "                ax[k][kk].imshow((image.permute(1,2,0) + 1) / 2)\n",
    "            ind += 1\n",
    "check_loader()"
   ]
  },
  {
   "cell_type": "raw",
   "metadata": {
    "vscode": {
     "languageId": "raw"
    }
   },
   "source": [
    "Generator"
   ]
  },
  {
   "cell_type": "code",
   "execution_count": 73,
   "metadata": {},
   "outputs": [],
   "source": [
    "class EqualizedLinear(nn.Module):\n",
    "    def __init__(self, in_dim, out_dim, bias=True):\n",
    "        super(EqualizedLinear, self).__init__()\n",
    "        self.linear = nn.Linear(in_dim, out_dim, bias=bias)\n",
    "        nn.init.normal_(self.linear.weight, mean=0.0, std=1.0 / np.sqrt(in_dim))\n",
    "        if bias:\n",
    "            nn.init.zeros_(self.linear.bias)\n",
    "        self.scale = (2 / in_dim) ** 0.5\n",
    "\n",
    "    def forward(self, x):\n",
    "        return self.linear(x) * self.scale"
   ]
  },
  {
   "cell_type": "code",
   "execution_count": 74,
   "metadata": {},
   "outputs": [],
   "source": [
    "class PixelNorm(nn.Module):\n",
    "    def __init__(self, epsilon=1e-8):\n",
    "        super(PixelNorm, self).__init__()\n",
    "        self.epsilon = epsilon\n",
    "    \n",
    "    def forward(self, x):\n",
    "        return x / torch.sqrt(torch.mean(x ** 2, dim = 1, keepdim = True) + self.epsilon)"
   ]
  },
  {
   "cell_type": "code",
   "execution_count": 75,
   "metadata": {},
   "outputs": [],
   "source": [
    "class MappingNetwork(nn.Module):\n",
    "    def __init__(self, z_dim, w_dim):\n",
    "        super().__init__()\n",
    "        self.mapping = nn.Sequential(\n",
    "            PixelNorm(),\n",
    "            EqualizedLinear(z_dim, w_dim),\n",
    "            nn.LeakyReLU(0.2),\n",
    "            EqualizedLinear(w_dim, w_dim),\n",
    "            nn.LeakyReLU(0.2),\n",
    "            EqualizedLinear(w_dim, w_dim),\n",
    "            nn.LeakyReLU(0.2),\n",
    "            EqualizedLinear(w_dim, w_dim),\n",
    "            nn.LeakyReLU(0.2),\n",
    "            EqualizedLinear(w_dim, w_dim),\n",
    "            nn.LeakyReLU(0.2),\n",
    "            EqualizedLinear(w_dim, w_dim),\n",
    "            nn.LeakyReLU(0.2),\n",
    "            EqualizedLinear(w_dim, w_dim),\n",
    "            nn.LeakyReLU(0.2),\n",
    "            EqualizedLinear(w_dim, w_dim),\n",
    "            nn.LeakyReLU(0.2),\n",
    "        )\n",
    "    \n",
    "    def forward(self,z):\n",
    "        return self.mapping(z)"
   ]
  },
  {
   "cell_type": "code",
   "execution_count": 76,
   "metadata": {},
   "outputs": [],
   "source": [
    "class AdaIN(nn.Module):\n",
    "    def __init__(self, channels, w_dim):\n",
    "        super().__init__()\n",
    "        self.instance_norm = nn.InstanceNorm2d(channels)\n",
    "        self.style_scale   = nn.Linear(w_dim, channels)\n",
    "        self.style_bias    = nn.Linear(w_dim, channels)\n",
    "\n",
    "    def forward(self,x,w):\n",
    "        x = self.instance_norm(x)\n",
    "        style_scale = self.style_scale(w).unsqueeze(2).unsqueeze(3)\n",
    "        style_bias  = self.style_bias(w).unsqueeze(2).unsqueeze(3)\n",
    "        return style_scale * x + style_bias"
   ]
  },
  {
   "cell_type": "code",
   "execution_count": 77,
   "metadata": {},
   "outputs": [],
   "source": [
    "class EqualizedConv2d(nn.Module):\n",
    "    def __init__(\n",
    "            self, in_channels, out_channels, kernel_size = 3, stride = 1, padding = 1,bias = True\n",
    "    ):\n",
    "        super(EqualizedConv2d, self).__init__()\n",
    "        self.weight = nn.Parameter(torch.randn(out_channels, in_channels, kernel_size, kernel_size))\n",
    "        fan_in = in_channels * kernel_size * kernel_size\n",
    "        self.scale = 1 / math.sqrt(fan_in)\n",
    "        \n",
    "        if bias:\n",
    "            self.bias = nn.Parameter(torch.zeros(out_channels))\n",
    "        else:\n",
    "            self.bias = None\n",
    "        \n",
    "        self.stride = stride\n",
    "        self.padding = padding\n",
    "\n",
    "    def forward(self, x: torch.Tensor) -> torch.Tensor:\n",
    "        return F.conv2d(\n",
    "            x, self.weight * self.scale, bias=self.bias, stride=self.stride, padding=self.padding\n",
    "        )"
   ]
  },
  {
   "cell_type": "code",
   "execution_count": 78,
   "metadata": {},
   "outputs": [],
   "source": [
    "# WSConv2d is not used in this script.\n",
    "class WSConv2d(nn.Module):\n",
    "    def __init__(\n",
    "        self, in_channels, out_channels, kernel_size=3, stride=1, padding=1\n",
    "    ):\n",
    "        super(WSConv2d, self).__init__()\n",
    "        self.conv = nn.Conv2d(in_channels, out_channels, kernel_size, stride, padding)\n",
    "        self.scale = (2 / (in_channels * (kernel_size ** 2))) ** 0.5\n",
    "        self.bias = self.conv.bias\n",
    "        self.conv.bias = None\n",
    "\n",
    "        nn.init.normal_(self.conv.weight)\n",
    "        nn.init.zeros_(self.bias)\n",
    "\n",
    "    def forward(self, x):\n",
    "        return self.conv(x * self.scale) + self.bias.view(1, self.bias.shape[0], 1, 1)"
   ]
  },
  {
   "cell_type": "code",
   "execution_count": 79,
   "metadata": {},
   "outputs": [],
   "source": [
    "class NoiseInjection(nn.Module):\n",
    "    def __init__(self, channels):\n",
    "        super(NoiseInjection, self).__init__()\n",
    "        self.weight = nn.Parameter(torch.zeros(1,channels,1,1))\n",
    "\n",
    "    def forward(self, x, noise=None):\n",
    "        noise = torch.randn((x.shape[0], 1, x.shape[2], x.shape[3]), device = x.device)\n",
    "        return x + self.weight * noise"
   ]
  },
  {
   "cell_type": "code",
   "execution_count": 80,
   "metadata": {},
   "outputs": [],
   "source": [
    "class GeneratorBlock(nn.Module):\n",
    "    def __init__(self, in_channels, out_channels, w_dim):\n",
    "        super(GeneratorBlock, self).__init__()\n",
    "        self.conv1 = EqualizedConv2d(in_channels, out_channels)\n",
    "        self.conv2 = EqualizedConv2d(out_channels, out_channels)\n",
    "        self.activation = nn.LeakyReLU(0.2, inplace=True)\n",
    "        self.noise_injection1 = NoiseInjection(out_channels)\n",
    "        self.noise_injection2 = NoiseInjection(out_channels)\n",
    "        self.adain1 = AdaIN(out_channels, w_dim)\n",
    "        self.adain2 = AdaIN(out_channels, w_dim)\n",
    "\n",
    "    def forward(self, x, w):\n",
    "        x = self.adain1(self.activation(self.noise_injection1(self.conv1(x))), w)\n",
    "        x = self.adain2(self.activation(self.noise_injection2(self.conv2(x))), w)\n",
    "        return x"
   ]
  },
  {
   "cell_type": "code",
   "execution_count": 81,
   "metadata": {},
   "outputs": [],
   "source": [
    "class Generator(nn.Module):\n",
    "    def __init__(self, z_dim, w_dim, in_channels, img_channels):\n",
    "        super(Generator, self).__init__()\n",
    "        self.constant = nn.Parameter(torch.ones(1, in_channels, 4, 4))\n",
    "        self.mapping_network = MappingNetwork(z_dim, w_dim)\n",
    "        self.first_adain1 = AdaIN(in_channels, w_dim)\n",
    "        self.first_adain2 = AdaIN(in_channels, w_dim)\n",
    "        self.first_noise1 = NoiseInjection(in_channels)\n",
    "        self.first_noise2 = NoiseInjection(in_channels)\n",
    "        self.first_conv = nn.Conv2d(in_channels, in_channels, kernel_size=3, stride=1, padding=1)\n",
    "        self.activation = nn.LeakyReLU(0.2, inplace=True)\n",
    "        \n",
    "        self.first_torgb = EqualizedConv2d(in_channels, img_channels, kernel_size=1, stride=1, padding=0)\n",
    "\n",
    "        self.prog_blocks, self.to_rgbs = (\n",
    "            nn.ModuleList([]),\n",
    "            nn.ModuleList([self.first_torgb])\n",
    "        )\n",
    "        \n",
    "        for i in range(len(factors)-1):\n",
    "            in_channels_c = int(in_channels * factors[i])\n",
    "            out_channels_c = int(in_channels * factors[i+1])\n",
    "            self.prog_blocks.append(GeneratorBlock(in_channels_c, out_channels_c, w_dim))\n",
    "            self.to_rgbs.append(EqualizedConv2d(out_channels_c, img_channels, kernel_size=1, stride=1, padding=0))\n",
    "\n",
    "    def fade_in(self, alpha, upscaled, generated):\n",
    "        return torch.tanh(alpha * generated + (1 - alpha) * upscaled)\n",
    "\n",
    "    def forward(self, z, alpha, steps):\n",
    "        w = self.mapping_network(z)\n",
    "        x = self.first_adain1(self.first_noise1(self.constant), w)\n",
    "        x = self.first_conv(x)\n",
    "        out = self.first_adain2(self.activation(self.first_noise2(x)), w)\n",
    "\n",
    "        if steps == 0:\n",
    "            return self.first_torgb(x)\n",
    "        \n",
    "        for step in range(steps):\n",
    "            upscaled = F.interpolate(out, scale_factor=2, mode='bilinear')\n",
    "            out = self.prog_blocks[step](upscaled, w)\n",
    "\n",
    "        final_upscaled = self.to_rgbs[steps-1](upscaled)\n",
    "        final_out = self.to_rgbs[steps](out)\n",
    "\n",
    "        return self.fade_in(alpha, final_upscaled, final_out)"
   ]
  },
  {
   "cell_type": "code",
   "execution_count": 82,
   "metadata": {},
   "outputs": [],
   "source": [
    "class DiscriminatorBlock(nn.Module):\n",
    "    def __init__(self, in_channels, out_channels):\n",
    "        super(DiscriminatorBlock, self).__init__()\n",
    "        self.conv1 = EqualizedConv2d(in_channels, out_channels)\n",
    "        self.conv2 = EqualizedConv2d(out_channels, out_channels)\n",
    "        self.activation = nn.LeakyReLU(0.2, inplace=True)\n",
    "\n",
    "    def forward(self, x):\n",
    "        x = self.activation(self.conv1(x))\n",
    "        x = self.activation(self.conv2(x))\n",
    "        return x"
   ]
  },
  {
   "cell_type": "code",
   "execution_count": 83,
   "metadata": {},
   "outputs": [],
   "source": [
    "class Discriminator(nn.Module):\n",
    "    def __init__(self, in_channels, img_channels):\n",
    "        super(Discriminator, self).__init__()\n",
    "        self.prog_blocks, self.from_rgbs = nn.ModuleList([]), nn.ModuleList([])\n",
    "        self.activation = nn.LeakyReLU(0.2, inplace=True)\n",
    "\n",
    "        for i in range(len(factors)-1, 0, -1):\n",
    "            in_channels_c = int(in_channels * factors[i])\n",
    "            out_channels_c = int(in_channels * factors[i-1])\n",
    "            self.prog_blocks.append(DiscriminatorBlock(in_channels_c, out_channels_c))\n",
    "            self.from_rgbs.append(EqualizedConv2d(img_channels, in_channels_c, kernel_size=1, stride=1, padding=0))\n",
    "\n",
    "        self.first_fromrgb = EqualizedConv2d(img_channels, in_channels, kernel_size=1, stride=1, padding=0)\n",
    "        self.from_rgbs.append(self.first_fromrgb)\n",
    "        self.avg_pool = nn.AvgPool2d(\n",
    "            kernel_size=2, stride=2\n",
    "        )\n",
    "\n",
    "        self.final_block = nn.Sequential(\n",
    "            EqualizedConv2d(in_channels+1, in_channels, kernel_size=3, padding=1),\n",
    "            nn.LeakyReLU(0.2, inplace=True),\n",
    "            EqualizedConv2d(in_channels, in_channels, kernel_size=4, padding=0, stride=1),\n",
    "            nn.LeakyReLU(0.2, inplace=True),\n",
    "            EqualizedConv2d(in_channels, 1, kernel_size=1, padding=0, stride=1),\n",
    "        )\n",
    "\n",
    "    def fade_in(self, alpha, downscaled, out):\n",
    "        return alpha * out + (1 - alpha) * downscaled\n",
    "    \n",
    "    def minibatch_std(self, x):\n",
    "        batch_statistics = (\n",
    "            torch.std(x, dim=0).mean().repeat(x.shape[0], 1, x.shape[2], x.shape[3])\n",
    "        )\n",
    "        return torch.cat([x, batch_statistics], dim=1)\n",
    "\n",
    "    def forward(self, x, alpha, steps):\n",
    "        cur_step = len(self.prog_blocks) - steps\n",
    "        out = self.activation(self.from_rgbs[cur_step](x))\n",
    "\n",
    "        if steps == 0:\n",
    "            out = self.minibatch_std(out)\n",
    "            return self.final_block(out).view(out.shape[0], -1)\n",
    "        \n",
    "        downscaled = self.activation(self.from_rgbs[cur_step + 1](self.avg_pool(x)))\n",
    "        out = self.avg_pool(self.prog_blocks[cur_step](out))\n",
    "\n",
    "        out = self.fade_in(alpha, downscaled, out)\n",
    "\n",
    "        for step in range(cur_step + 1, len(self.prog_blocks)):\n",
    "            out = self.prog_blocks[step](out)\n",
    "            out = self.avg_pool(out)\n",
    "\n",
    "        out = self.minibatch_std(out)\n",
    "        return self.final_block(out).view(out.shape[0], -1)\n"
   ]
  },
  {
   "cell_type": "raw",
   "metadata": {
    "vscode": {
     "languageId": "raw"
    }
   },
   "source": [
    "Loss Function"
   ]
  },
  {
   "cell_type": "code",
   "execution_count": 84,
   "metadata": {},
   "outputs": [],
   "source": [
    "def gradient_penalty(discriminator, real, fake, alpha, train_step, device=\"cpu\"):\n",
    "    BATCH_SIZE, C, H, W = real.shape\n",
    "    beta = torch.rand((BATCH_SIZE, 1, 1, 1)).repeat(1, C, H, W).to(device)\n",
    "    interpolated_images = real * beta + fake.detach() * (1 - beta)\n",
    "    interpolated_images.requires_grad_(True)\n",
    "\n",
    "    mixed_scores = discriminator(interpolated_images, alpha, train_step)\n",
    "\n",
    "    gradient = torch.autograd.grad(\n",
    "        inputs=interpolated_images,\n",
    "        outputs=mixed_scores,\n",
    "        grad_outputs=torch.ones_like(mixed_scores),\n",
    "        create_graph=True,\n",
    "        retain_graph=True,\n",
    "    )[0]\n",
    "    gradient = gradient.view(gradient.shape[0], -1)\n",
    "    gradient_norm = gradient.norm(2, dim=1)\n",
    "    gradient_penalty = torch.mean((gradient_norm - 1) ** 2)\n",
    "    return gradient_penalty"
   ]
  },
  {
   "cell_type": "code",
   "execution_count": 85,
   "metadata": {},
   "outputs": [],
   "source": [
    "def discriminator_loss(discriminator_real, discriminator_fake, lambda_gp, gp):\n",
    "    loss = (-(torch.mean(discriminator_real) - torch.mean(discriminator_fake)) + lambda_gp * gp + (0.001) * torch.mean(discriminator_real ** 2))\n",
    "    return loss\n",
    "\n",
    "def generator_loss(discriminator_fake):\n",
    "    loss = -torch.mean(discriminator_fake)\n",
    "    return loss"
   ]
  },
  {
   "cell_type": "raw",
   "metadata": {
    "vscode": {
     "languageId": "raw"
    }
   },
   "source": [
    "Training Loop"
   ]
  },
  {
   "cell_type": "code",
   "execution_count": 86,
   "metadata": {},
   "outputs": [],
   "source": [
    "def generate_examples(generator, step, epoch, n=100):\n",
    "    generator.eval()\n",
    "    alpha = 1.0\n",
    "    for i in range(n):\n",
    "        with torch.no_grad():\n",
    "            z = torch.randn(1, Z_DIM).to(DEVICE)\n",
    "            img = generator(z, alpha, step)\n",
    "            if not os.path.exists(f'saved_examples/step{step}/epoch{epoch+1}'):\n",
    "                os.makedirs(f'saved_examples/step{step}/epoch{epoch+1}')\n",
    "            save_image(img*0.5+0.5, f\"saved_examples/step{step}/epoch{epoch+1}/img_{i}.png\")\n",
    "    generator.train()"
   ]
  },
  {
   "cell_type": "code",
   "execution_count": 87,
   "metadata": {},
   "outputs": [],
   "source": [
    "def save_loss_value(loss_log):\n",
    "    if not os.path.exists(f'saved_loss_value'):\n",
    "        os.makedirs(f'saved_loss_value')\n",
    "    log_path = os.path.join(\"./saved_loss_value\", \"loss_log.txt\")\n",
    "    with open(log_path, \"w\") as f:\n",
    "        for epoch, (g_loss, d_loss) in enumerate(zip(loss_log[\"Generator Loss\"], loss_log[\"Discriminator Loss\"]), 1):\n",
    "            f.write(f\"Epoch {epoch}: Generator Loss: {g_loss:.10f}, Discriminator Loss: {d_loss:.10f}\\n\")\n",
    "    print(\"Saved loss log.\")"
   ]
  },
  {
   "cell_type": "code",
   "execution_count": 88,
   "metadata": {},
   "outputs": [],
   "source": [
    "def save_model(discriminator, generator, step, epoch):\n",
    "    generator.eval()\n",
    "    discriminator.eval()\n",
    "    if not os.path.exists(f'saved_models/step{step}'):\n",
    "        os.makedirs(f'saved_models/step{step}')\n",
    "    torch.save(generator.state_dict(), f\"saved_models/step{step}/generator_step{step}_epoch{epoch+1}.pth\")\n",
    "    torch.save(discriminator.state_dict(), f\"saved_models/step{step}/discrminator_step{step}_epoch{epoch+1}.pth\")\n",
    "    print(\"Models were stored.\")\n",
    "    generator.train()\n",
    "    discriminator.train()"
   ]
  },
  {
   "cell_type": "code",
   "execution_count": 89,
   "metadata": {},
   "outputs": [],
   "source": [
    "def train_function(\n",
    "        discriminator, generator, loader, dataset, step, alpha, optimizer_d, optimizer_g\n",
    "):\n",
    "    loop = tqdm(loader, leave=True)\n",
    "    \n",
    "    for batch_idx, (real, _) in enumerate(loop):\n",
    "        real = real.to(DEVICE)\n",
    "        cur_batch_size = real.shape[0]\n",
    "        z = torch.randn(cur_batch_size, Z_DIM).to(DEVICE)\n",
    "        fake = generator(z, alpha, step)\n",
    "        discriminator_real = discriminator(real, alpha, step)\n",
    "        discriminator_fake = discriminator(fake.detach(), alpha, step)\n",
    "        gp = gradient_penalty(discriminator, real, fake, alpha, step, DEVICE)\n",
    "        loss_d = discriminator_loss(discriminator_real, discriminator_fake, LAMBDA_GP, gp)\n",
    "\n",
    "        discriminator.zero_grad()\n",
    "        loss_d.backward()\n",
    "        optimizer_d.step()\n",
    "\n",
    "        discriminator_fake2 = discriminator(fake, alpha, step)\n",
    "        loss_g = generator_loss(discriminator_fake2)\n",
    "\n",
    "        generator.zero_grad()\n",
    "        loss_g.backward()\n",
    "        optimizer_g.step()\n",
    "\n",
    "        alpha += cur_batch_size / (\n",
    "            PROGRESSIVE_EPOCHS[step] * 0.5 * len(dataset)\n",
    "        )\n",
    "        alpha = min(alpha, 1)\n",
    "\n",
    "        loop.set_postfix(\n",
    "            gp = gp.item(),\n",
    "            loss_d = loss_d.item(),\n",
    "            loss_g = loss_g.item()\n",
    "        )\n",
    "    return alpha, loss_d, loss_g"
   ]
  },
  {
   "cell_type": "code",
   "execution_count": 90,
   "metadata": {},
   "outputs": [
    {
     "name": "stdout",
     "output_type": "stream",
     "text": [
      "Current Image Size: 4\n",
      "Epoch[1 / 20]\n"
     ]
    },
    {
     "name": "stderr",
     "output_type": "stream",
     "text": [
      "100%|██████████| 35/35 [00:20<00:00,  1.67it/s, gp=0.0393, loss_d=1.4, loss_g=0.497]  \n"
     ]
    },
    {
     "name": "stdout",
     "output_type": "stream",
     "text": [
      "Epoch[2 / 20]\n"
     ]
    },
    {
     "name": "stderr",
     "output_type": "stream",
     "text": [
      "100%|██████████| 35/35 [00:20<00:00,  1.68it/s, gp=0.0225, loss_d=1.08, loss_g=-0.107] \n"
     ]
    },
    {
     "name": "stdout",
     "output_type": "stream",
     "text": [
      "Epoch[3 / 20]\n"
     ]
    },
    {
     "name": "stderr",
     "output_type": "stream",
     "text": [
      "100%|██████████| 35/35 [00:21<00:00,  1.64it/s, gp=0.00872, loss_d=0.721, loss_g=-0.504] \n"
     ]
    },
    {
     "name": "stdout",
     "output_type": "stream",
     "text": [
      "Epoch[4 / 20]\n"
     ]
    },
    {
     "name": "stderr",
     "output_type": "stream",
     "text": [
      "100%|██████████| 35/35 [00:22<00:00,  1.55it/s, gp=0.00614, loss_d=0.75, loss_g=-0.461]  \n"
     ]
    },
    {
     "name": "stdout",
     "output_type": "stream",
     "text": [
      "Epoch[5 / 20]\n"
     ]
    },
    {
     "name": "stderr",
     "output_type": "stream",
     "text": [
      "100%|██████████| 35/35 [00:21<00:00,  1.63it/s, gp=0.0309, loss_d=0.921, loss_g=-0.144]  \n"
     ]
    },
    {
     "name": "stdout",
     "output_type": "stream",
     "text": [
      "Epoch[6 / 20]\n"
     ]
    },
    {
     "name": "stderr",
     "output_type": "stream",
     "text": [
      "100%|██████████| 35/35 [00:22<00:00,  1.57it/s, gp=0.0474, loss_d=1.02, loss_g=-0.403]    \n"
     ]
    },
    {
     "name": "stdout",
     "output_type": "stream",
     "text": [
      "Epoch[7 / 20]\n"
     ]
    },
    {
     "name": "stderr",
     "output_type": "stream",
     "text": [
      "100%|██████████| 35/35 [00:26<00:00,  1.30it/s, gp=0.0016, loss_d=0.516, loss_g=-0.284]  \n"
     ]
    },
    {
     "name": "stdout",
     "output_type": "stream",
     "text": [
      "Epoch[8 / 20]\n"
     ]
    },
    {
     "name": "stderr",
     "output_type": "stream",
     "text": [
      "100%|██████████| 35/35 [00:27<00:00,  1.29it/s, gp=0.00305, loss_d=0.577, loss_g=-0.311]\n"
     ]
    },
    {
     "name": "stdout",
     "output_type": "stream",
     "text": [
      "Epoch[9 / 20]\n"
     ]
    },
    {
     "name": "stderr",
     "output_type": "stream",
     "text": [
      "100%|██████████| 35/35 [00:26<00:00,  1.32it/s, gp=0.0424, loss_d=1.02, loss_g=-0.344]  \n"
     ]
    },
    {
     "name": "stdout",
     "output_type": "stream",
     "text": [
      "Epoch[10 / 20]\n"
     ]
    },
    {
     "name": "stderr",
     "output_type": "stream",
     "text": [
      "100%|██████████| 35/35 [00:25<00:00,  1.36it/s, gp=0.0547, loss_d=1.08, loss_g=-0.179]   \n"
     ]
    },
    {
     "name": "stdout",
     "output_type": "stream",
     "text": [
      "Models were stored.\n",
      "Saved loss log.\n",
      "Epoch[11 / 20]\n"
     ]
    },
    {
     "name": "stderr",
     "output_type": "stream",
     "text": [
      "100%|██████████| 35/35 [00:24<00:00,  1.41it/s, gp=0.000302, loss_d=0.582, loss_g=-0.414] \n"
     ]
    },
    {
     "name": "stdout",
     "output_type": "stream",
     "text": [
      "Epoch[12 / 20]\n"
     ]
    },
    {
     "name": "stderr",
     "output_type": "stream",
     "text": [
      "100%|██████████| 35/35 [00:22<00:00,  1.55it/s, gp=0.0393, loss_d=0.841, loss_g=-0.412]  \n"
     ]
    },
    {
     "name": "stdout",
     "output_type": "stream",
     "text": [
      "Epoch[13 / 20]\n"
     ]
    },
    {
     "name": "stderr",
     "output_type": "stream",
     "text": [
      "100%|██████████| 35/35 [00:23<00:00,  1.47it/s, gp=0.0248, loss_d=0.684, loss_g=-0.0891]\n"
     ]
    },
    {
     "name": "stdout",
     "output_type": "stream",
     "text": [
      "Epoch[14 / 20]\n"
     ]
    },
    {
     "name": "stderr",
     "output_type": "stream",
     "text": [
      "100%|██████████| 35/35 [00:24<00:00,  1.45it/s, gp=0.0177, loss_d=0.73, loss_g=-0.252]   \n"
     ]
    },
    {
     "name": "stdout",
     "output_type": "stream",
     "text": [
      "Epoch[15 / 20]\n"
     ]
    },
    {
     "name": "stderr",
     "output_type": "stream",
     "text": [
      "100%|██████████| 35/35 [00:23<00:00,  1.48it/s, gp=0.000452, loss_d=0.572, loss_g=-0.33] \n"
     ]
    },
    {
     "name": "stdout",
     "output_type": "stream",
     "text": [
      "Epoch[16 / 20]\n"
     ]
    },
    {
     "name": "stderr",
     "output_type": "stream",
     "text": [
      "100%|██████████| 35/35 [00:22<00:00,  1.56it/s, gp=0.0613, loss_d=1.14, loss_g=-0.669]   \n"
     ]
    },
    {
     "name": "stdout",
     "output_type": "stream",
     "text": [
      "Epoch[17 / 20]\n"
     ]
    },
    {
     "name": "stderr",
     "output_type": "stream",
     "text": [
      "100%|██████████| 35/35 [00:25<00:00,  1.39it/s, gp=0.0959, loss_d=1.36, loss_g=-0.737]   \n"
     ]
    },
    {
     "name": "stdout",
     "output_type": "stream",
     "text": [
      "Epoch[18 / 20]\n"
     ]
    },
    {
     "name": "stderr",
     "output_type": "stream",
     "text": [
      "100%|██████████| 35/35 [00:24<00:00,  1.43it/s, gp=0.00371, loss_d=0.452, loss_g=-0.518]\n"
     ]
    },
    {
     "name": "stdout",
     "output_type": "stream",
     "text": [
      "Epoch[19 / 20]\n"
     ]
    },
    {
     "name": "stderr",
     "output_type": "stream",
     "text": [
      "100%|██████████| 35/35 [00:27<00:00,  1.26it/s, gp=0.0562, loss_d=0.961, loss_g=-0.55]  \n"
     ]
    },
    {
     "name": "stdout",
     "output_type": "stream",
     "text": [
      "Epoch[20 / 20]\n"
     ]
    },
    {
     "name": "stderr",
     "output_type": "stream",
     "text": [
      "100%|██████████| 35/35 [00:27<00:00,  1.29it/s, gp=0.00342, loss_d=0.414, loss_g=-0.514]\n"
     ]
    },
    {
     "name": "stdout",
     "output_type": "stream",
     "text": [
      "Models were stored.\n",
      "Saved loss log.\n",
      "Current Image Size: 8\n",
      "Epoch[1 / 20]\n"
     ]
    },
    {
     "name": "stderr",
     "output_type": "stream",
     "text": [
      "100%|██████████| 35/35 [00:34<00:00,  1.02it/s, gp=0.00156, loss_d=-1.18, loss_g=-2.14] \n"
     ]
    },
    {
     "name": "stdout",
     "output_type": "stream",
     "text": [
      "Epoch[2 / 20]\n"
     ]
    },
    {
     "name": "stderr",
     "output_type": "stream",
     "text": [
      "100%|██████████| 35/35 [00:33<00:00,  1.04it/s, gp=0.00139, loss_d=0.738, loss_g=-2.87] \n"
     ]
    },
    {
     "name": "stdout",
     "output_type": "stream",
     "text": [
      "Epoch[3 / 20]\n"
     ]
    },
    {
     "name": "stderr",
     "output_type": "stream",
     "text": [
      "100%|██████████| 35/35 [00:33<00:00,  1.05it/s, gp=0.0137, loss_d=1.27, loss_g=-5.76]  \n"
     ]
    },
    {
     "name": "stdout",
     "output_type": "stream",
     "text": [
      "Epoch[4 / 20]\n"
     ]
    },
    {
     "name": "stderr",
     "output_type": "stream",
     "text": [
      "100%|██████████| 35/35 [00:33<00:00,  1.03it/s, gp=0.00646, loss_d=1.04, loss_g=-3.81]\n"
     ]
    },
    {
     "name": "stdout",
     "output_type": "stream",
     "text": [
      "Epoch[5 / 20]\n"
     ]
    },
    {
     "name": "stderr",
     "output_type": "stream",
     "text": [
      "100%|██████████| 35/35 [00:34<00:00,  1.03it/s, gp=0.00419, loss_d=-0.347, loss_g=3.73] \n"
     ]
    },
    {
     "name": "stdout",
     "output_type": "stream",
     "text": [
      "Epoch[6 / 20]\n"
     ]
    },
    {
     "name": "stderr",
     "output_type": "stream",
     "text": [
      "100%|██████████| 35/35 [00:33<00:00,  1.05it/s, gp=0.00241, loss_d=-0.6, loss_g=1.86]  \n"
     ]
    },
    {
     "name": "stdout",
     "output_type": "stream",
     "text": [
      "Epoch[7 / 20]\n"
     ]
    },
    {
     "name": "stderr",
     "output_type": "stream",
     "text": [
      "100%|██████████| 35/35 [00:32<00:00,  1.07it/s, gp=0.00952, loss_d=-0.767, loss_g=-0.291] \n"
     ]
    },
    {
     "name": "stdout",
     "output_type": "stream",
     "text": [
      "Epoch[8 / 20]\n"
     ]
    },
    {
     "name": "stderr",
     "output_type": "stream",
     "text": [
      "100%|██████████| 35/35 [00:33<00:00,  1.05it/s, gp=0.00953, loss_d=-0.616, loss_g=1.24]    \n"
     ]
    },
    {
     "name": "stdout",
     "output_type": "stream",
     "text": [
      "Epoch[9 / 20]\n"
     ]
    },
    {
     "name": "stderr",
     "output_type": "stream",
     "text": [
      "100%|██████████| 35/35 [00:34<00:00,  1.02it/s, gp=0.00212, loss_d=-0.644, loss_g=-0.566]  \n"
     ]
    },
    {
     "name": "stdout",
     "output_type": "stream",
     "text": [
      "Epoch[10 / 20]\n"
     ]
    },
    {
     "name": "stderr",
     "output_type": "stream",
     "text": [
      "100%|██████████| 35/35 [00:33<00:00,  1.05it/s, gp=0.00232, loss_d=-0.903, loss_g=0.633] \n"
     ]
    },
    {
     "name": "stdout",
     "output_type": "stream",
     "text": [
      "Models were stored.\n",
      "Saved loss log.\n",
      "Epoch[11 / 20]\n"
     ]
    },
    {
     "name": "stderr",
     "output_type": "stream",
     "text": [
      "100%|██████████| 35/35 [00:33<00:00,  1.03it/s, gp=0.00307, loss_d=-0.747, loss_g=0.357]\n"
     ]
    },
    {
     "name": "stdout",
     "output_type": "stream",
     "text": [
      "Epoch[12 / 20]\n"
     ]
    },
    {
     "name": "stderr",
     "output_type": "stream",
     "text": [
      "100%|██████████| 35/35 [00:31<00:00,  1.12it/s, gp=0.000838, loss_d=-0.873, loss_g=1.42]\n"
     ]
    },
    {
     "name": "stdout",
     "output_type": "stream",
     "text": [
      "Epoch[13 / 20]\n"
     ]
    },
    {
     "name": "stderr",
     "output_type": "stream",
     "text": [
      "100%|██████████| 35/35 [00:30<00:00,  1.15it/s, gp=0.0049, loss_d=-0.908, loss_g=0.584]  \n"
     ]
    },
    {
     "name": "stdout",
     "output_type": "stream",
     "text": [
      "Epoch[14 / 20]\n"
     ]
    },
    {
     "name": "stderr",
     "output_type": "stream",
     "text": [
      "100%|██████████| 35/35 [00:31<00:00,  1.13it/s, gp=0.000881, loss_d=-0.784, loss_g=0.863]\n"
     ]
    },
    {
     "name": "stdout",
     "output_type": "stream",
     "text": [
      "Epoch[15 / 20]\n"
     ]
    },
    {
     "name": "stderr",
     "output_type": "stream",
     "text": [
      "100%|██████████| 35/35 [00:31<00:00,  1.11it/s, gp=0.00629, loss_d=-0.814, loss_g=0.627] \n"
     ]
    },
    {
     "name": "stdout",
     "output_type": "stream",
     "text": [
      "Epoch[16 / 20]\n"
     ]
    },
    {
     "name": "stderr",
     "output_type": "stream",
     "text": [
      "100%|██████████| 35/35 [00:32<00:00,  1.09it/s, gp=0.000888, loss_d=-0.878, loss_g=1.65]  \n"
     ]
    },
    {
     "name": "stdout",
     "output_type": "stream",
     "text": [
      "Epoch[17 / 20]\n"
     ]
    },
    {
     "name": "stderr",
     "output_type": "stream",
     "text": [
      "100%|██████████| 35/35 [00:29<00:00,  1.21it/s, gp=0.00826, loss_d=-0.756, loss_g=0.924] \n"
     ]
    },
    {
     "name": "stdout",
     "output_type": "stream",
     "text": [
      "Epoch[18 / 20]\n"
     ]
    },
    {
     "name": "stderr",
     "output_type": "stream",
     "text": [
      "100%|██████████| 35/35 [00:33<00:00,  1.06it/s, gp=0.0014, loss_d=-0.901, loss_g=1.52]   \n"
     ]
    },
    {
     "name": "stdout",
     "output_type": "stream",
     "text": [
      "Epoch[19 / 20]\n"
     ]
    },
    {
     "name": "stderr",
     "output_type": "stream",
     "text": [
      "100%|██████████| 35/35 [00:32<00:00,  1.08it/s, gp=0.0109, loss_d=-0.781, loss_g=0.638]  \n"
     ]
    },
    {
     "name": "stdout",
     "output_type": "stream",
     "text": [
      "Epoch[20 / 20]\n"
     ]
    },
    {
     "name": "stderr",
     "output_type": "stream",
     "text": [
      "100%|██████████| 35/35 [00:33<00:00,  1.03it/s, gp=0.00337, loss_d=-0.826, loss_g=1.68]  \n"
     ]
    },
    {
     "name": "stdout",
     "output_type": "stream",
     "text": [
      "Models were stored.\n",
      "Saved loss log.\n",
      "Current Image Size: 16\n",
      "Epoch[1 / 40]\n"
     ]
    },
    {
     "name": "stderr",
     "output_type": "stream",
     "text": [
      "100%|██████████| 69/69 [01:14<00:00,  1.09s/it, gp=0.00492, loss_d=-1.55, loss_g=5.5]  \n"
     ]
    },
    {
     "name": "stdout",
     "output_type": "stream",
     "text": [
      "Epoch[2 / 40]\n"
     ]
    },
    {
     "name": "stderr",
     "output_type": "stream",
     "text": [
      "100%|██████████| 69/69 [01:14<00:00,  1.08s/it, gp=0.00963, loss_d=1.44, loss_g=-7.22]  \n"
     ]
    },
    {
     "name": "stdout",
     "output_type": "stream",
     "text": [
      "Epoch[3 / 40]\n"
     ]
    },
    {
     "name": "stderr",
     "output_type": "stream",
     "text": [
      "100%|██████████| 69/69 [01:13<00:00,  1.07s/it, gp=0.0121, loss_d=1.24, loss_g=-0.979] \n"
     ]
    },
    {
     "name": "stdout",
     "output_type": "stream",
     "text": [
      "Epoch[4 / 40]\n"
     ]
    },
    {
     "name": "stderr",
     "output_type": "stream",
     "text": [
      "100%|██████████| 69/69 [01:13<00:00,  1.07s/it, gp=0.0072, loss_d=1.04, loss_g=-1.47]   \n"
     ]
    },
    {
     "name": "stdout",
     "output_type": "stream",
     "text": [
      "Epoch[5 / 40]\n"
     ]
    },
    {
     "name": "stderr",
     "output_type": "stream",
     "text": [
      "100%|██████████| 69/69 [01:10<00:00,  1.03s/it, gp=0.0216, loss_d=1.1, loss_g=-0.666]   \n"
     ]
    },
    {
     "name": "stdout",
     "output_type": "stream",
     "text": [
      "Epoch[6 / 40]\n"
     ]
    },
    {
     "name": "stderr",
     "output_type": "stream",
     "text": [
      "100%|██████████| 69/69 [01:12<00:00,  1.05s/it, gp=0.00967, loss_d=0.918, loss_g=0.977]  \n"
     ]
    },
    {
     "name": "stdout",
     "output_type": "stream",
     "text": [
      "Epoch[7 / 40]\n"
     ]
    },
    {
     "name": "stderr",
     "output_type": "stream",
     "text": [
      "100%|██████████| 69/69 [01:12<00:00,  1.04s/it, gp=0.00369, loss_d=0.806, loss_g=1.9]    \n"
     ]
    },
    {
     "name": "stdout",
     "output_type": "stream",
     "text": [
      "Epoch[8 / 40]\n"
     ]
    },
    {
     "name": "stderr",
     "output_type": "stream",
     "text": [
      "100%|██████████| 69/69 [01:13<00:00,  1.07s/it, gp=0.00379, loss_d=1.02, loss_g=1.23]   \n"
     ]
    },
    {
     "name": "stdout",
     "output_type": "stream",
     "text": [
      "Epoch[9 / 40]\n"
     ]
    },
    {
     "name": "stderr",
     "output_type": "stream",
     "text": [
      "100%|██████████| 69/69 [01:13<00:00,  1.07s/it, gp=0.00145, loss_d=0.704, loss_g=-0.479] \n"
     ]
    },
    {
     "name": "stdout",
     "output_type": "stream",
     "text": [
      "Epoch[10 / 40]\n"
     ]
    },
    {
     "name": "stderr",
     "output_type": "stream",
     "text": [
      "100%|██████████| 69/69 [01:13<00:00,  1.07s/it, gp=0.00386, loss_d=0.767, loss_g=-0.517]  \n"
     ]
    },
    {
     "name": "stdout",
     "output_type": "stream",
     "text": [
      "Models were stored.\n",
      "Saved loss log.\n",
      "Epoch[11 / 40]\n"
     ]
    },
    {
     "name": "stderr",
     "output_type": "stream",
     "text": [
      "100%|██████████| 69/69 [01:14<00:00,  1.08s/it, gp=0.011, loss_d=0.69, loss_g=-3.29]     \n"
     ]
    },
    {
     "name": "stdout",
     "output_type": "stream",
     "text": [
      "Epoch[12 / 40]\n"
     ]
    },
    {
     "name": "stderr",
     "output_type": "stream",
     "text": [
      "100%|██████████| 69/69 [01:14<00:00,  1.08s/it, gp=0.0104, loss_d=0.763, loss_g=-1.21]  \n"
     ]
    },
    {
     "name": "stdout",
     "output_type": "stream",
     "text": [
      "Epoch[13 / 40]\n"
     ]
    },
    {
     "name": "stderr",
     "output_type": "stream",
     "text": [
      "100%|██████████| 69/69 [01:12<00:00,  1.05s/it, gp=0.00457, loss_d=0.874, loss_g=0.315]  \n"
     ]
    },
    {
     "name": "stdout",
     "output_type": "stream",
     "text": [
      "Epoch[14 / 40]\n"
     ]
    },
    {
     "name": "stderr",
     "output_type": "stream",
     "text": [
      "100%|██████████| 69/69 [01:09<00:00,  1.01s/it, gp=0.00226, loss_d=0.764, loss_g=0.169]  \n"
     ]
    },
    {
     "name": "stdout",
     "output_type": "stream",
     "text": [
      "Epoch[15 / 40]\n"
     ]
    },
    {
     "name": "stderr",
     "output_type": "stream",
     "text": [
      "100%|██████████| 69/69 [01:12<00:00,  1.05s/it, gp=0.02, loss_d=0.732, loss_g=-0.933]    \n"
     ]
    },
    {
     "name": "stdout",
     "output_type": "stream",
     "text": [
      "Epoch[16 / 40]\n"
     ]
    },
    {
     "name": "stderr",
     "output_type": "stream",
     "text": [
      "100%|██████████| 69/69 [01:14<00:00,  1.09s/it, gp=0.00573, loss_d=0.657, loss_g=-1.3]   \n"
     ]
    },
    {
     "name": "stdout",
     "output_type": "stream",
     "text": [
      "Epoch[17 / 40]\n"
     ]
    },
    {
     "name": "stderr",
     "output_type": "stream",
     "text": [
      "100%|██████████| 69/69 [01:13<00:00,  1.07s/it, gp=0.00548, loss_d=0.738, loss_g=-0.647] \n"
     ]
    },
    {
     "name": "stdout",
     "output_type": "stream",
     "text": [
      "Epoch[18 / 40]\n"
     ]
    },
    {
     "name": "stderr",
     "output_type": "stream",
     "text": [
      "100%|██████████| 69/69 [01:13<00:00,  1.07s/it, gp=0.00719, loss_d=0.529, loss_g=-0.635]\n"
     ]
    },
    {
     "name": "stdout",
     "output_type": "stream",
     "text": [
      "Epoch[19 / 40]\n"
     ]
    },
    {
     "name": "stderr",
     "output_type": "stream",
     "text": [
      "100%|██████████| 69/69 [01:13<00:00,  1.07s/it, gp=0.0151, loss_d=0.558, loss_g=-1.82]  \n"
     ]
    },
    {
     "name": "stdout",
     "output_type": "stream",
     "text": [
      "Epoch[20 / 40]\n"
     ]
    },
    {
     "name": "stderr",
     "output_type": "stream",
     "text": [
      "100%|██████████| 69/69 [01:14<00:00,  1.07s/it, gp=0.0254, loss_d=0.723, loss_g=0.241]   \n"
     ]
    },
    {
     "name": "stdout",
     "output_type": "stream",
     "text": [
      "Models were stored.\n",
      "Saved loss log.\n",
      "Epoch[21 / 40]\n"
     ]
    },
    {
     "name": "stderr",
     "output_type": "stream",
     "text": [
      "100%|██████████| 69/69 [01:13<00:00,  1.07s/it, gp=0.00531, loss_d=0.464, loss_g=-2.49]  \n"
     ]
    },
    {
     "name": "stdout",
     "output_type": "stream",
     "text": [
      "Epoch[22 / 40]\n"
     ]
    },
    {
     "name": "stderr",
     "output_type": "stream",
     "text": [
      "100%|██████████| 69/69 [01:11<00:00,  1.04s/it, gp=0.0116, loss_d=0.481, loss_g=-1.63]   \n"
     ]
    },
    {
     "name": "stdout",
     "output_type": "stream",
     "text": [
      "Epoch[23 / 40]\n"
     ]
    },
    {
     "name": "stderr",
     "output_type": "stream",
     "text": [
      "100%|██████████| 69/69 [01:10<00:00,  1.02s/it, gp=0.0324, loss_d=0.683, loss_g=-2.16]   \n"
     ]
    },
    {
     "name": "stdout",
     "output_type": "stream",
     "text": [
      "Epoch[24 / 40]\n"
     ]
    },
    {
     "name": "stderr",
     "output_type": "stream",
     "text": [
      "100%|██████████| 69/69 [01:13<00:00,  1.06s/it, gp=0.0109, loss_d=1.17, loss_g=2.45]    \n"
     ]
    },
    {
     "name": "stdout",
     "output_type": "stream",
     "text": [
      "Epoch[25 / 40]\n"
     ]
    },
    {
     "name": "stderr",
     "output_type": "stream",
     "text": [
      "100%|██████████| 69/69 [01:13<00:00,  1.07s/it, gp=0.00821, loss_d=0.523, loss_g=-1.05]  \n"
     ]
    },
    {
     "name": "stdout",
     "output_type": "stream",
     "text": [
      "Epoch[26 / 40]\n"
     ]
    },
    {
     "name": "stderr",
     "output_type": "stream",
     "text": [
      "100%|██████████| 69/69 [01:14<00:00,  1.08s/it, gp=0.0073, loss_d=0.577, loss_g=-0.993]  \n"
     ]
    },
    {
     "name": "stdout",
     "output_type": "stream",
     "text": [
      "Epoch[27 / 40]\n"
     ]
    },
    {
     "name": "stderr",
     "output_type": "stream",
     "text": [
      "100%|██████████| 69/69 [01:13<00:00,  1.07s/it, gp=0.0055, loss_d=0.646, loss_g=-1.05]  \n"
     ]
    },
    {
     "name": "stdout",
     "output_type": "stream",
     "text": [
      "Epoch[28 / 40]\n"
     ]
    },
    {
     "name": "stderr",
     "output_type": "stream",
     "text": [
      "100%|██████████| 69/69 [01:13<00:00,  1.06s/it, gp=0.0132, loss_d=0.684, loss_g=0.33]   \n"
     ]
    },
    {
     "name": "stdout",
     "output_type": "stream",
     "text": [
      "Epoch[29 / 40]\n"
     ]
    },
    {
     "name": "stderr",
     "output_type": "stream",
     "text": [
      "100%|██████████| 69/69 [01:13<00:00,  1.07s/it, gp=0.0131, loss_d=0.678, loss_g=0.774]   \n"
     ]
    },
    {
     "name": "stdout",
     "output_type": "stream",
     "text": [
      "Epoch[30 / 40]\n"
     ]
    },
    {
     "name": "stderr",
     "output_type": "stream",
     "text": [
      "100%|██████████| 69/69 [01:11<00:00,  1.03s/it, gp=0.00832, loss_d=0.641, loss_g=-0.415]\n"
     ]
    },
    {
     "name": "stdout",
     "output_type": "stream",
     "text": [
      "Models were stored.\n",
      "Saved loss log.\n",
      "Epoch[31 / 40]\n"
     ]
    },
    {
     "name": "stderr",
     "output_type": "stream",
     "text": [
      "100%|██████████| 69/69 [01:12<00:00,  1.04s/it, gp=0.00856, loss_d=0.835, loss_g=-1.47] \n"
     ]
    },
    {
     "name": "stdout",
     "output_type": "stream",
     "text": [
      "Epoch[32 / 40]\n"
     ]
    },
    {
     "name": "stderr",
     "output_type": "stream",
     "text": [
      "100%|██████████| 69/69 [01:13<00:00,  1.07s/it, gp=0.011, loss_d=0.572, loss_g=-0.345]  \n"
     ]
    },
    {
     "name": "stdout",
     "output_type": "stream",
     "text": [
      "Epoch[33 / 40]\n"
     ]
    },
    {
     "name": "stderr",
     "output_type": "stream",
     "text": [
      "100%|██████████| 69/69 [01:13<00:00,  1.06s/it, gp=0.00303, loss_d=0.474, loss_g=-0.25] \n"
     ]
    },
    {
     "name": "stdout",
     "output_type": "stream",
     "text": [
      "Epoch[34 / 40]\n"
     ]
    },
    {
     "name": "stderr",
     "output_type": "stream",
     "text": [
      "100%|██████████| 69/69 [01:14<00:00,  1.08s/it, gp=0.00682, loss_d=0.647, loss_g=-1.01]  \n"
     ]
    },
    {
     "name": "stdout",
     "output_type": "stream",
     "text": [
      "Epoch[35 / 40]\n"
     ]
    },
    {
     "name": "stderr",
     "output_type": "stream",
     "text": [
      "100%|██████████| 69/69 [01:15<00:00,  1.09s/it, gp=0.0155, loss_d=0.627, loss_g=-1.42]   \n"
     ]
    },
    {
     "name": "stdout",
     "output_type": "stream",
     "text": [
      "Epoch[36 / 40]\n"
     ]
    },
    {
     "name": "stderr",
     "output_type": "stream",
     "text": [
      "100%|██████████| 69/69 [01:14<00:00,  1.09s/it, gp=0.00497, loss_d=0.52, loss_g=-0.59]   \n"
     ]
    },
    {
     "name": "stdout",
     "output_type": "stream",
     "text": [
      "Epoch[37 / 40]\n"
     ]
    },
    {
     "name": "stderr",
     "output_type": "stream",
     "text": [
      "100%|██████████| 69/69 [01:14<00:00,  1.08s/it, gp=0.00511, loss_d=0.75, loss_g=0.858]  \n"
     ]
    },
    {
     "name": "stdout",
     "output_type": "stream",
     "text": [
      "Epoch[38 / 40]\n"
     ]
    },
    {
     "name": "stderr",
     "output_type": "stream",
     "text": [
      "100%|██████████| 69/69 [01:10<00:00,  1.02s/it, gp=0.00849, loss_d=0.571, loss_g=-0.316] \n"
     ]
    },
    {
     "name": "stdout",
     "output_type": "stream",
     "text": [
      "Epoch[39 / 40]\n"
     ]
    },
    {
     "name": "stderr",
     "output_type": "stream",
     "text": [
      "100%|██████████| 69/69 [01:12<00:00,  1.05s/it, gp=0.00378, loss_d=0.555, loss_g=-1.17]  \n"
     ]
    },
    {
     "name": "stdout",
     "output_type": "stream",
     "text": [
      "Epoch[40 / 40]\n"
     ]
    },
    {
     "name": "stderr",
     "output_type": "stream",
     "text": [
      "100%|██████████| 69/69 [01:11<00:00,  1.04s/it, gp=0.00257, loss_d=0.531, loss_g=-0.198] \n"
     ]
    },
    {
     "name": "stdout",
     "output_type": "stream",
     "text": [
      "Models were stored.\n",
      "Saved loss log.\n",
      "Current Image Size: 32\n",
      "Epoch[1 / 60]\n"
     ]
    },
    {
     "name": "stderr",
     "output_type": "stream",
     "text": [
      "100%|██████████| 137/137 [02:05<00:00,  1.09it/s, gp=0.0126, loss_d=0.797, loss_g=-0.247] \n"
     ]
    },
    {
     "name": "stdout",
     "output_type": "stream",
     "text": [
      "Epoch[2 / 60]\n"
     ]
    },
    {
     "name": "stderr",
     "output_type": "stream",
     "text": [
      "100%|██████████| 137/137 [02:04<00:00,  1.10it/s, gp=0.0227, loss_d=1.07, loss_g=-0.575] \n"
     ]
    },
    {
     "name": "stdout",
     "output_type": "stream",
     "text": [
      "Epoch[3 / 60]\n"
     ]
    },
    {
     "name": "stderr",
     "output_type": "stream",
     "text": [
      "100%|██████████| 137/137 [02:05<00:00,  1.09it/s, gp=0.00974, loss_d=1.19, loss_g=0.53]  \n"
     ]
    },
    {
     "name": "stdout",
     "output_type": "stream",
     "text": [
      "Epoch[4 / 60]\n"
     ]
    },
    {
     "name": "stderr",
     "output_type": "stream",
     "text": [
      "100%|██████████| 137/137 [02:02<00:00,  1.12it/s, gp=0.0086, loss_d=0.83, loss_g=-0.486]   \n"
     ]
    },
    {
     "name": "stdout",
     "output_type": "stream",
     "text": [
      "Epoch[5 / 60]\n"
     ]
    },
    {
     "name": "stderr",
     "output_type": "stream",
     "text": [
      "100%|██████████| 137/137 [02:01<00:00,  1.13it/s, gp=0.00754, loss_d=0.819, loss_g=-0.754] \n"
     ]
    },
    {
     "name": "stdout",
     "output_type": "stream",
     "text": [
      "Epoch[6 / 60]\n"
     ]
    },
    {
     "name": "stderr",
     "output_type": "stream",
     "text": [
      "100%|██████████| 137/137 [02:04<00:00,  1.10it/s, gp=0.00326, loss_d=1.11, loss_g=-0.463] \n"
     ]
    },
    {
     "name": "stdout",
     "output_type": "stream",
     "text": [
      "Epoch[7 / 60]\n"
     ]
    },
    {
     "name": "stderr",
     "output_type": "stream",
     "text": [
      "100%|██████████| 137/137 [02:04<00:00,  1.10it/s, gp=0.002, loss_d=0.807, loss_g=0.0152]  \n"
     ]
    },
    {
     "name": "stdout",
     "output_type": "stream",
     "text": [
      "Epoch[8 / 60]\n"
     ]
    },
    {
     "name": "stderr",
     "output_type": "stream",
     "text": [
      "100%|██████████| 137/137 [02:03<00:00,  1.11it/s, gp=0.00365, loss_d=0.788, loss_g=-2.49]\n"
     ]
    },
    {
     "name": "stdout",
     "output_type": "stream",
     "text": [
      "Epoch[9 / 60]\n"
     ]
    },
    {
     "name": "stderr",
     "output_type": "stream",
     "text": [
      "100%|██████████| 137/137 [02:02<00:00,  1.12it/s, gp=0.00467, loss_d=0.99, loss_g=-1.43]  \n"
     ]
    },
    {
     "name": "stdout",
     "output_type": "stream",
     "text": [
      "Epoch[10 / 60]\n"
     ]
    },
    {
     "name": "stderr",
     "output_type": "stream",
     "text": [
      "100%|██████████| 137/137 [02:03<00:00,  1.11it/s, gp=0.00509, loss_d=0.88, loss_g=-2.19]   \n"
     ]
    },
    {
     "name": "stdout",
     "output_type": "stream",
     "text": [
      "Models were stored.\n",
      "Saved loss log.\n",
      "Epoch[11 / 60]\n"
     ]
    },
    {
     "name": "stderr",
     "output_type": "stream",
     "text": [
      "100%|██████████| 137/137 [02:04<00:00,  1.10it/s, gp=0.0175, loss_d=0.726, loss_g=-3.36]  \n"
     ]
    },
    {
     "name": "stdout",
     "output_type": "stream",
     "text": [
      "Epoch[12 / 60]\n"
     ]
    },
    {
     "name": "stderr",
     "output_type": "stream",
     "text": [
      "100%|██████████| 137/137 [02:05<00:00,  1.09it/s, gp=0.0049, loss_d=0.657, loss_g=0.406]  \n"
     ]
    },
    {
     "name": "stdout",
     "output_type": "stream",
     "text": [
      "Epoch[13 / 60]\n"
     ]
    },
    {
     "name": "stderr",
     "output_type": "stream",
     "text": [
      "100%|██████████| 137/137 [02:03<00:00,  1.11it/s, gp=0.0194, loss_d=0.651, loss_g=-0.82]  \n"
     ]
    },
    {
     "name": "stdout",
     "output_type": "stream",
     "text": [
      "Epoch[14 / 60]\n"
     ]
    },
    {
     "name": "stderr",
     "output_type": "stream",
     "text": [
      "100%|██████████| 137/137 [02:02<00:00,  1.12it/s, gp=0.0267, loss_d=1.59, loss_g=1.82]    \n"
     ]
    },
    {
     "name": "stdout",
     "output_type": "stream",
     "text": [
      "Epoch[15 / 60]\n"
     ]
    },
    {
     "name": "stderr",
     "output_type": "stream",
     "text": [
      "100%|██████████| 137/137 [02:04<00:00,  1.10it/s, gp=0.00727, loss_d=0.617, loss_g=1.11]   \n"
     ]
    },
    {
     "name": "stdout",
     "output_type": "stream",
     "text": [
      "Epoch[16 / 60]\n"
     ]
    },
    {
     "name": "stderr",
     "output_type": "stream",
     "text": [
      "100%|██████████| 137/137 [02:04<00:00,  1.10it/s, gp=0.0552, loss_d=1.13, loss_g=-0.768]  \n"
     ]
    },
    {
     "name": "stdout",
     "output_type": "stream",
     "text": [
      "Epoch[17 / 60]\n"
     ]
    },
    {
     "name": "stderr",
     "output_type": "stream",
     "text": [
      "100%|██████████| 137/137 [02:04<00:00,  1.10it/s, gp=0.0082, loss_d=0.623, loss_g=-1.46]  \n"
     ]
    },
    {
     "name": "stdout",
     "output_type": "stream",
     "text": [
      "Epoch[18 / 60]\n"
     ]
    },
    {
     "name": "stderr",
     "output_type": "stream",
     "text": [
      "100%|██████████| 137/137 [02:03<00:00,  1.11it/s, gp=0.00764, loss_d=0.592, loss_g=-1.29]  \n"
     ]
    },
    {
     "name": "stdout",
     "output_type": "stream",
     "text": [
      "Epoch[19 / 60]\n"
     ]
    },
    {
     "name": "stderr",
     "output_type": "stream",
     "text": [
      "100%|██████████| 137/137 [02:01<00:00,  1.12it/s, gp=0.0226, loss_d=0.727, loss_g=1.37]    \n"
     ]
    },
    {
     "name": "stdout",
     "output_type": "stream",
     "text": [
      "Epoch[20 / 60]\n"
     ]
    },
    {
     "name": "stderr",
     "output_type": "stream",
     "text": [
      "100%|██████████| 137/137 [02:04<00:00,  1.10it/s, gp=0.00482, loss_d=0.624, loss_g=-1.18] \n"
     ]
    },
    {
     "name": "stdout",
     "output_type": "stream",
     "text": [
      "Models were stored.\n",
      "Saved loss log.\n",
      "Epoch[21 / 60]\n"
     ]
    },
    {
     "name": "stderr",
     "output_type": "stream",
     "text": [
      "100%|██████████| 137/137 [02:04<00:00,  1.10it/s, gp=0.00438, loss_d=0.701, loss_g=-0.156] \n"
     ]
    },
    {
     "name": "stdout",
     "output_type": "stream",
     "text": [
      "Epoch[22 / 60]\n"
     ]
    },
    {
     "name": "stderr",
     "output_type": "stream",
     "text": [
      "100%|██████████| 137/137 [02:04<00:00,  1.10it/s, gp=0.0164, loss_d=0.549, loss_g=-1.41]  \n"
     ]
    },
    {
     "name": "stdout",
     "output_type": "stream",
     "text": [
      "Epoch[23 / 60]\n"
     ]
    },
    {
     "name": "stderr",
     "output_type": "stream",
     "text": [
      "100%|██████████| 137/137 [02:02<00:00,  1.12it/s, gp=0.0114, loss_d=0.539, loss_g=-0.503] \n"
     ]
    },
    {
     "name": "stdout",
     "output_type": "stream",
     "text": [
      "Epoch[24 / 60]\n"
     ]
    },
    {
     "name": "stderr",
     "output_type": "stream",
     "text": [
      "100%|██████████| 137/137 [02:01<00:00,  1.12it/s, gp=0.0108, loss_d=0.414, loss_g=-0.545]  \n"
     ]
    },
    {
     "name": "stdout",
     "output_type": "stream",
     "text": [
      "Epoch[25 / 60]\n"
     ]
    },
    {
     "name": "stderr",
     "output_type": "stream",
     "text": [
      "100%|██████████| 137/137 [02:04<00:00,  1.10it/s, gp=0.0164, loss_d=0.603, loss_g=-0.0983]\n"
     ]
    },
    {
     "name": "stdout",
     "output_type": "stream",
     "text": [
      "Epoch[26 / 60]\n"
     ]
    },
    {
     "name": "stderr",
     "output_type": "stream",
     "text": [
      "100%|██████████| 137/137 [02:05<00:00,  1.09it/s, gp=0.00531, loss_d=0.361, loss_g=-0.0504]\n"
     ]
    },
    {
     "name": "stdout",
     "output_type": "stream",
     "text": [
      "Epoch[27 / 60]\n"
     ]
    },
    {
     "name": "stderr",
     "output_type": "stream",
     "text": [
      "100%|██████████| 137/137 [02:05<00:00,  1.09it/s, gp=0.00574, loss_d=0.463, loss_g=0.702]  \n"
     ]
    },
    {
     "name": "stdout",
     "output_type": "stream",
     "text": [
      "Epoch[28 / 60]\n"
     ]
    },
    {
     "name": "stderr",
     "output_type": "stream",
     "text": [
      "100%|██████████| 137/137 [02:02<00:00,  1.12it/s, gp=0.0228, loss_d=0.626, loss_g=-1.03]   \n"
     ]
    },
    {
     "name": "stdout",
     "output_type": "stream",
     "text": [
      "Epoch[29 / 60]\n"
     ]
    },
    {
     "name": "stderr",
     "output_type": "stream",
     "text": [
      "100%|██████████| 137/137 [02:01<00:00,  1.12it/s, gp=0.0346, loss_d=1.73, loss_g=0.167]   \n"
     ]
    },
    {
     "name": "stdout",
     "output_type": "stream",
     "text": [
      "Epoch[30 / 60]\n"
     ]
    },
    {
     "name": "stderr",
     "output_type": "stream",
     "text": [
      "100%|██████████| 137/137 [02:05<00:00,  1.10it/s, gp=0.00875, loss_d=0.371, loss_g=-0.769]\n"
     ]
    },
    {
     "name": "stdout",
     "output_type": "stream",
     "text": [
      "Models were stored.\n",
      "Saved loss log.\n",
      "Epoch[31 / 60]\n"
     ]
    },
    {
     "name": "stderr",
     "output_type": "stream",
     "text": [
      "100%|██████████| 137/137 [02:04<00:00,  1.10it/s, gp=0.00387, loss_d=0.513, loss_g=1.32]   \n"
     ]
    },
    {
     "name": "stdout",
     "output_type": "stream",
     "text": [
      "Epoch[32 / 60]\n"
     ]
    },
    {
     "name": "stderr",
     "output_type": "stream",
     "text": [
      "100%|██████████| 137/137 [02:04<00:00,  1.10it/s, gp=0.01, loss_d=0.7, loss_g=-1.21]       \n"
     ]
    },
    {
     "name": "stdout",
     "output_type": "stream",
     "text": [
      "Epoch[33 / 60]\n"
     ]
    },
    {
     "name": "stderr",
     "output_type": "stream",
     "text": [
      "100%|██████████| 137/137 [02:02<00:00,  1.12it/s, gp=0.0276, loss_d=1.4, loss_g=-2.58]    \n"
     ]
    },
    {
     "name": "stdout",
     "output_type": "stream",
     "text": [
      "Epoch[34 / 60]\n"
     ]
    },
    {
     "name": "stderr",
     "output_type": "stream",
     "text": [
      "100%|██████████| 137/137 [02:01<00:00,  1.13it/s, gp=0.00671, loss_d=0.815, loss_g=-0.599]  \n"
     ]
    },
    {
     "name": "stdout",
     "output_type": "stream",
     "text": [
      "Epoch[35 / 60]\n"
     ]
    },
    {
     "name": "stderr",
     "output_type": "stream",
     "text": [
      "100%|██████████| 137/137 [02:04<00:00,  1.10it/s, gp=0.00776, loss_d=1.08, loss_g=-0.444]  \n"
     ]
    },
    {
     "name": "stdout",
     "output_type": "stream",
     "text": [
      "Epoch[36 / 60]\n"
     ]
    },
    {
     "name": "stderr",
     "output_type": "stream",
     "text": [
      "100%|██████████| 137/137 [02:04<00:00,  1.10it/s, gp=0.0107, loss_d=0.858, loss_g=-0.841]  \n"
     ]
    },
    {
     "name": "stdout",
     "output_type": "stream",
     "text": [
      "Epoch[37 / 60]\n"
     ]
    },
    {
     "name": "stderr",
     "output_type": "stream",
     "text": [
      "100%|██████████| 137/137 [02:04<00:00,  1.10it/s, gp=0.00695, loss_d=0.575, loss_g=-0.326]  \n"
     ]
    },
    {
     "name": "stdout",
     "output_type": "stream",
     "text": [
      "Epoch[38 / 60]\n"
     ]
    },
    {
     "name": "stderr",
     "output_type": "stream",
     "text": [
      "100%|██████████| 137/137 [02:01<00:00,  1.13it/s, gp=0.00894, loss_d=0.558, loss_g=-0.856]  \n"
     ]
    },
    {
     "name": "stdout",
     "output_type": "stream",
     "text": [
      "Epoch[39 / 60]\n"
     ]
    },
    {
     "name": "stderr",
     "output_type": "stream",
     "text": [
      "100%|██████████| 137/137 [02:03<00:00,  1.11it/s, gp=0.0157, loss_d=0.576, loss_g=1.41]    \n"
     ]
    },
    {
     "name": "stdout",
     "output_type": "stream",
     "text": [
      "Epoch[40 / 60]\n"
     ]
    },
    {
     "name": "stderr",
     "output_type": "stream",
     "text": [
      "100%|██████████| 137/137 [02:04<00:00,  1.10it/s, gp=0.0142, loss_d=0.586, loss_g=1.14]    \n"
     ]
    },
    {
     "name": "stdout",
     "output_type": "stream",
     "text": [
      "Models were stored.\n",
      "Saved loss log.\n",
      "Epoch[41 / 60]\n"
     ]
    },
    {
     "name": "stderr",
     "output_type": "stream",
     "text": [
      "100%|██████████| 137/137 [02:05<00:00,  1.09it/s, gp=0.00555, loss_d=0.735, loss_g=-5.82]  \n"
     ]
    },
    {
     "name": "stdout",
     "output_type": "stream",
     "text": [
      "Epoch[42 / 60]\n"
     ]
    },
    {
     "name": "stderr",
     "output_type": "stream",
     "text": [
      "100%|██████████| 137/137 [02:03<00:00,  1.11it/s, gp=0.026, loss_d=1.65, loss_g=-0.689]  \n"
     ]
    },
    {
     "name": "stdout",
     "output_type": "stream",
     "text": [
      "Epoch[43 / 60]\n"
     ]
    },
    {
     "name": "stderr",
     "output_type": "stream",
     "text": [
      "100%|██████████| 137/137 [02:00<00:00,  1.14it/s, gp=0.0127, loss_d=0.975, loss_g=-1.88]\n"
     ]
    },
    {
     "name": "stdout",
     "output_type": "stream",
     "text": [
      "Epoch[44 / 60]\n"
     ]
    },
    {
     "name": "stderr",
     "output_type": "stream",
     "text": [
      "100%|██████████| 137/137 [02:03<00:00,  1.11it/s, gp=0.0104, loss_d=0.856, loss_g=-0.64]   \n"
     ]
    },
    {
     "name": "stdout",
     "output_type": "stream",
     "text": [
      "Epoch[45 / 60]\n"
     ]
    },
    {
     "name": "stderr",
     "output_type": "stream",
     "text": [
      "100%|██████████| 137/137 [02:01<00:00,  1.13it/s, gp=0.00831, loss_d=0.612, loss_g=-1.07] \n"
     ]
    },
    {
     "name": "stdout",
     "output_type": "stream",
     "text": [
      "Epoch[46 / 60]\n"
     ]
    },
    {
     "name": "stderr",
     "output_type": "stream",
     "text": [
      "100%|██████████| 137/137 [01:59<00:00,  1.15it/s, gp=0.00718, loss_d=0.518, loss_g=-0.432] \n"
     ]
    },
    {
     "name": "stdout",
     "output_type": "stream",
     "text": [
      "Epoch[47 / 60]\n"
     ]
    },
    {
     "name": "stderr",
     "output_type": "stream",
     "text": [
      "100%|██████████| 137/137 [01:58<00:00,  1.15it/s, gp=0.00604, loss_d=0.436, loss_g=1.83]  \n"
     ]
    },
    {
     "name": "stdout",
     "output_type": "stream",
     "text": [
      "Epoch[48 / 60]\n"
     ]
    },
    {
     "name": "stderr",
     "output_type": "stream",
     "text": [
      "100%|██████████| 137/137 [01:58<00:00,  1.16it/s, gp=0.0142, loss_d=0.44, loss_g=-1.74]    \n"
     ]
    },
    {
     "name": "stdout",
     "output_type": "stream",
     "text": [
      "Epoch[49 / 60]\n"
     ]
    },
    {
     "name": "stderr",
     "output_type": "stream",
     "text": [
      "100%|██████████| 137/137 [01:58<00:00,  1.16it/s, gp=0.0138, loss_d=0.537, loss_g=-3.19]  \n"
     ]
    },
    {
     "name": "stdout",
     "output_type": "stream",
     "text": [
      "Epoch[50 / 60]\n"
     ]
    },
    {
     "name": "stderr",
     "output_type": "stream",
     "text": [
      "100%|██████████| 137/137 [01:58<00:00,  1.16it/s, gp=0.0108, loss_d=0.391, loss_g=-3.76]  \n"
     ]
    },
    {
     "name": "stdout",
     "output_type": "stream",
     "text": [
      "Models were stored.\n",
      "Saved loss log.\n",
      "Epoch[51 / 60]\n"
     ]
    },
    {
     "name": "stderr",
     "output_type": "stream",
     "text": [
      "100%|██████████| 137/137 [01:57<00:00,  1.17it/s, gp=0.0275, loss_d=1.78, loss_g=-0.0234]  \n"
     ]
    },
    {
     "name": "stdout",
     "output_type": "stream",
     "text": [
      "Epoch[52 / 60]\n"
     ]
    },
    {
     "name": "stderr",
     "output_type": "stream",
     "text": [
      "100%|██████████| 137/137 [01:57<00:00,  1.16it/s, gp=0.00677, loss_d=0.685, loss_g=-1.85]   \n"
     ]
    },
    {
     "name": "stdout",
     "output_type": "stream",
     "text": [
      "Epoch[53 / 60]\n"
     ]
    },
    {
     "name": "stderr",
     "output_type": "stream",
     "text": [
      "100%|██████████| 137/137 [01:57<00:00,  1.17it/s, gp=0.0067, loss_d=0.549, loss_g=0.272]  \n"
     ]
    },
    {
     "name": "stdout",
     "output_type": "stream",
     "text": [
      "Epoch[54 / 60]\n"
     ]
    },
    {
     "name": "stderr",
     "output_type": "stream",
     "text": [
      "100%|██████████| 137/137 [01:57<00:00,  1.17it/s, gp=0.00843, loss_d=0.647, loss_g=-1.85] \n"
     ]
    },
    {
     "name": "stdout",
     "output_type": "stream",
     "text": [
      "Epoch[55 / 60]\n"
     ]
    },
    {
     "name": "stderr",
     "output_type": "stream",
     "text": [
      "100%|██████████| 137/137 [01:57<00:00,  1.17it/s, gp=0.0128, loss_d=0.707, loss_g=-0.66]   \n"
     ]
    },
    {
     "name": "stdout",
     "output_type": "stream",
     "text": [
      "Epoch[56 / 60]\n"
     ]
    },
    {
     "name": "stderr",
     "output_type": "stream",
     "text": [
      "100%|██████████| 137/137 [01:57<00:00,  1.16it/s, gp=0.0486, loss_d=0.647, loss_g=2.13]   \n"
     ]
    },
    {
     "name": "stdout",
     "output_type": "stream",
     "text": [
      "Epoch[57 / 60]\n"
     ]
    },
    {
     "name": "stderr",
     "output_type": "stream",
     "text": [
      "100%|██████████| 137/137 [01:57<00:00,  1.17it/s, gp=0.0209, loss_d=0.71, loss_g=-0.988]   \n"
     ]
    },
    {
     "name": "stdout",
     "output_type": "stream",
     "text": [
      "Epoch[58 / 60]\n"
     ]
    },
    {
     "name": "stderr",
     "output_type": "stream",
     "text": [
      "100%|██████████| 137/137 [01:57<00:00,  1.17it/s, gp=0.0166, loss_d=0.662, loss_g=-2.11]   \n"
     ]
    },
    {
     "name": "stdout",
     "output_type": "stream",
     "text": [
      "Epoch[59 / 60]\n"
     ]
    },
    {
     "name": "stderr",
     "output_type": "stream",
     "text": [
      "100%|██████████| 137/137 [01:57<00:00,  1.17it/s, gp=0.0347, loss_d=0.317, loss_g=2.09]    \n"
     ]
    },
    {
     "name": "stdout",
     "output_type": "stream",
     "text": [
      "Epoch[60 / 60]\n"
     ]
    },
    {
     "name": "stderr",
     "output_type": "stream",
     "text": [
      "100%|██████████| 137/137 [01:57<00:00,  1.17it/s, gp=0.0382, loss_d=0.465, loss_g=2.49]   \n"
     ]
    },
    {
     "name": "stdout",
     "output_type": "stream",
     "text": [
      "Models were stored.\n",
      "Saved loss log.\n",
      "Current Image Size: 64\n",
      "Epoch[1 / 80]\n"
     ]
    },
    {
     "name": "stderr",
     "output_type": "stream",
     "text": [
      "100%|██████████| 273/273 [03:26<00:00,  1.32it/s, gp=0.00849, loss_d=0.855, loss_g=-1.56]\n"
     ]
    },
    {
     "name": "stdout",
     "output_type": "stream",
     "text": [
      "Epoch[2 / 80]\n"
     ]
    },
    {
     "name": "stderr",
     "output_type": "stream",
     "text": [
      "100%|██████████| 273/273 [03:26<00:00,  1.32it/s, gp=0.00904, loss_d=0.693, loss_g=3.26]   \n"
     ]
    },
    {
     "name": "stdout",
     "output_type": "stream",
     "text": [
      "Epoch[3 / 80]\n"
     ]
    },
    {
     "name": "stderr",
     "output_type": "stream",
     "text": [
      "100%|██████████| 273/273 [03:24<00:00,  1.33it/s, gp=0.0103, loss_d=0.128, loss_g=3.91]    \n"
     ]
    },
    {
     "name": "stdout",
     "output_type": "stream",
     "text": [
      "Epoch[4 / 80]\n"
     ]
    },
    {
     "name": "stderr",
     "output_type": "stream",
     "text": [
      "100%|██████████| 273/273 [03:27<00:00,  1.32it/s, gp=0.0088, loss_d=-0.0587, loss_g=3.01]   \n"
     ]
    },
    {
     "name": "stdout",
     "output_type": "stream",
     "text": [
      "Epoch[5 / 80]\n"
     ]
    },
    {
     "name": "stderr",
     "output_type": "stream",
     "text": [
      "100%|██████████| 273/273 [03:27<00:00,  1.32it/s, gp=0.0117, loss_d=0.973, loss_g=-12.3]    \n"
     ]
    },
    {
     "name": "stdout",
     "output_type": "stream",
     "text": [
      "Epoch[6 / 80]\n"
     ]
    },
    {
     "name": "stderr",
     "output_type": "stream",
     "text": [
      "100%|██████████| 273/273 [03:26<00:00,  1.32it/s, gp=0.013, loss_d=-0.179, loss_g=-1.19]    \n"
     ]
    },
    {
     "name": "stdout",
     "output_type": "stream",
     "text": [
      "Epoch[7 / 80]\n"
     ]
    },
    {
     "name": "stderr",
     "output_type": "stream",
     "text": [
      "100%|██████████| 273/273 [03:36<00:00,  1.26it/s, gp=0.0245, loss_d=0.865, loss_g=16.5]     \n"
     ]
    },
    {
     "name": "stdout",
     "output_type": "stream",
     "text": [
      "Epoch[8 / 80]\n"
     ]
    },
    {
     "name": "stderr",
     "output_type": "stream",
     "text": [
      "100%|██████████| 273/273 [03:29<00:00,  1.30it/s, gp=0.00605, loss_d=1.7, loss_g=5.87]       \n"
     ]
    },
    {
     "name": "stdout",
     "output_type": "stream",
     "text": [
      "Epoch[9 / 80]\n"
     ]
    },
    {
     "name": "stderr",
     "output_type": "stream",
     "text": [
      "100%|██████████| 273/273 [03:32<00:00,  1.28it/s, gp=0.00885, loss_d=-0.252, loss_g=6.93]  \n"
     ]
    },
    {
     "name": "stdout",
     "output_type": "stream",
     "text": [
      "Epoch[10 / 80]\n"
     ]
    },
    {
     "name": "stderr",
     "output_type": "stream",
     "text": [
      "100%|██████████| 273/273 [03:29<00:00,  1.31it/s, gp=0.0227, loss_d=0.304, loss_g=-3.45]  \n"
     ]
    },
    {
     "name": "stdout",
     "output_type": "stream",
     "text": [
      "Models were stored.\n",
      "Saved loss log.\n",
      "Epoch[11 / 80]\n"
     ]
    },
    {
     "name": "stderr",
     "output_type": "stream",
     "text": [
      "100%|██████████| 273/273 [03:31<00:00,  1.29it/s, gp=0.0141, loss_d=-0.502, loss_g=4.96]   \n"
     ]
    },
    {
     "name": "stdout",
     "output_type": "stream",
     "text": [
      "Epoch[12 / 80]\n"
     ]
    },
    {
     "name": "stderr",
     "output_type": "stream",
     "text": [
      "100%|██████████| 273/273 [03:35<00:00,  1.27it/s, gp=0.00619, loss_d=-1.12, loss_g=-1.01]  \n"
     ]
    },
    {
     "name": "stdout",
     "output_type": "stream",
     "text": [
      "Epoch[13 / 80]\n"
     ]
    },
    {
     "name": "stderr",
     "output_type": "stream",
     "text": [
      "100%|██████████| 273/273 [03:35<00:00,  1.27it/s, gp=0.00849, loss_d=-1.47, loss_g=1.54]    \n"
     ]
    },
    {
     "name": "stdout",
     "output_type": "stream",
     "text": [
      "Epoch[14 / 80]\n"
     ]
    },
    {
     "name": "stderr",
     "output_type": "stream",
     "text": [
      "100%|██████████| 273/273 [03:35<00:00,  1.27it/s, gp=0.00725, loss_d=-0.998, loss_g=3.64]  \n"
     ]
    },
    {
     "name": "stdout",
     "output_type": "stream",
     "text": [
      "Epoch[15 / 80]\n"
     ]
    },
    {
     "name": "stderr",
     "output_type": "stream",
     "text": [
      "100%|██████████| 273/273 [03:35<00:00,  1.27it/s, gp=0.0059, loss_d=-1.27, loss_g=-3.12]   \n"
     ]
    },
    {
     "name": "stdout",
     "output_type": "stream",
     "text": [
      "Epoch[16 / 80]\n"
     ]
    },
    {
     "name": "stderr",
     "output_type": "stream",
     "text": [
      "100%|██████████| 273/273 [03:31<00:00,  1.29it/s, gp=0.0241, loss_d=1.36, loss_g=-2.1]     \n"
     ]
    },
    {
     "name": "stdout",
     "output_type": "stream",
     "text": [
      "Epoch[17 / 80]\n"
     ]
    },
    {
     "name": "stderr",
     "output_type": "stream",
     "text": [
      "100%|██████████| 273/273 [03:32<00:00,  1.29it/s, gp=0.0278, loss_d=-0.176, loss_g=1.98]   \n"
     ]
    },
    {
     "name": "stdout",
     "output_type": "stream",
     "text": [
      "Epoch[18 / 80]\n"
     ]
    },
    {
     "name": "stderr",
     "output_type": "stream",
     "text": [
      "100%|██████████| 273/273 [03:32<00:00,  1.28it/s, gp=0.111, loss_d=2.44, loss_g=2.24]      \n"
     ]
    },
    {
     "name": "stdout",
     "output_type": "stream",
     "text": [
      "Epoch[19 / 80]\n"
     ]
    },
    {
     "name": "stderr",
     "output_type": "stream",
     "text": [
      "100%|██████████| 273/273 [03:30<00:00,  1.30it/s, gp=0.0119, loss_d=-0.813, loss_g=-6.17]   \n"
     ]
    },
    {
     "name": "stdout",
     "output_type": "stream",
     "text": [
      "Epoch[20 / 80]\n"
     ]
    },
    {
     "name": "stderr",
     "output_type": "stream",
     "text": [
      "100%|██████████| 273/273 [03:32<00:00,  1.28it/s, gp=0.0429, loss_d=0.193, loss_g=11.6]    \n"
     ]
    },
    {
     "name": "stdout",
     "output_type": "stream",
     "text": [
      "Models were stored.\n",
      "Saved loss log.\n",
      "Epoch[21 / 80]\n"
     ]
    },
    {
     "name": "stderr",
     "output_type": "stream",
     "text": [
      "100%|██████████| 273/273 [03:32<00:00,  1.28it/s, gp=0.0113, loss_d=-1.43, loss_g=7.05]    \n"
     ]
    },
    {
     "name": "stdout",
     "output_type": "stream",
     "text": [
      "Epoch[22 / 80]\n"
     ]
    },
    {
     "name": "stderr",
     "output_type": "stream",
     "text": [
      "100%|██████████| 273/273 [03:29<00:00,  1.30it/s, gp=0.041, loss_d=-2.06, loss_g=11.4]    \n"
     ]
    },
    {
     "name": "stdout",
     "output_type": "stream",
     "text": [
      "Epoch[23 / 80]\n"
     ]
    },
    {
     "name": "stderr",
     "output_type": "stream",
     "text": [
      "100%|██████████| 273/273 [03:33<00:00,  1.28it/s, gp=0.00394, loss_d=-0.528, loss_g=-9]      \n"
     ]
    },
    {
     "name": "stdout",
     "output_type": "stream",
     "text": [
      "Epoch[24 / 80]\n"
     ]
    },
    {
     "name": "stderr",
     "output_type": "stream",
     "text": [
      "100%|██████████| 273/273 [03:32<00:00,  1.28it/s, gp=0.00991, loss_d=0.42, loss_g=-13.6]    \n"
     ]
    },
    {
     "name": "stdout",
     "output_type": "stream",
     "text": [
      "Epoch[25 / 80]\n"
     ]
    },
    {
     "name": "stderr",
     "output_type": "stream",
     "text": [
      "100%|██████████| 273/273 [03:30<00:00,  1.30it/s, gp=0.00346, loss_d=1.33, loss_g=3.55]    \n"
     ]
    },
    {
     "name": "stdout",
     "output_type": "stream",
     "text": [
      "Epoch[26 / 80]\n"
     ]
    },
    {
     "name": "stderr",
     "output_type": "stream",
     "text": [
      "100%|██████████| 273/273 [03:33<00:00,  1.28it/s, gp=0.022, loss_d=-1.11, loss_g=-4.78]     \n"
     ]
    },
    {
     "name": "stdout",
     "output_type": "stream",
     "text": [
      "Epoch[27 / 80]\n"
     ]
    },
    {
     "name": "stderr",
     "output_type": "stream",
     "text": [
      "100%|██████████| 273/273 [03:32<00:00,  1.28it/s, gp=0.0129, loss_d=-0.581, loss_g=-3.16]   \n"
     ]
    },
    {
     "name": "stdout",
     "output_type": "stream",
     "text": [
      "Epoch[28 / 80]\n"
     ]
    },
    {
     "name": "stderr",
     "output_type": "stream",
     "text": [
      "100%|██████████| 273/273 [03:30<00:00,  1.30it/s, gp=0.00695, loss_d=-0.111, loss_g=-8.24] \n"
     ]
    },
    {
     "name": "stdout",
     "output_type": "stream",
     "text": [
      "Epoch[29 / 80]\n"
     ]
    },
    {
     "name": "stderr",
     "output_type": "stream",
     "text": [
      "100%|██████████| 273/273 [03:33<00:00,  1.28it/s, gp=0.00778, loss_d=-0.807, loss_g=-2.2]  \n"
     ]
    },
    {
     "name": "stdout",
     "output_type": "stream",
     "text": [
      "Epoch[30 / 80]\n"
     ]
    },
    {
     "name": "stderr",
     "output_type": "stream",
     "text": [
      "100%|██████████| 273/273 [03:30<00:00,  1.29it/s, gp=0.0231, loss_d=-0.351, loss_g=0.139]   \n"
     ]
    },
    {
     "name": "stdout",
     "output_type": "stream",
     "text": [
      "Models were stored.\n",
      "Saved loss log.\n",
      "Epoch[31 / 80]\n"
     ]
    },
    {
     "name": "stderr",
     "output_type": "stream",
     "text": [
      "100%|██████████| 273/273 [03:31<00:00,  1.29it/s, gp=0.0295, loss_d=0.239, loss_g=-0.452]   \n"
     ]
    },
    {
     "name": "stdout",
     "output_type": "stream",
     "text": [
      "Epoch[32 / 80]\n"
     ]
    },
    {
     "name": "stderr",
     "output_type": "stream",
     "text": [
      "100%|██████████| 273/273 [03:33<00:00,  1.28it/s, gp=0.00628, loss_d=-0.758, loss_g=-0.603]  \n"
     ]
    },
    {
     "name": "stdout",
     "output_type": "stream",
     "text": [
      "Epoch[33 / 80]\n"
     ]
    },
    {
     "name": "stderr",
     "output_type": "stream",
     "text": [
      "100%|██████████| 273/273 [03:30<00:00,  1.30it/s, gp=0.00832, loss_d=-0.45, loss_g=-1.82]    \n"
     ]
    },
    {
     "name": "stdout",
     "output_type": "stream",
     "text": [
      "Epoch[34 / 80]\n"
     ]
    },
    {
     "name": "stderr",
     "output_type": "stream",
     "text": [
      "100%|██████████| 273/273 [03:33<00:00,  1.28it/s, gp=0.0289, loss_d=-0.697, loss_g=-4.35]  \n"
     ]
    },
    {
     "name": "stdout",
     "output_type": "stream",
     "text": [
      "Epoch[35 / 80]\n"
     ]
    },
    {
     "name": "stderr",
     "output_type": "stream",
     "text": [
      "100%|██████████| 273/273 [03:32<00:00,  1.29it/s, gp=0.00631, loss_d=-0.699, loss_g=-1.72]   \n"
     ]
    },
    {
     "name": "stdout",
     "output_type": "stream",
     "text": [
      "Epoch[36 / 80]\n"
     ]
    },
    {
     "name": "stderr",
     "output_type": "stream",
     "text": [
      "100%|██████████| 273/273 [03:30<00:00,  1.30it/s, gp=0.00417, loss_d=-1.01, loss_g=2.74]   \n"
     ]
    },
    {
     "name": "stdout",
     "output_type": "stream",
     "text": [
      "Epoch[37 / 80]\n"
     ]
    },
    {
     "name": "stderr",
     "output_type": "stream",
     "text": [
      "100%|██████████| 273/273 [03:32<00:00,  1.28it/s, gp=0.00987, loss_d=-0.657, loss_g=1.96]  \n"
     ]
    },
    {
     "name": "stdout",
     "output_type": "stream",
     "text": [
      "Epoch[38 / 80]\n"
     ]
    },
    {
     "name": "stderr",
     "output_type": "stream",
     "text": [
      "100%|██████████| 273/273 [03:32<00:00,  1.28it/s, gp=0.00293, loss_d=-0.698, loss_g=6.99]  \n"
     ]
    },
    {
     "name": "stdout",
     "output_type": "stream",
     "text": [
      "Epoch[39 / 80]\n"
     ]
    },
    {
     "name": "stderr",
     "output_type": "stream",
     "text": [
      "100%|██████████| 273/273 [03:29<00:00,  1.30it/s, gp=0.011, loss_d=-1.08, loss_g=1.22]     \n"
     ]
    },
    {
     "name": "stdout",
     "output_type": "stream",
     "text": [
      "Epoch[40 / 80]\n"
     ]
    },
    {
     "name": "stderr",
     "output_type": "stream",
     "text": [
      "100%|██████████| 273/273 [03:33<00:00,  1.28it/s, gp=0.008, loss_d=-0.977, loss_g=3.52]     \n"
     ]
    },
    {
     "name": "stdout",
     "output_type": "stream",
     "text": [
      "Models were stored.\n",
      "Saved loss log.\n",
      "Epoch[41 / 80]\n"
     ]
    },
    {
     "name": "stderr",
     "output_type": "stream",
     "text": [
      "100%|██████████| 273/273 [03:32<00:00,  1.28it/s, gp=0.0274, loss_d=-0.243, loss_g=-8.22]  \n"
     ]
    },
    {
     "name": "stdout",
     "output_type": "stream",
     "text": [
      "Epoch[42 / 80]\n"
     ]
    },
    {
     "name": "stderr",
     "output_type": "stream",
     "text": [
      "100%|██████████| 273/273 [03:30<00:00,  1.30it/s, gp=0.00951, loss_d=-1.22, loss_g=1.93]   \n"
     ]
    },
    {
     "name": "stdout",
     "output_type": "stream",
     "text": [
      "Epoch[43 / 80]\n"
     ]
    },
    {
     "name": "stderr",
     "output_type": "stream",
     "text": [
      "100%|██████████| 273/273 [03:32<00:00,  1.28it/s, gp=0.00563, loss_d=-1.07, loss_g=-0.711] \n"
     ]
    },
    {
     "name": "stdout",
     "output_type": "stream",
     "text": [
      "Epoch[44 / 80]\n"
     ]
    },
    {
     "name": "stderr",
     "output_type": "stream",
     "text": [
      "100%|██████████| 273/273 [03:32<00:00,  1.29it/s, gp=0.0184, loss_d=-1.45, loss_g=4.44]    \n"
     ]
    },
    {
     "name": "stdout",
     "output_type": "stream",
     "text": [
      "Epoch[45 / 80]\n"
     ]
    },
    {
     "name": "stderr",
     "output_type": "stream",
     "text": [
      "100%|██████████| 273/273 [03:30<00:00,  1.29it/s, gp=0.0411, loss_d=-0.569, loss_g=-3.34]  \n"
     ]
    },
    {
     "name": "stdout",
     "output_type": "stream",
     "text": [
      "Epoch[46 / 80]\n"
     ]
    },
    {
     "name": "stderr",
     "output_type": "stream",
     "text": [
      "100%|██████████| 273/273 [03:33<00:00,  1.28it/s, gp=0.0142, loss_d=-0.665, loss_g=4.79]    \n"
     ]
    },
    {
     "name": "stdout",
     "output_type": "stream",
     "text": [
      "Epoch[47 / 80]\n"
     ]
    },
    {
     "name": "stderr",
     "output_type": "stream",
     "text": [
      "100%|██████████| 273/273 [03:31<00:00,  1.29it/s, gp=0.0156, loss_d=-1.55, loss_g=-0.18]  \n"
     ]
    },
    {
     "name": "stdout",
     "output_type": "stream",
     "text": [
      "Epoch[48 / 80]\n"
     ]
    },
    {
     "name": "stderr",
     "output_type": "stream",
     "text": [
      "100%|██████████| 273/273 [03:31<00:00,  1.29it/s, gp=0.0215, loss_d=-1.43, loss_g=15.9]   \n"
     ]
    },
    {
     "name": "stdout",
     "output_type": "stream",
     "text": [
      "Epoch[49 / 80]\n"
     ]
    },
    {
     "name": "stderr",
     "output_type": "stream",
     "text": [
      "100%|██████████| 273/273 [03:32<00:00,  1.28it/s, gp=0.0291, loss_d=-0.644, loss_g=5.75]  \n"
     ]
    },
    {
     "name": "stdout",
     "output_type": "stream",
     "text": [
      "Epoch[50 / 80]\n"
     ]
    },
    {
     "name": "stderr",
     "output_type": "stream",
     "text": [
      "100%|██████████| 273/273 [03:30<00:00,  1.30it/s, gp=0.0158, loss_d=-1.31, loss_g=9.88]   \n"
     ]
    },
    {
     "name": "stdout",
     "output_type": "stream",
     "text": [
      "Models were stored.\n",
      "Saved loss log.\n",
      "Epoch[51 / 80]\n"
     ]
    },
    {
     "name": "stderr",
     "output_type": "stream",
     "text": [
      "100%|██████████| 273/273 [03:32<00:00,  1.29it/s, gp=0.0138, loss_d=-1.43, loss_g=12.4]    \n"
     ]
    },
    {
     "name": "stdout",
     "output_type": "stream",
     "text": [
      "Epoch[52 / 80]\n"
     ]
    },
    {
     "name": "stderr",
     "output_type": "stream",
     "text": [
      "100%|██████████| 273/273 [03:33<00:00,  1.28it/s, gp=0.0191, loss_d=-0.335, loss_g=11.2]  \n"
     ]
    },
    {
     "name": "stdout",
     "output_type": "stream",
     "text": [
      "Epoch[53 / 80]\n"
     ]
    },
    {
     "name": "stderr",
     "output_type": "stream",
     "text": [
      "100%|██████████| 273/273 [03:29<00:00,  1.30it/s, gp=0.0254, loss_d=-1.73, loss_g=-0.0138] \n"
     ]
    },
    {
     "name": "stdout",
     "output_type": "stream",
     "text": [
      "Epoch[54 / 80]\n"
     ]
    },
    {
     "name": "stderr",
     "output_type": "stream",
     "text": [
      "100%|██████████| 273/273 [03:32<00:00,  1.28it/s, gp=0.0236, loss_d=-0.76, loss_g=8.65]    \n"
     ]
    },
    {
     "name": "stdout",
     "output_type": "stream",
     "text": [
      "Epoch[55 / 80]\n"
     ]
    },
    {
     "name": "stderr",
     "output_type": "stream",
     "text": [
      "100%|██████████| 273/273 [03:32<00:00,  1.29it/s, gp=0.0104, loss_d=-1.27, loss_g=5.93]   \n"
     ]
    },
    {
     "name": "stdout",
     "output_type": "stream",
     "text": [
      "Epoch[56 / 80]\n"
     ]
    },
    {
     "name": "stderr",
     "output_type": "stream",
     "text": [
      "100%|██████████| 273/273 [03:30<00:00,  1.30it/s, gp=0.00971, loss_d=-1.45, loss_g=-1.18]  \n"
     ]
    },
    {
     "name": "stdout",
     "output_type": "stream",
     "text": [
      "Epoch[57 / 80]\n"
     ]
    },
    {
     "name": "stderr",
     "output_type": "stream",
     "text": [
      "100%|██████████| 273/273 [03:32<00:00,  1.28it/s, gp=0.0256, loss_d=-1.5, loss_g=3.18]    \n"
     ]
    },
    {
     "name": "stdout",
     "output_type": "stream",
     "text": [
      "Epoch[58 / 80]\n"
     ]
    },
    {
     "name": "stderr",
     "output_type": "stream",
     "text": [
      "100%|██████████| 273/273 [03:32<00:00,  1.28it/s, gp=0.021, loss_d=-0.244, loss_g=2.76]   \n"
     ]
    },
    {
     "name": "stdout",
     "output_type": "stream",
     "text": [
      "Epoch[59 / 80]\n"
     ]
    },
    {
     "name": "stderr",
     "output_type": "stream",
     "text": [
      "100%|██████████| 273/273 [03:30<00:00,  1.30it/s, gp=0.0084, loss_d=-0.928, loss_g=7.96]   \n"
     ]
    },
    {
     "name": "stdout",
     "output_type": "stream",
     "text": [
      "Epoch[60 / 80]\n"
     ]
    },
    {
     "name": "stderr",
     "output_type": "stream",
     "text": [
      "100%|██████████| 273/273 [03:30<00:00,  1.29it/s, gp=0.0126, loss_d=-1.6, loss_g=4.52]     \n"
     ]
    },
    {
     "name": "stdout",
     "output_type": "stream",
     "text": [
      "Models were stored.\n",
      "Saved loss log.\n",
      "Epoch[61 / 80]\n"
     ]
    },
    {
     "name": "stderr",
     "output_type": "stream",
     "text": [
      "100%|██████████| 273/273 [03:28<00:00,  1.31it/s, gp=0.0183, loss_d=-1.37, loss_g=14.8]   \n"
     ]
    },
    {
     "name": "stdout",
     "output_type": "stream",
     "text": [
      "Epoch[62 / 80]\n"
     ]
    },
    {
     "name": "stderr",
     "output_type": "stream",
     "text": [
      "100%|██████████| 273/273 [03:29<00:00,  1.30it/s, gp=0.0958, loss_d=-0.868, loss_g=4.48]  \n"
     ]
    },
    {
     "name": "stdout",
     "output_type": "stream",
     "text": [
      "Epoch[63 / 80]\n"
     ]
    },
    {
     "name": "stderr",
     "output_type": "stream",
     "text": [
      "100%|██████████| 273/273 [03:29<00:00,  1.30it/s, gp=0.00827, loss_d=-1.18, loss_g=-2.62] \n"
     ]
    },
    {
     "name": "stdout",
     "output_type": "stream",
     "text": [
      "Epoch[64 / 80]\n"
     ]
    },
    {
     "name": "stderr",
     "output_type": "stream",
     "text": [
      "100%|██████████| 273/273 [03:29<00:00,  1.30it/s, gp=0.049, loss_d=-1.34, loss_g=11.5]    \n"
     ]
    },
    {
     "name": "stdout",
     "output_type": "stream",
     "text": [
      "Epoch[65 / 80]\n"
     ]
    },
    {
     "name": "stderr",
     "output_type": "stream",
     "text": [
      "100%|██████████| 273/273 [03:28<00:00,  1.31it/s, gp=0.0107, loss_d=-1.74, loss_g=7.29]    \n"
     ]
    },
    {
     "name": "stdout",
     "output_type": "stream",
     "text": [
      "Epoch[66 / 80]\n"
     ]
    },
    {
     "name": "stderr",
     "output_type": "stream",
     "text": [
      "100%|██████████| 273/273 [03:33<00:00,  1.28it/s, gp=0.0198, loss_d=-1.37, loss_g=3.47]    \n"
     ]
    },
    {
     "name": "stdout",
     "output_type": "stream",
     "text": [
      "Epoch[67 / 80]\n"
     ]
    },
    {
     "name": "stderr",
     "output_type": "stream",
     "text": [
      "100%|██████████| 273/273 [03:30<00:00,  1.30it/s, gp=0.0326, loss_d=-0.95, loss_g=8.08]    \n"
     ]
    },
    {
     "name": "stdout",
     "output_type": "stream",
     "text": [
      "Epoch[68 / 80]\n"
     ]
    },
    {
     "name": "stderr",
     "output_type": "stream",
     "text": [
      "100%|██████████| 273/273 [03:31<00:00,  1.29it/s, gp=0.0354, loss_d=-0.703, loss_g=10.6]   \n"
     ]
    },
    {
     "name": "stdout",
     "output_type": "stream",
     "text": [
      "Epoch[69 / 80]\n"
     ]
    },
    {
     "name": "stderr",
     "output_type": "stream",
     "text": [
      "100%|██████████| 273/273 [03:32<00:00,  1.28it/s, gp=0.0296, loss_d=-1.53, loss_g=-2.31]   \n"
     ]
    },
    {
     "name": "stdout",
     "output_type": "stream",
     "text": [
      "Epoch[70 / 80]\n"
     ]
    },
    {
     "name": "stderr",
     "output_type": "stream",
     "text": [
      "100%|██████████| 273/273 [03:30<00:00,  1.30it/s, gp=0.0105, loss_d=-0.968, loss_g=0.663] \n"
     ]
    },
    {
     "name": "stdout",
     "output_type": "stream",
     "text": [
      "Models were stored.\n",
      "Saved loss log.\n",
      "Epoch[71 / 80]\n"
     ]
    },
    {
     "name": "stderr",
     "output_type": "stream",
     "text": [
      "100%|██████████| 273/273 [03:33<00:00,  1.28it/s, gp=0.00751, loss_d=-1.7, loss_g=-1.11]   \n"
     ]
    },
    {
     "name": "stdout",
     "output_type": "stream",
     "text": [
      "Epoch[72 / 80]\n"
     ]
    },
    {
     "name": "stderr",
     "output_type": "stream",
     "text": [
      "100%|██████████| 273/273 [03:32<00:00,  1.28it/s, gp=0.011, loss_d=-1.28, loss_g=-0.0794]  \n"
     ]
    },
    {
     "name": "stdout",
     "output_type": "stream",
     "text": [
      "Epoch[73 / 80]\n"
     ]
    },
    {
     "name": "stderr",
     "output_type": "stream",
     "text": [
      "100%|██████████| 273/273 [03:29<00:00,  1.30it/s, gp=0.0428, loss_d=-1.16, loss_g=6.3]    \n"
     ]
    },
    {
     "name": "stdout",
     "output_type": "stream",
     "text": [
      "Epoch[74 / 80]\n"
     ]
    },
    {
     "name": "stderr",
     "output_type": "stream",
     "text": [
      "100%|██████████| 273/273 [03:32<00:00,  1.28it/s, gp=0.0126, loss_d=-1.34, loss_g=0.497]   \n"
     ]
    },
    {
     "name": "stdout",
     "output_type": "stream",
     "text": [
      "Epoch[75 / 80]\n"
     ]
    },
    {
     "name": "stderr",
     "output_type": "stream",
     "text": [
      "100%|██████████| 273/273 [03:33<00:00,  1.28it/s, gp=0.0342, loss_d=-0.965, loss_g=-1.8]    \n"
     ]
    },
    {
     "name": "stdout",
     "output_type": "stream",
     "text": [
      "Epoch[76 / 80]\n"
     ]
    },
    {
     "name": "stderr",
     "output_type": "stream",
     "text": [
      "100%|██████████| 273/273 [03:29<00:00,  1.30it/s, gp=0.0165, loss_d=-1.3, loss_g=3.78]     \n"
     ]
    },
    {
     "name": "stdout",
     "output_type": "stream",
     "text": [
      "Epoch[77 / 80]\n"
     ]
    },
    {
     "name": "stderr",
     "output_type": "stream",
     "text": [
      "100%|██████████| 273/273 [03:33<00:00,  1.28it/s, gp=0.0198, loss_d=-1.3, loss_g=3.78]     \n"
     ]
    },
    {
     "name": "stdout",
     "output_type": "stream",
     "text": [
      "Epoch[78 / 80]\n"
     ]
    },
    {
     "name": "stderr",
     "output_type": "stream",
     "text": [
      "100%|██████████| 273/273 [03:32<00:00,  1.29it/s, gp=0.0114, loss_d=-1.58, loss_g=-0.352] \n"
     ]
    },
    {
     "name": "stdout",
     "output_type": "stream",
     "text": [
      "Epoch[79 / 80]\n"
     ]
    },
    {
     "name": "stderr",
     "output_type": "stream",
     "text": [
      "100%|██████████| 273/273 [03:30<00:00,  1.30it/s, gp=0.0254, loss_d=-0.644, loss_g=1.97]   \n"
     ]
    },
    {
     "name": "stdout",
     "output_type": "stream",
     "text": [
      "Epoch[80 / 80]\n"
     ]
    },
    {
     "name": "stderr",
     "output_type": "stream",
     "text": [
      "100%|██████████| 273/273 [03:33<00:00,  1.28it/s, gp=0.0191, loss_d=-1.93, loss_g=0.151]   \n"
     ]
    },
    {
     "name": "stdout",
     "output_type": "stream",
     "text": [
      "Models were stored.\n",
      "Saved loss log.\n",
      "Current Image Size: 128\n",
      "Epoch[1 / 120]\n"
     ]
    },
    {
     "name": "stderr",
     "output_type": "stream",
     "text": [
      "100%|██████████| 273/273 [05:52<00:00,  1.29s/it, gp=0.0197, loss_d=-3.07, loss_g=-0.776]\n"
     ]
    },
    {
     "name": "stdout",
     "output_type": "stream",
     "text": [
      "Epoch[2 / 120]\n"
     ]
    },
    {
     "name": "stderr",
     "output_type": "stream",
     "text": [
      "100%|██████████| 273/273 [05:54<00:00,  1.30s/it, gp=0.0437, loss_d=-5.6, loss_g=11.6]   \n"
     ]
    },
    {
     "name": "stdout",
     "output_type": "stream",
     "text": [
      "Epoch[3 / 120]\n"
     ]
    },
    {
     "name": "stderr",
     "output_type": "stream",
     "text": [
      "100%|██████████| 273/273 [05:51<00:00,  1.29s/it, gp=0.0863, loss_d=-2.97, loss_g=18.7]   \n"
     ]
    },
    {
     "name": "stdout",
     "output_type": "stream",
     "text": [
      "Epoch[4 / 120]\n"
     ]
    },
    {
     "name": "stderr",
     "output_type": "stream",
     "text": [
      "100%|██████████| 273/273 [05:53<00:00,  1.29s/it, gp=0.021, loss_d=-3.4, loss_g=-12.1]   \n"
     ]
    },
    {
     "name": "stdout",
     "output_type": "stream",
     "text": [
      "Epoch[5 / 120]\n"
     ]
    },
    {
     "name": "stderr",
     "output_type": "stream",
     "text": [
      "100%|██████████| 273/273 [05:53<00:00,  1.29s/it, gp=0.0128, loss_d=-3.26, loss_g=26.4]    \n"
     ]
    },
    {
     "name": "stdout",
     "output_type": "stream",
     "text": [
      "Epoch[6 / 120]\n"
     ]
    },
    {
     "name": "stderr",
     "output_type": "stream",
     "text": [
      "100%|██████████| 273/273 [05:52<00:00,  1.29s/it, gp=0.0101, loss_d=-3.72, loss_g=-6.84]  \n"
     ]
    },
    {
     "name": "stdout",
     "output_type": "stream",
     "text": [
      "Epoch[7 / 120]\n"
     ]
    },
    {
     "name": "stderr",
     "output_type": "stream",
     "text": [
      "100%|██████████| 273/273 [05:54<00:00,  1.30s/it, gp=0.0384, loss_d=-2.29, loss_g=10.2]  \n"
     ]
    },
    {
     "name": "stdout",
     "output_type": "stream",
     "text": [
      "Epoch[8 / 120]\n"
     ]
    },
    {
     "name": "stderr",
     "output_type": "stream",
     "text": [
      "100%|██████████| 273/273 [05:51<00:00,  1.29s/it, gp=0.0308, loss_d=-2.29, loss_g=3.08]  \n"
     ]
    },
    {
     "name": "stdout",
     "output_type": "stream",
     "text": [
      "Epoch[9 / 120]\n"
     ]
    },
    {
     "name": "stderr",
     "output_type": "stream",
     "text": [
      "100%|██████████| 273/273 [05:53<00:00,  1.30s/it, gp=0.0367, loss_d=-2.22, loss_g=-0.174]\n"
     ]
    },
    {
     "name": "stdout",
     "output_type": "stream",
     "text": [
      "Epoch[10 / 120]\n"
     ]
    },
    {
     "name": "stderr",
     "output_type": "stream",
     "text": [
      "100%|██████████| 273/273 [05:52<00:00,  1.29s/it, gp=0.0346, loss_d=-2.72, loss_g=-2.21] \n"
     ]
    },
    {
     "name": "stdout",
     "output_type": "stream",
     "text": [
      "Models were stored.\n",
      "Saved loss log.\n",
      "Epoch[11 / 120]\n"
     ]
    },
    {
     "name": "stderr",
     "output_type": "stream",
     "text": [
      "100%|██████████| 273/273 [05:52<00:00,  1.29s/it, gp=0.0392, loss_d=-2.7, loss_g=0.92]    \n"
     ]
    },
    {
     "name": "stdout",
     "output_type": "stream",
     "text": [
      "Epoch[12 / 120]\n"
     ]
    },
    {
     "name": "stderr",
     "output_type": "stream",
     "text": [
      "100%|██████████| 273/273 [05:55<00:00,  1.30s/it, gp=0.0286, loss_d=-5.29, loss_g=6.02]  \n"
     ]
    },
    {
     "name": "stdout",
     "output_type": "stream",
     "text": [
      "Epoch[13 / 120]\n"
     ]
    },
    {
     "name": "stderr",
     "output_type": "stream",
     "text": [
      "100%|██████████| 273/273 [05:51<00:00,  1.29s/it, gp=0.0587, loss_d=-1.6, loss_g=29.9]   \n"
     ]
    },
    {
     "name": "stdout",
     "output_type": "stream",
     "text": [
      "Epoch[14 / 120]\n"
     ]
    },
    {
     "name": "stderr",
     "output_type": "stream",
     "text": [
      "100%|██████████| 273/273 [05:54<00:00,  1.30s/it, gp=0.0493, loss_d=-2.1, loss_g=-17.5]  \n"
     ]
    },
    {
     "name": "stdout",
     "output_type": "stream",
     "text": [
      "Epoch[15 / 120]\n"
     ]
    },
    {
     "name": "stderr",
     "output_type": "stream",
     "text": [
      "100%|██████████| 273/273 [05:52<00:00,  1.29s/it, gp=0.0225, loss_d=-3.28, loss_g=18.2]   \n"
     ]
    },
    {
     "name": "stdout",
     "output_type": "stream",
     "text": [
      "Epoch[16 / 120]\n"
     ]
    },
    {
     "name": "stderr",
     "output_type": "stream",
     "text": [
      "100%|██████████| 273/273 [05:52<00:00,  1.29s/it, gp=0.011, loss_d=-3.63, loss_g=1.29]   \n"
     ]
    },
    {
     "name": "stdout",
     "output_type": "stream",
     "text": [
      "Epoch[17 / 120]\n"
     ]
    },
    {
     "name": "stderr",
     "output_type": "stream",
     "text": [
      "100%|██████████| 273/273 [05:52<00:00,  1.29s/it, gp=0.0331, loss_d=-4.37, loss_g=13.2]    \n"
     ]
    },
    {
     "name": "stdout",
     "output_type": "stream",
     "text": [
      "Epoch[18 / 120]\n"
     ]
    },
    {
     "name": "stderr",
     "output_type": "stream",
     "text": [
      "100%|██████████| 273/273 [05:52<00:00,  1.29s/it, gp=0.0129, loss_d=-3.58, loss_g=4.12]    \n"
     ]
    },
    {
     "name": "stdout",
     "output_type": "stream",
     "text": [
      "Epoch[19 / 120]\n"
     ]
    },
    {
     "name": "stderr",
     "output_type": "stream",
     "text": [
      "100%|██████████| 273/273 [05:53<00:00,  1.30s/it, gp=0.0252, loss_d=-2.66, loss_g=12.4]   \n"
     ]
    },
    {
     "name": "stdout",
     "output_type": "stream",
     "text": [
      "Epoch[20 / 120]\n"
     ]
    },
    {
     "name": "stderr",
     "output_type": "stream",
     "text": [
      "100%|██████████| 273/273 [05:51<00:00,  1.29s/it, gp=0.201, loss_d=-1.05, loss_g=23.4]   \n"
     ]
    },
    {
     "name": "stdout",
     "output_type": "stream",
     "text": [
      "Models were stored.\n",
      "Saved loss log.\n",
      "Epoch[21 / 120]\n"
     ]
    },
    {
     "name": "stderr",
     "output_type": "stream",
     "text": [
      "100%|██████████| 273/273 [05:52<00:00,  1.29s/it, gp=0.0172, loss_d=-3.09, loss_g=-0.53]  \n"
     ]
    },
    {
     "name": "stdout",
     "output_type": "stream",
     "text": [
      "Epoch[22 / 120]\n"
     ]
    },
    {
     "name": "stderr",
     "output_type": "stream",
     "text": [
      "100%|██████████| 273/273 [05:52<00:00,  1.29s/it, gp=0.0266, loss_d=-2.3, loss_g=-5]       \n"
     ]
    },
    {
     "name": "stdout",
     "output_type": "stream",
     "text": [
      "Epoch[23 / 120]\n"
     ]
    },
    {
     "name": "stderr",
     "output_type": "stream",
     "text": [
      "100%|██████████| 273/273 [05:51<00:00,  1.29s/it, gp=0.0428, loss_d=-2, loss_g=4]        \n"
     ]
    },
    {
     "name": "stdout",
     "output_type": "stream",
     "text": [
      "Epoch[24 / 120]\n"
     ]
    },
    {
     "name": "stderr",
     "output_type": "stream",
     "text": [
      "100%|██████████| 273/273 [05:55<00:00,  1.30s/it, gp=0.0241, loss_d=-0.23, loss_g=6.47]   \n"
     ]
    },
    {
     "name": "stdout",
     "output_type": "stream",
     "text": [
      "Epoch[25 / 120]\n"
     ]
    },
    {
     "name": "stderr",
     "output_type": "stream",
     "text": [
      "100%|██████████| 273/273 [05:52<00:00,  1.29s/it, gp=0.164, loss_d=-3.06, loss_g=29]      \n"
     ]
    },
    {
     "name": "stdout",
     "output_type": "stream",
     "text": [
      "Epoch[26 / 120]\n"
     ]
    },
    {
     "name": "stderr",
     "output_type": "stream",
     "text": [
      "100%|██████████| 273/273 [05:53<00:00,  1.30s/it, gp=0.0574, loss_d=-3.7, loss_g=-5.83]  \n"
     ]
    },
    {
     "name": "stdout",
     "output_type": "stream",
     "text": [
      "Epoch[27 / 120]\n"
     ]
    },
    {
     "name": "stderr",
     "output_type": "stream",
     "text": [
      "100%|██████████| 273/273 [05:52<00:00,  1.29s/it, gp=0.0663, loss_d=-2.14, loss_g=6.19]   \n"
     ]
    },
    {
     "name": "stdout",
     "output_type": "stream",
     "text": [
      "Epoch[28 / 120]\n"
     ]
    },
    {
     "name": "stderr",
     "output_type": "stream",
     "text": [
      "100%|██████████| 273/273 [05:51<00:00,  1.29s/it, gp=0.00737, loss_d=-1.92, loss_g=-3.32] \n"
     ]
    },
    {
     "name": "stdout",
     "output_type": "stream",
     "text": [
      "Epoch[29 / 120]\n"
     ]
    },
    {
     "name": "stderr",
     "output_type": "stream",
     "text": [
      "100%|██████████| 273/273 [05:53<00:00,  1.29s/it, gp=0.0434, loss_d=-1.3, loss_g=-15.5]  \n"
     ]
    },
    {
     "name": "stdout",
     "output_type": "stream",
     "text": [
      "Epoch[30 / 120]\n"
     ]
    },
    {
     "name": "stderr",
     "output_type": "stream",
     "text": [
      "100%|██████████| 273/273 [05:51<00:00,  1.29s/it, gp=0.042, loss_d=-2.24, loss_g=17.1]     \n"
     ]
    },
    {
     "name": "stdout",
     "output_type": "stream",
     "text": [
      "Models were stored.\n",
      "Saved loss log.\n",
      "Epoch[31 / 120]\n"
     ]
    },
    {
     "name": "stderr",
     "output_type": "stream",
     "text": [
      "100%|██████████| 273/273 [05:51<00:00,  1.29s/it, gp=0.037, loss_d=-2.63, loss_g=-5.45]    \n"
     ]
    },
    {
     "name": "stdout",
     "output_type": "stream",
     "text": [
      "Epoch[32 / 120]\n"
     ]
    },
    {
     "name": "stderr",
     "output_type": "stream",
     "text": [
      "100%|██████████| 273/273 [05:51<00:00,  1.29s/it, gp=0.0444, loss_d=-2.09, loss_g=18]     \n"
     ]
    },
    {
     "name": "stdout",
     "output_type": "stream",
     "text": [
      "Epoch[33 / 120]\n"
     ]
    },
    {
     "name": "stderr",
     "output_type": "stream",
     "text": [
      "100%|██████████| 273/273 [05:52<00:00,  1.29s/it, gp=0.0431, loss_d=-1.91, loss_g=-0.0991]\n"
     ]
    },
    {
     "name": "stdout",
     "output_type": "stream",
     "text": [
      "Epoch[34 / 120]\n"
     ]
    },
    {
     "name": "stderr",
     "output_type": "stream",
     "text": [
      "100%|██████████| 273/273 [05:53<00:00,  1.30s/it, gp=0.0887, loss_d=-1.78, loss_g=11.8]   \n"
     ]
    },
    {
     "name": "stdout",
     "output_type": "stream",
     "text": [
      "Epoch[35 / 120]\n"
     ]
    },
    {
     "name": "stderr",
     "output_type": "stream",
     "text": [
      "100%|██████████| 273/273 [05:51<00:00,  1.29s/it, gp=0.00768, loss_d=-2.86, loss_g=-3.88] \n"
     ]
    },
    {
     "name": "stdout",
     "output_type": "stream",
     "text": [
      "Epoch[36 / 120]\n"
     ]
    },
    {
     "name": "stderr",
     "output_type": "stream",
     "text": [
      "100%|██████████| 273/273 [05:54<00:00,  1.30s/it, gp=0.0623, loss_d=-3.4, loss_g=14]       \n"
     ]
    },
    {
     "name": "stdout",
     "output_type": "stream",
     "text": [
      "Epoch[37 / 120]\n"
     ]
    },
    {
     "name": "stderr",
     "output_type": "stream",
     "text": [
      "100%|██████████| 273/273 [05:51<00:00,  1.29s/it, gp=0.0332, loss_d=-1.84, loss_g=16.6]  \n"
     ]
    },
    {
     "name": "stdout",
     "output_type": "stream",
     "text": [
      "Epoch[38 / 120]\n"
     ]
    },
    {
     "name": "stderr",
     "output_type": "stream",
     "text": [
      "100%|██████████| 273/273 [05:52<00:00,  1.29s/it, gp=0.0215, loss_d=-1.96, loss_g=3.53]   \n"
     ]
    },
    {
     "name": "stdout",
     "output_type": "stream",
     "text": [
      "Epoch[39 / 120]\n"
     ]
    },
    {
     "name": "stderr",
     "output_type": "stream",
     "text": [
      "100%|██████████| 273/273 [05:53<00:00,  1.29s/it, gp=0.0376, loss_d=-1.7, loss_g=6.29]    \n"
     ]
    },
    {
     "name": "stdout",
     "output_type": "stream",
     "text": [
      "Epoch[40 / 120]\n"
     ]
    },
    {
     "name": "stderr",
     "output_type": "stream",
     "text": [
      "100%|██████████| 273/273 [05:51<00:00,  1.29s/it, gp=0.0508, loss_d=-0.939, loss_g=6.82]  \n"
     ]
    },
    {
     "name": "stdout",
     "output_type": "stream",
     "text": [
      "Models were stored.\n",
      "Saved loss log.\n",
      "Epoch[41 / 120]\n"
     ]
    },
    {
     "name": "stderr",
     "output_type": "stream",
     "text": [
      "100%|██████████| 273/273 [05:54<00:00,  1.30s/it, gp=0.0169, loss_d=-1.43, loss_g=-3.62]  \n"
     ]
    },
    {
     "name": "stdout",
     "output_type": "stream",
     "text": [
      "Epoch[42 / 120]\n"
     ]
    },
    {
     "name": "stderr",
     "output_type": "stream",
     "text": [
      "100%|██████████| 273/273 [05:51<00:00,  1.29s/it, gp=0.0318, loss_d=-1.64, loss_g=2.5]     \n"
     ]
    },
    {
     "name": "stdout",
     "output_type": "stream",
     "text": [
      "Epoch[43 / 120]\n"
     ]
    },
    {
     "name": "stderr",
     "output_type": "stream",
     "text": [
      "100%|██████████| 273/273 [05:53<00:00,  1.29s/it, gp=0.244, loss_d=-0.458, loss_g=-3.42]  \n"
     ]
    },
    {
     "name": "stdout",
     "output_type": "stream",
     "text": [
      "Epoch[44 / 120]\n"
     ]
    },
    {
     "name": "stderr",
     "output_type": "stream",
     "text": [
      "100%|██████████| 273/273 [05:52<00:00,  1.29s/it, gp=0.016, loss_d=-1.13, loss_g=0.467]     \n"
     ]
    },
    {
     "name": "stdout",
     "output_type": "stream",
     "text": [
      "Epoch[45 / 120]\n"
     ]
    },
    {
     "name": "stderr",
     "output_type": "stream",
     "text": [
      "100%|██████████| 273/273 [05:51<00:00,  1.29s/it, gp=0.0204, loss_d=-0.729, loss_g=-25.2] \n"
     ]
    },
    {
     "name": "stdout",
     "output_type": "stream",
     "text": [
      "Epoch[46 / 120]\n"
     ]
    },
    {
     "name": "stderr",
     "output_type": "stream",
     "text": [
      "100%|██████████| 273/273 [05:54<00:00,  1.30s/it, gp=0.0395, loss_d=-1.65, loss_g=5.38]   \n"
     ]
    },
    {
     "name": "stdout",
     "output_type": "stream",
     "text": [
      "Epoch[47 / 120]\n"
     ]
    },
    {
     "name": "stderr",
     "output_type": "stream",
     "text": [
      "100%|██████████| 273/273 [05:52<00:00,  1.29s/it, gp=0.0402, loss_d=-3.41, loss_g=13.8]   \n"
     ]
    },
    {
     "name": "stdout",
     "output_type": "stream",
     "text": [
      "Epoch[48 / 120]\n"
     ]
    },
    {
     "name": "stderr",
     "output_type": "stream",
     "text": [
      "100%|██████████| 273/273 [05:54<00:00,  1.30s/it, gp=0.0144, loss_d=-1.24, loss_g=2.26]   \n"
     ]
    },
    {
     "name": "stdout",
     "output_type": "stream",
     "text": [
      "Epoch[49 / 120]\n"
     ]
    },
    {
     "name": "stderr",
     "output_type": "stream",
     "text": [
      "100%|██████████| 273/273 [05:51<00:00,  1.29s/it, gp=0.0471, loss_d=-2.35, loss_g=22]      \n"
     ]
    },
    {
     "name": "stdout",
     "output_type": "stream",
     "text": [
      "Epoch[50 / 120]\n"
     ]
    },
    {
     "name": "stderr",
     "output_type": "stream",
     "text": [
      "100%|██████████| 273/273 [05:52<00:00,  1.29s/it, gp=0.0419, loss_d=-2.54, loss_g=11.8]   \n"
     ]
    },
    {
     "name": "stdout",
     "output_type": "stream",
     "text": [
      "Models were stored.\n",
      "Saved loss log.\n",
      "Epoch[51 / 120]\n"
     ]
    },
    {
     "name": "stderr",
     "output_type": "stream",
     "text": [
      "100%|██████████| 273/273 [05:53<00:00,  1.30s/it, gp=0.0188, loss_d=-2, loss_g=-2.22]     \n"
     ]
    },
    {
     "name": "stdout",
     "output_type": "stream",
     "text": [
      "Epoch[52 / 120]\n"
     ]
    },
    {
     "name": "stderr",
     "output_type": "stream",
     "text": [
      "100%|██████████| 273/273 [05:51<00:00,  1.29s/it, gp=0.0209, loss_d=-2.35, loss_g=4.55]  \n"
     ]
    },
    {
     "name": "stdout",
     "output_type": "stream",
     "text": [
      "Epoch[53 / 120]\n"
     ]
    },
    {
     "name": "stderr",
     "output_type": "stream",
     "text": [
      "100%|██████████| 273/273 [05:54<00:00,  1.30s/it, gp=0.132, loss_d=-2.95, loss_g=6]       \n"
     ]
    },
    {
     "name": "stdout",
     "output_type": "stream",
     "text": [
      "Epoch[54 / 120]\n"
     ]
    },
    {
     "name": "stderr",
     "output_type": "stream",
     "text": [
      "100%|██████████| 273/273 [05:51<00:00,  1.29s/it, gp=0.0939, loss_d=-0.149, loss_g=2.03]  \n"
     ]
    },
    {
     "name": "stdout",
     "output_type": "stream",
     "text": [
      "Epoch[55 / 120]\n"
     ]
    },
    {
     "name": "stderr",
     "output_type": "stream",
     "text": [
      "100%|██████████| 273/273 [05:52<00:00,  1.29s/it, gp=0.0388, loss_d=-2.35, loss_g=7.63]   \n"
     ]
    },
    {
     "name": "stdout",
     "output_type": "stream",
     "text": [
      "Epoch[56 / 120]\n"
     ]
    },
    {
     "name": "stderr",
     "output_type": "stream",
     "text": [
      "100%|██████████| 273/273 [05:53<00:00,  1.29s/it, gp=0.0266, loss_d=-2.45, loss_g=6.83]   \n"
     ]
    },
    {
     "name": "stdout",
     "output_type": "stream",
     "text": [
      "Epoch[57 / 120]\n"
     ]
    },
    {
     "name": "stderr",
     "output_type": "stream",
     "text": [
      "100%|██████████| 273/273 [05:52<00:00,  1.29s/it, gp=0.0319, loss_d=-0.451, loss_g=-8.18] \n"
     ]
    },
    {
     "name": "stdout",
     "output_type": "stream",
     "text": [
      "Epoch[58 / 120]\n"
     ]
    },
    {
     "name": "stderr",
     "output_type": "stream",
     "text": [
      "100%|██████████| 273/273 [05:54<00:00,  1.30s/it, gp=0.0479, loss_d=-3.25, loss_g=9.43]   \n"
     ]
    },
    {
     "name": "stdout",
     "output_type": "stream",
     "text": [
      "Epoch[59 / 120]\n"
     ]
    },
    {
     "name": "stderr",
     "output_type": "stream",
     "text": [
      "100%|██████████| 273/273 [05:51<00:00,  1.29s/it, gp=0.0298, loss_d=-2.68, loss_g=11.2]   \n"
     ]
    },
    {
     "name": "stdout",
     "output_type": "stream",
     "text": [
      "Epoch[60 / 120]\n"
     ]
    },
    {
     "name": "stderr",
     "output_type": "stream",
     "text": [
      "100%|██████████| 273/273 [05:53<00:00,  1.29s/it, gp=0.0602, loss_d=-1.2, loss_g=11.4]    \n"
     ]
    },
    {
     "name": "stdout",
     "output_type": "stream",
     "text": [
      "Models were stored.\n",
      "Saved loss log.\n",
      "Epoch[61 / 120]\n"
     ]
    },
    {
     "name": "stderr",
     "output_type": "stream",
     "text": [
      "100%|██████████| 273/273 [05:51<00:00,  1.29s/it, gp=0.112, loss_d=-1.06, loss_g=-11.2]   \n"
     ]
    },
    {
     "name": "stdout",
     "output_type": "stream",
     "text": [
      "Epoch[62 / 120]\n"
     ]
    },
    {
     "name": "stderr",
     "output_type": "stream",
     "text": [
      "100%|██████████| 273/273 [05:52<00:00,  1.29s/it, gp=0.181, loss_d=-0.359, loss_g=-5.69]  \n"
     ]
    },
    {
     "name": "stdout",
     "output_type": "stream",
     "text": [
      "Epoch[63 / 120]\n"
     ]
    },
    {
     "name": "stderr",
     "output_type": "stream",
     "text": [
      "100%|██████████| 273/273 [05:54<00:00,  1.30s/it, gp=0.111, loss_d=-0.588, loss_g=-5.6]   \n"
     ]
    },
    {
     "name": "stdout",
     "output_type": "stream",
     "text": [
      "Epoch[64 / 120]\n"
     ]
    },
    {
     "name": "stderr",
     "output_type": "stream",
     "text": [
      "100%|██████████| 273/273 [05:51<00:00,  1.29s/it, gp=0.0283, loss_d=-0.783, loss_g=-5.55] \n"
     ]
    },
    {
     "name": "stdout",
     "output_type": "stream",
     "text": [
      "Epoch[65 / 120]\n"
     ]
    },
    {
     "name": "stderr",
     "output_type": "stream",
     "text": [
      "100%|██████████| 273/273 [05:53<00:00,  1.30s/it, gp=0.024, loss_d=-0.648, loss_g=-4.01]   \n"
     ]
    },
    {
     "name": "stdout",
     "output_type": "stream",
     "text": [
      "Epoch[66 / 120]\n"
     ]
    },
    {
     "name": "stderr",
     "output_type": "stream",
     "text": [
      "100%|██████████| 273/273 [05:51<00:00,  1.29s/it, gp=0.0435, loss_d=-3.02, loss_g=7.46]   \n"
     ]
    },
    {
     "name": "stdout",
     "output_type": "stream",
     "text": [
      "Epoch[67 / 120]\n"
     ]
    },
    {
     "name": "stderr",
     "output_type": "stream",
     "text": [
      "100%|██████████| 273/273 [05:53<00:00,  1.29s/it, gp=0.123, loss_d=-3.61, loss_g=7.13]     \n"
     ]
    },
    {
     "name": "stdout",
     "output_type": "stream",
     "text": [
      "Epoch[68 / 120]\n"
     ]
    },
    {
     "name": "stderr",
     "output_type": "stream",
     "text": [
      "100%|██████████| 273/273 [05:53<00:00,  1.29s/it, gp=0.019, loss_d=-2.79, loss_g=1.33]    \n"
     ]
    },
    {
     "name": "stdout",
     "output_type": "stream",
     "text": [
      "Epoch[69 / 120]\n"
     ]
    },
    {
     "name": "stderr",
     "output_type": "stream",
     "text": [
      "100%|██████████| 273/273 [05:51<00:00,  1.29s/it, gp=0.0264, loss_d=-1.94, loss_g=-4.69]  \n"
     ]
    },
    {
     "name": "stdout",
     "output_type": "stream",
     "text": [
      "Epoch[70 / 120]\n"
     ]
    },
    {
     "name": "stderr",
     "output_type": "stream",
     "text": [
      "100%|██████████| 273/273 [05:53<00:00,  1.30s/it, gp=0.0403, loss_d=-3.56, loss_g=20.3]    \n"
     ]
    },
    {
     "name": "stdout",
     "output_type": "stream",
     "text": [
      "Models were stored.\n",
      "Saved loss log.\n",
      "Epoch[71 / 120]\n"
     ]
    },
    {
     "name": "stderr",
     "output_type": "stream",
     "text": [
      "100%|██████████| 273/273 [05:51<00:00,  1.29s/it, gp=0.0228, loss_d=-2.54, loss_g=-4.96]    \n"
     ]
    },
    {
     "name": "stdout",
     "output_type": "stream",
     "text": [
      "Epoch[72 / 120]\n"
     ]
    },
    {
     "name": "stderr",
     "output_type": "stream",
     "text": [
      "100%|██████████| 273/273 [05:53<00:00,  1.29s/it, gp=0.0205, loss_d=-0.796, loss_g=3.87]  \n"
     ]
    },
    {
     "name": "stdout",
     "output_type": "stream",
     "text": [
      "Epoch[73 / 120]\n"
     ]
    },
    {
     "name": "stderr",
     "output_type": "stream",
     "text": [
      "100%|██████████| 273/273 [05:52<00:00,  1.29s/it, gp=0.05, loss_d=-2.13, loss_g=1.06]     \n"
     ]
    },
    {
     "name": "stdout",
     "output_type": "stream",
     "text": [
      "Epoch[74 / 120]\n"
     ]
    },
    {
     "name": "stderr",
     "output_type": "stream",
     "text": [
      "100%|██████████| 273/273 [05:51<00:00,  1.29s/it, gp=0.108, loss_d=-1.55, loss_g=8.51]     \n"
     ]
    },
    {
     "name": "stdout",
     "output_type": "stream",
     "text": [
      "Epoch[75 / 120]\n"
     ]
    },
    {
     "name": "stderr",
     "output_type": "stream",
     "text": [
      "100%|██████████| 273/273 [05:54<00:00,  1.30s/it, gp=0.0227, loss_d=-2.12, loss_g=17.1]   \n"
     ]
    },
    {
     "name": "stdout",
     "output_type": "stream",
     "text": [
      "Epoch[76 / 120]\n"
     ]
    },
    {
     "name": "stderr",
     "output_type": "stream",
     "text": [
      "100%|██████████| 273/273 [05:52<00:00,  1.29s/it, gp=0.14, loss_d=-1.04, loss_g=4.99]     \n"
     ]
    },
    {
     "name": "stdout",
     "output_type": "stream",
     "text": [
      "Epoch[77 / 120]\n"
     ]
    },
    {
     "name": "stderr",
     "output_type": "stream",
     "text": [
      "100%|██████████| 273/273 [05:52<00:00,  1.29s/it, gp=0.0464, loss_d=-2.52, loss_g=3.3]     \n"
     ]
    },
    {
     "name": "stdout",
     "output_type": "stream",
     "text": [
      "Epoch[78 / 120]\n"
     ]
    },
    {
     "name": "stderr",
     "output_type": "stream",
     "text": [
      "100%|██████████| 273/273 [05:52<00:00,  1.29s/it, gp=0.0371, loss_d=-1.02, loss_g=1.42]   \n"
     ]
    },
    {
     "name": "stdout",
     "output_type": "stream",
     "text": [
      "Epoch[79 / 120]\n"
     ]
    },
    {
     "name": "stderr",
     "output_type": "stream",
     "text": [
      "100%|██████████| 273/273 [05:52<00:00,  1.29s/it, gp=0.0722, loss_d=0.326, loss_g=20.8]   \n"
     ]
    },
    {
     "name": "stdout",
     "output_type": "stream",
     "text": [
      "Epoch[80 / 120]\n"
     ]
    },
    {
     "name": "stderr",
     "output_type": "stream",
     "text": [
      "100%|██████████| 273/273 [05:53<00:00,  1.29s/it, gp=0.0257, loss_d=-1.51, loss_g=8.03]   \n"
     ]
    },
    {
     "name": "stdout",
     "output_type": "stream",
     "text": [
      "Models were stored.\n",
      "Saved loss log.\n",
      "Epoch[81 / 120]\n"
     ]
    },
    {
     "name": "stderr",
     "output_type": "stream",
     "text": [
      "100%|██████████| 273/273 [05:52<00:00,  1.29s/it, gp=0.0175, loss_d=-1.66, loss_g=12]     \n"
     ]
    },
    {
     "name": "stdout",
     "output_type": "stream",
     "text": [
      "Epoch[82 / 120]\n"
     ]
    },
    {
     "name": "stderr",
     "output_type": "stream",
     "text": [
      "100%|██████████| 273/273 [05:53<00:00,  1.30s/it, gp=0.00872, loss_d=-2.04, loss_g=3.12]  \n"
     ]
    },
    {
     "name": "stdout",
     "output_type": "stream",
     "text": [
      "Epoch[83 / 120]\n"
     ]
    },
    {
     "name": "stderr",
     "output_type": "stream",
     "text": [
      "100%|██████████| 273/273 [05:52<00:00,  1.29s/it, gp=0.049, loss_d=-2.24, loss_g=8.08]    \n"
     ]
    },
    {
     "name": "stdout",
     "output_type": "stream",
     "text": [
      "Epoch[84 / 120]\n"
     ]
    },
    {
     "name": "stderr",
     "output_type": "stream",
     "text": [
      "100%|██████████| 273/273 [05:52<00:00,  1.29s/it, gp=0.016, loss_d=-2.97, loss_g=6.25]    \n"
     ]
    },
    {
     "name": "stdout",
     "output_type": "stream",
     "text": [
      "Epoch[85 / 120]\n"
     ]
    },
    {
     "name": "stderr",
     "output_type": "stream",
     "text": [
      "100%|██████████| 273/273 [05:52<00:00,  1.29s/it, gp=0.0189, loss_d=-1.77, loss_g=5.66]   \n"
     ]
    },
    {
     "name": "stdout",
     "output_type": "stream",
     "text": [
      "Epoch[86 / 120]\n"
     ]
    },
    {
     "name": "stderr",
     "output_type": "stream",
     "text": [
      "100%|██████████| 273/273 [05:51<00:00,  1.29s/it, gp=0.0263, loss_d=-2.83, loss_g=17.2]   \n"
     ]
    },
    {
     "name": "stdout",
     "output_type": "stream",
     "text": [
      "Epoch[87 / 120]\n"
     ]
    },
    {
     "name": "stderr",
     "output_type": "stream",
     "text": [
      "100%|██████████| 273/273 [05:53<00:00,  1.30s/it, gp=0.0203, loss_d=-3.53, loss_g=11]     \n"
     ]
    },
    {
     "name": "stdout",
     "output_type": "stream",
     "text": [
      "Epoch[88 / 120]\n"
     ]
    },
    {
     "name": "stderr",
     "output_type": "stream",
     "text": [
      "100%|██████████| 273/273 [05:52<00:00,  1.29s/it, gp=0.0278, loss_d=-3.63, loss_g=11.8]  \n"
     ]
    },
    {
     "name": "stdout",
     "output_type": "stream",
     "text": [
      "Epoch[89 / 120]\n"
     ]
    },
    {
     "name": "stderr",
     "output_type": "stream",
     "text": [
      "100%|██████████| 273/273 [05:53<00:00,  1.29s/it, gp=0.0529, loss_d=-3.1, loss_g=5.46]    \n"
     ]
    },
    {
     "name": "stdout",
     "output_type": "stream",
     "text": [
      "Epoch[90 / 120]\n"
     ]
    },
    {
     "name": "stderr",
     "output_type": "stream",
     "text": [
      "100%|██████████| 273/273 [05:51<00:00,  1.29s/it, gp=0.00625, loss_d=-2.61, loss_g=2.64]   \n"
     ]
    },
    {
     "name": "stdout",
     "output_type": "stream",
     "text": [
      "Models were stored.\n",
      "Saved loss log.\n",
      "Epoch[91 / 120]\n"
     ]
    },
    {
     "name": "stderr",
     "output_type": "stream",
     "text": [
      "100%|██████████| 273/273 [05:51<00:00,  1.29s/it, gp=0.0273, loss_d=-2.89, loss_g=4.22]    \n"
     ]
    },
    {
     "name": "stdout",
     "output_type": "stream",
     "text": [
      "Epoch[92 / 120]\n"
     ]
    },
    {
     "name": "stderr",
     "output_type": "stream",
     "text": [
      "100%|██████████| 273/273 [05:54<00:00,  1.30s/it, gp=0.046, loss_d=-1.99, loss_g=5.7]     \n"
     ]
    },
    {
     "name": "stdout",
     "output_type": "stream",
     "text": [
      "Epoch[93 / 120]\n"
     ]
    },
    {
     "name": "stderr",
     "output_type": "stream",
     "text": [
      "100%|██████████| 273/273 [05:52<00:00,  1.29s/it, gp=0.0129, loss_d=-1.38, loss_g=-5.87]  \n"
     ]
    },
    {
     "name": "stdout",
     "output_type": "stream",
     "text": [
      "Epoch[94 / 120]\n"
     ]
    },
    {
     "name": "stderr",
     "output_type": "stream",
     "text": [
      "100%|██████████| 273/273 [05:53<00:00,  1.30s/it, gp=0.0179, loss_d=-2.19, loss_g=11.7]  \n"
     ]
    },
    {
     "name": "stdout",
     "output_type": "stream",
     "text": [
      "Epoch[95 / 120]\n"
     ]
    },
    {
     "name": "stderr",
     "output_type": "stream",
     "text": [
      "100%|██████████| 273/273 [05:52<00:00,  1.29s/it, gp=0.0137, loss_d=-1.78, loss_g=-2.61]  \n"
     ]
    },
    {
     "name": "stdout",
     "output_type": "stream",
     "text": [
      "Epoch[96 / 120]\n"
     ]
    },
    {
     "name": "stderr",
     "output_type": "stream",
     "text": [
      "100%|██████████| 273/273 [05:51<00:00,  1.29s/it, gp=0.0179, loss_d=-2.65, loss_g=3.14]   \n"
     ]
    },
    {
     "name": "stdout",
     "output_type": "stream",
     "text": [
      "Epoch[97 / 120]\n"
     ]
    },
    {
     "name": "stderr",
     "output_type": "stream",
     "text": [
      "100%|██████████| 273/273 [05:53<00:00,  1.30s/it, gp=0.0418, loss_d=-3.26, loss_g=7.57]   \n"
     ]
    },
    {
     "name": "stdout",
     "output_type": "stream",
     "text": [
      "Epoch[98 / 120]\n"
     ]
    },
    {
     "name": "stderr",
     "output_type": "stream",
     "text": [
      "100%|██████████| 273/273 [05:52<00:00,  1.29s/it, gp=0.00861, loss_d=-3.12, loss_g=9.42]  \n"
     ]
    },
    {
     "name": "stdout",
     "output_type": "stream",
     "text": [
      "Epoch[99 / 120]\n"
     ]
    },
    {
     "name": "stderr",
     "output_type": "stream",
     "text": [
      "100%|██████████| 273/273 [05:54<00:00,  1.30s/it, gp=0.0148, loss_d=-2.31, loss_g=-3.34]    \n"
     ]
    },
    {
     "name": "stdout",
     "output_type": "stream",
     "text": [
      "Epoch[100 / 120]\n"
     ]
    },
    {
     "name": "stderr",
     "output_type": "stream",
     "text": [
      "100%|██████████| 273/273 [05:52<00:00,  1.29s/it, gp=0.024, loss_d=-1.33, loss_g=9.63]    \n"
     ]
    },
    {
     "name": "stdout",
     "output_type": "stream",
     "text": [
      "Models were stored.\n",
      "Saved loss log.\n",
      "Epoch[101 / 120]\n"
     ]
    },
    {
     "name": "stderr",
     "output_type": "stream",
     "text": [
      "100%|██████████| 273/273 [05:53<00:00,  1.29s/it, gp=0.0259, loss_d=-3.03, loss_g=8.21]   \n"
     ]
    },
    {
     "name": "stdout",
     "output_type": "stream",
     "text": [
      "Epoch[102 / 120]\n"
     ]
    },
    {
     "name": "stderr",
     "output_type": "stream",
     "text": [
      "100%|██████████| 273/273 [05:53<00:00,  1.30s/it, gp=0.0186, loss_d=-3.26, loss_g=17.3]   \n"
     ]
    },
    {
     "name": "stdout",
     "output_type": "stream",
     "text": [
      "Epoch[103 / 120]\n"
     ]
    },
    {
     "name": "stderr",
     "output_type": "stream",
     "text": [
      "100%|██████████| 273/273 [05:52<00:00,  1.29s/it, gp=0.0109, loss_d=-2.75, loss_g=10.6]    \n"
     ]
    },
    {
     "name": "stdout",
     "output_type": "stream",
     "text": [
      "Epoch[104 / 120]\n"
     ]
    },
    {
     "name": "stderr",
     "output_type": "stream",
     "text": [
      "100%|██████████| 273/273 [05:54<00:00,  1.30s/it, gp=0.00682, loss_d=-2.18, loss_g=7.95]  \n"
     ]
    },
    {
     "name": "stdout",
     "output_type": "stream",
     "text": [
      "Epoch[105 / 120]\n"
     ]
    },
    {
     "name": "stderr",
     "output_type": "stream",
     "text": [
      "100%|██████████| 273/273 [05:52<00:00,  1.29s/it, gp=0.00989, loss_d=-1.01, loss_g=6.3]    \n"
     ]
    },
    {
     "name": "stdout",
     "output_type": "stream",
     "text": [
      "Epoch[106 / 120]\n"
     ]
    },
    {
     "name": "stderr",
     "output_type": "stream",
     "text": [
      "100%|██████████| 273/273 [05:53<00:00,  1.29s/it, gp=0.0312, loss_d=-1.53, loss_g=8.33]     \n"
     ]
    },
    {
     "name": "stdout",
     "output_type": "stream",
     "text": [
      "Epoch[107 / 120]\n"
     ]
    },
    {
     "name": "stderr",
     "output_type": "stream",
     "text": [
      "100%|██████████| 273/273 [05:52<00:00,  1.29s/it, gp=0.0152, loss_d=-2.25, loss_g=-1.38]  \n"
     ]
    },
    {
     "name": "stdout",
     "output_type": "stream",
     "text": [
      "Epoch[108 / 120]\n"
     ]
    },
    {
     "name": "stderr",
     "output_type": "stream",
     "text": [
      "100%|██████████| 273/273 [05:51<00:00,  1.29s/it, gp=0.0765, loss_d=-2.06, loss_g=7.78]   \n"
     ]
    },
    {
     "name": "stdout",
     "output_type": "stream",
     "text": [
      "Epoch[109 / 120]\n"
     ]
    },
    {
     "name": "stderr",
     "output_type": "stream",
     "text": [
      "100%|██████████| 273/273 [05:54<00:00,  1.30s/it, gp=0.00933, loss_d=-2.43, loss_g=4.74]   \n"
     ]
    },
    {
     "name": "stdout",
     "output_type": "stream",
     "text": [
      "Epoch[110 / 120]\n"
     ]
    },
    {
     "name": "stderr",
     "output_type": "stream",
     "text": [
      "100%|██████████| 273/273 [05:52<00:00,  1.29s/it, gp=0.0481, loss_d=-1.51, loss_g=6.09]   \n"
     ]
    },
    {
     "name": "stdout",
     "output_type": "stream",
     "text": [
      "Models were stored.\n",
      "Saved loss log.\n",
      "Epoch[111 / 120]\n"
     ]
    },
    {
     "name": "stderr",
     "output_type": "stream",
     "text": [
      "100%|██████████| 273/273 [05:54<00:00,  1.30s/it, gp=0.0456, loss_d=-3.26, loss_g=7.35]   \n"
     ]
    },
    {
     "name": "stdout",
     "output_type": "stream",
     "text": [
      "Epoch[112 / 120]\n"
     ]
    },
    {
     "name": "stderr",
     "output_type": "stream",
     "text": [
      "100%|██████████| 273/273 [05:52<00:00,  1.29s/it, gp=0.032, loss_d=-2.2, loss_g=12.1]      \n"
     ]
    },
    {
     "name": "stdout",
     "output_type": "stream",
     "text": [
      "Epoch[113 / 120]\n"
     ]
    },
    {
     "name": "stderr",
     "output_type": "stream",
     "text": [
      "100%|██████████| 273/273 [05:51<00:00,  1.29s/it, gp=0.00889, loss_d=-2.43, loss_g=6.41]  \n"
     ]
    },
    {
     "name": "stdout",
     "output_type": "stream",
     "text": [
      "Epoch[114 / 120]\n"
     ]
    },
    {
     "name": "stderr",
     "output_type": "stream",
     "text": [
      "100%|██████████| 273/273 [05:54<00:00,  1.30s/it, gp=0.0215, loss_d=-2.33, loss_g=6.12]   \n"
     ]
    },
    {
     "name": "stdout",
     "output_type": "stream",
     "text": [
      "Epoch[115 / 120]\n"
     ]
    },
    {
     "name": "stderr",
     "output_type": "stream",
     "text": [
      "100%|██████████| 273/273 [05:52<00:00,  1.29s/it, gp=0.0474, loss_d=-1.95, loss_g=4.26]    \n"
     ]
    },
    {
     "name": "stdout",
     "output_type": "stream",
     "text": [
      "Epoch[116 / 120]\n"
     ]
    },
    {
     "name": "stderr",
     "output_type": "stream",
     "text": [
      "100%|██████████| 273/273 [05:55<00:00,  1.30s/it, gp=0.0243, loss_d=-2.23, loss_g=4.35]    \n"
     ]
    },
    {
     "name": "stdout",
     "output_type": "stream",
     "text": [
      "Epoch[117 / 120]\n"
     ]
    },
    {
     "name": "stderr",
     "output_type": "stream",
     "text": [
      "100%|██████████| 273/273 [05:53<00:00,  1.29s/it, gp=0.0176, loss_d=-1.78, loss_g=0.664]   \n"
     ]
    },
    {
     "name": "stdout",
     "output_type": "stream",
     "text": [
      "Epoch[118 / 120]\n"
     ]
    },
    {
     "name": "stderr",
     "output_type": "stream",
     "text": [
      "100%|██████████| 273/273 [05:53<00:00,  1.30s/it, gp=0.102, loss_d=-1.53, loss_g=-7.47]     \n"
     ]
    },
    {
     "name": "stdout",
     "output_type": "stream",
     "text": [
      "Epoch[119 / 120]\n"
     ]
    },
    {
     "name": "stderr",
     "output_type": "stream",
     "text": [
      "100%|██████████| 273/273 [05:53<00:00,  1.30s/it, gp=0.0192, loss_d=-1.46, loss_g=-0.671] \n"
     ]
    },
    {
     "name": "stdout",
     "output_type": "stream",
     "text": [
      "Epoch[120 / 120]\n"
     ]
    },
    {
     "name": "stderr",
     "output_type": "stream",
     "text": [
      "100%|██████████| 273/273 [05:52<00:00,  1.29s/it, gp=0.00364, loss_d=-1.79, loss_g=6.34]  \n"
     ]
    },
    {
     "name": "stdout",
     "output_type": "stream",
     "text": [
      "Models were stored.\n",
      "Saved loss log.\n",
      "Current Image Size: 256\n",
      "Epoch[1 / 160]\n"
     ]
    },
    {
     "name": "stderr",
     "output_type": "stream",
     "text": [
      "100%|██████████| 546/546 [10:51<00:00,  1.19s/it, gp=0.0887, loss_d=-7.35, loss_g=-0.801]\n"
     ]
    },
    {
     "name": "stdout",
     "output_type": "stream",
     "text": [
      "Epoch[2 / 160]\n"
     ]
    },
    {
     "name": "stderr",
     "output_type": "stream",
     "text": [
      "100%|██████████| 546/546 [10:51<00:00,  1.19s/it, gp=0.193, loss_d=-8.26, loss_g=56.2]   \n"
     ]
    },
    {
     "name": "stdout",
     "output_type": "stream",
     "text": [
      "Epoch[3 / 160]\n"
     ]
    },
    {
     "name": "stderr",
     "output_type": "stream",
     "text": [
      "100%|██████████| 546/546 [10:51<00:00,  1.19s/it, gp=0.0219, loss_d=-15.3, loss_g=16.4]  \n"
     ]
    },
    {
     "name": "stdout",
     "output_type": "stream",
     "text": [
      "Epoch[4 / 160]\n"
     ]
    },
    {
     "name": "stderr",
     "output_type": "stream",
     "text": [
      "100%|██████████| 546/546 [10:50<00:00,  1.19s/it, gp=0.0472, loss_d=-12.5, loss_g=34.9]   \n"
     ]
    },
    {
     "name": "stdout",
     "output_type": "stream",
     "text": [
      "Epoch[5 / 160]\n"
     ]
    },
    {
     "name": "stderr",
     "output_type": "stream",
     "text": [
      "100%|██████████| 546/546 [10:51<00:00,  1.19s/it, gp=0.177, loss_d=-2.52, loss_g=14.2]     \n"
     ]
    },
    {
     "name": "stdout",
     "output_type": "stream",
     "text": [
      "Epoch[6 / 160]\n"
     ]
    },
    {
     "name": "stderr",
     "output_type": "stream",
     "text": [
      "100%|██████████| 546/546 [10:51<00:00,  1.19s/it, gp=0.165, loss_d=-1.66, loss_g=6.58]   \n"
     ]
    },
    {
     "name": "stdout",
     "output_type": "stream",
     "text": [
      "Epoch[7 / 160]\n"
     ]
    },
    {
     "name": "stderr",
     "output_type": "stream",
     "text": [
      "100%|██████████| 546/546 [10:51<00:00,  1.19s/it, gp=0.0458, loss_d=-2.74, loss_g=38.3]   \n"
     ]
    },
    {
     "name": "stdout",
     "output_type": "stream",
     "text": [
      "Epoch[8 / 160]\n"
     ]
    },
    {
     "name": "stderr",
     "output_type": "stream",
     "text": [
      "100%|██████████| 546/546 [10:51<00:00,  1.19s/it, gp=0.103, loss_d=-6.73, loss_g=-41.3]  \n"
     ]
    },
    {
     "name": "stdout",
     "output_type": "stream",
     "text": [
      "Epoch[9 / 160]\n"
     ]
    },
    {
     "name": "stderr",
     "output_type": "stream",
     "text": [
      "100%|██████████| 546/546 [10:51<00:00,  1.19s/it, gp=0.101, loss_d=-5.72, loss_g=4.07]    \n"
     ]
    },
    {
     "name": "stdout",
     "output_type": "stream",
     "text": [
      "Epoch[10 / 160]\n"
     ]
    },
    {
     "name": "stderr",
     "output_type": "stream",
     "text": [
      "100%|██████████| 546/546 [10:50<00:00,  1.19s/it, gp=0.0743, loss_d=-7.87, loss_g=-0.919] \n"
     ]
    },
    {
     "name": "stdout",
     "output_type": "stream",
     "text": [
      "Models were stored.\n",
      "Saved loss log.\n",
      "Epoch[11 / 160]\n"
     ]
    },
    {
     "name": "stderr",
     "output_type": "stream",
     "text": [
      "100%|██████████| 546/546 [10:51<00:00,  1.19s/it, gp=0.129, loss_d=2, loss_g=-24.6]      \n"
     ]
    },
    {
     "name": "stdout",
     "output_type": "stream",
     "text": [
      "Epoch[12 / 160]\n"
     ]
    },
    {
     "name": "stderr",
     "output_type": "stream",
     "text": [
      "100%|██████████| 546/546 [10:51<00:00,  1.19s/it, gp=0.0503, loss_d=-9.24, loss_g=17.1]  \n"
     ]
    },
    {
     "name": "stdout",
     "output_type": "stream",
     "text": [
      "Epoch[13 / 160]\n"
     ]
    },
    {
     "name": "stderr",
     "output_type": "stream",
     "text": [
      "100%|██████████| 546/546 [10:51<00:00,  1.19s/it, gp=0.203, loss_d=-7.24, loss_g=26.3]     \n"
     ]
    },
    {
     "name": "stdout",
     "output_type": "stream",
     "text": [
      "Epoch[14 / 160]\n"
     ]
    },
    {
     "name": "stderr",
     "output_type": "stream",
     "text": [
      "100%|██████████| 546/546 [10:51<00:00,  1.19s/it, gp=0.0529, loss_d=-8.08, loss_g=11.4]   \n"
     ]
    },
    {
     "name": "stdout",
     "output_type": "stream",
     "text": [
      "Epoch[15 / 160]\n"
     ]
    },
    {
     "name": "stderr",
     "output_type": "stream",
     "text": [
      "100%|██████████| 546/546 [10:53<00:00,  1.20s/it, gp=0.0352, loss_d=-5.42, loss_g=-8.94]  \n"
     ]
    },
    {
     "name": "stdout",
     "output_type": "stream",
     "text": [
      "Epoch[16 / 160]\n"
     ]
    },
    {
     "name": "stderr",
     "output_type": "stream",
     "text": [
      "100%|██████████| 546/546 [10:55<00:00,  1.20s/it, gp=0.0416, loss_d=-9.22, loss_g=41.1]    \n"
     ]
    },
    {
     "name": "stdout",
     "output_type": "stream",
     "text": [
      "Epoch[17 / 160]\n"
     ]
    },
    {
     "name": "stderr",
     "output_type": "stream",
     "text": [
      "100%|██████████| 546/546 [10:56<00:00,  1.20s/it, gp=0.0351, loss_d=-7.17, loss_g=22.7]  \n"
     ]
    },
    {
     "name": "stdout",
     "output_type": "stream",
     "text": [
      "Epoch[18 / 160]\n"
     ]
    },
    {
     "name": "stderr",
     "output_type": "stream",
     "text": [
      "100%|██████████| 546/546 [10:56<00:00,  1.20s/it, gp=0.142, loss_d=-8.71, loss_g=8]      \n"
     ]
    },
    {
     "name": "stdout",
     "output_type": "stream",
     "text": [
      "Epoch[19 / 160]\n"
     ]
    },
    {
     "name": "stderr",
     "output_type": "stream",
     "text": [
      "100%|██████████| 546/546 [10:57<00:00,  1.20s/it, gp=0.0366, loss_d=-8.34, loss_g=0.227]  \n"
     ]
    },
    {
     "name": "stdout",
     "output_type": "stream",
     "text": [
      "Epoch[20 / 160]\n"
     ]
    },
    {
     "name": "stderr",
     "output_type": "stream",
     "text": [
      "100%|██████████| 546/546 [11:00<00:00,  1.21s/it, gp=0.0333, loss_d=-3.66, loss_g=-4.71] \n"
     ]
    },
    {
     "name": "stdout",
     "output_type": "stream",
     "text": [
      "Models were stored.\n",
      "Saved loss log.\n",
      "Epoch[21 / 160]\n"
     ]
    },
    {
     "name": "stderr",
     "output_type": "stream",
     "text": [
      "100%|██████████| 546/546 [11:00<00:00,  1.21s/it, gp=0.0175, loss_d=-8.28, loss_g=24.6]  \n"
     ]
    },
    {
     "name": "stdout",
     "output_type": "stream",
     "text": [
      "Epoch[22 / 160]\n"
     ]
    },
    {
     "name": "stderr",
     "output_type": "stream",
     "text": [
      "100%|██████████| 546/546 [10:56<00:00,  1.20s/it, gp=0.0331, loss_d=-2.55, loss_g=10.6]  \n"
     ]
    },
    {
     "name": "stdout",
     "output_type": "stream",
     "text": [
      "Epoch[23 / 160]\n"
     ]
    },
    {
     "name": "stderr",
     "output_type": "stream",
     "text": [
      "100%|██████████| 546/546 [10:47<00:00,  1.19s/it, gp=0.0173, loss_d=-1.1, loss_g=16.5]     \n"
     ]
    },
    {
     "name": "stdout",
     "output_type": "stream",
     "text": [
      "Epoch[24 / 160]\n"
     ]
    },
    {
     "name": "stderr",
     "output_type": "stream",
     "text": [
      "100%|██████████| 546/546 [10:47<00:00,  1.19s/it, gp=0.159, loss_d=-4.85, loss_g=13.8]    \n"
     ]
    },
    {
     "name": "stdout",
     "output_type": "stream",
     "text": [
      "Epoch[25 / 160]\n"
     ]
    },
    {
     "name": "stderr",
     "output_type": "stream",
     "text": [
      "100%|██████████| 546/546 [10:50<00:00,  1.19s/it, gp=0.115, loss_d=-2.84, loss_g=31.3]    \n"
     ]
    },
    {
     "name": "stdout",
     "output_type": "stream",
     "text": [
      "Epoch[26 / 160]\n"
     ]
    },
    {
     "name": "stderr",
     "output_type": "stream",
     "text": [
      "100%|██████████| 546/546 [10:52<00:00,  1.20s/it, gp=0.0212, loss_d=-4.98, loss_g=10.2]   \n"
     ]
    },
    {
     "name": "stdout",
     "output_type": "stream",
     "text": [
      "Epoch[27 / 160]\n"
     ]
    },
    {
     "name": "stderr",
     "output_type": "stream",
     "text": [
      "100%|██████████| 546/546 [10:52<00:00,  1.19s/it, gp=0.358, loss_d=-8.52, loss_g=41]     \n"
     ]
    },
    {
     "name": "stdout",
     "output_type": "stream",
     "text": [
      "Epoch[28 / 160]\n"
     ]
    },
    {
     "name": "stderr",
     "output_type": "stream",
     "text": [
      "100%|██████████| 546/546 [10:55<00:00,  1.20s/it, gp=0.212, loss_d=-3.52, loss_g=-3.66]  \n"
     ]
    },
    {
     "name": "stdout",
     "output_type": "stream",
     "text": [
      "Epoch[29 / 160]\n"
     ]
    },
    {
     "name": "stderr",
     "output_type": "stream",
     "text": [
      "100%|██████████| 546/546 [10:52<00:00,  1.20s/it, gp=0.211, loss_d=-4.53, loss_g=-6.4]   \n"
     ]
    },
    {
     "name": "stdout",
     "output_type": "stream",
     "text": [
      "Epoch[30 / 160]\n"
     ]
    },
    {
     "name": "stderr",
     "output_type": "stream",
     "text": [
      "100%|██████████| 546/546 [10:52<00:00,  1.20s/it, gp=0.0261, loss_d=-4.04, loss_g=39.4]  \n"
     ]
    },
    {
     "name": "stdout",
     "output_type": "stream",
     "text": [
      "Models were stored.\n",
      "Saved loss log.\n",
      "Epoch[31 / 160]\n"
     ]
    },
    {
     "name": "stderr",
     "output_type": "stream",
     "text": [
      "100%|██████████| 546/546 [10:52<00:00,  1.20s/it, gp=0.249, loss_d=-10.1, loss_g=8.07]    \n"
     ]
    },
    {
     "name": "stdout",
     "output_type": "stream",
     "text": [
      "Epoch[32 / 160]\n"
     ]
    },
    {
     "name": "stderr",
     "output_type": "stream",
     "text": [
      "100%|██████████| 546/546 [10:52<00:00,  1.20s/it, gp=0.177, loss_d=-7.67, loss_g=25.9]    \n"
     ]
    },
    {
     "name": "stdout",
     "output_type": "stream",
     "text": [
      "Epoch[33 / 160]\n"
     ]
    },
    {
     "name": "stderr",
     "output_type": "stream",
     "text": [
      "100%|██████████| 546/546 [10:52<00:00,  1.19s/it, gp=0.0461, loss_d=-7.55, loss_g=14.2]  \n"
     ]
    },
    {
     "name": "stdout",
     "output_type": "stream",
     "text": [
      "Epoch[34 / 160]\n"
     ]
    },
    {
     "name": "stderr",
     "output_type": "stream",
     "text": [
      "100%|██████████| 546/546 [10:52<00:00,  1.20s/it, gp=0.28, loss_d=-0.935, loss_g=27.3]    \n"
     ]
    },
    {
     "name": "stdout",
     "output_type": "stream",
     "text": [
      "Epoch[35 / 160]\n"
     ]
    },
    {
     "name": "stderr",
     "output_type": "stream",
     "text": [
      "100%|██████████| 546/546 [10:56<00:00,  1.20s/it, gp=0.161, loss_d=-0.305, loss_g=4.07]    \n"
     ]
    },
    {
     "name": "stdout",
     "output_type": "stream",
     "text": [
      "Epoch[36 / 160]\n"
     ]
    },
    {
     "name": "stderr",
     "output_type": "stream",
     "text": [
      "100%|██████████| 546/546 [10:53<00:00,  1.20s/it, gp=0.258, loss_d=-6.42, loss_g=15.3]    \n"
     ]
    },
    {
     "name": "stdout",
     "output_type": "stream",
     "text": [
      "Epoch[37 / 160]\n"
     ]
    },
    {
     "name": "stderr",
     "output_type": "stream",
     "text": [
      "100%|██████████| 546/546 [10:53<00:00,  1.20s/it, gp=0.0201, loss_d=-4.47, loss_g=10.7]  \n"
     ]
    },
    {
     "name": "stdout",
     "output_type": "stream",
     "text": [
      "Epoch[38 / 160]\n"
     ]
    },
    {
     "name": "stderr",
     "output_type": "stream",
     "text": [
      "100%|██████████| 546/546 [10:53<00:00,  1.20s/it, gp=0.335, loss_d=-8.19, loss_g=22.3]   \n"
     ]
    },
    {
     "name": "stdout",
     "output_type": "stream",
     "text": [
      "Epoch[39 / 160]\n"
     ]
    },
    {
     "name": "stderr",
     "output_type": "stream",
     "text": [
      "100%|██████████| 546/546 [10:53<00:00,  1.20s/it, gp=0.192, loss_d=-10.1, loss_g=-4.63]   \n"
     ]
    },
    {
     "name": "stdout",
     "output_type": "stream",
     "text": [
      "Epoch[40 / 160]\n"
     ]
    },
    {
     "name": "stderr",
     "output_type": "stream",
     "text": [
      "100%|██████████| 546/546 [10:52<00:00,  1.20s/it, gp=0.0509, loss_d=-7.37, loss_g=20.1]    \n"
     ]
    },
    {
     "name": "stdout",
     "output_type": "stream",
     "text": [
      "Models were stored.\n",
      "Saved loss log.\n",
      "Epoch[41 / 160]\n"
     ]
    },
    {
     "name": "stderr",
     "output_type": "stream",
     "text": [
      "100%|██████████| 546/546 [10:52<00:00,  1.20s/it, gp=0.0793, loss_d=-5.11, loss_g=13]    \n"
     ]
    },
    {
     "name": "stdout",
     "output_type": "stream",
     "text": [
      "Epoch[42 / 160]\n"
     ]
    },
    {
     "name": "stderr",
     "output_type": "stream",
     "text": [
      "100%|██████████| 546/546 [10:53<00:00,  1.20s/it, gp=0.153, loss_d=-2.25, loss_g=3.56]   \n"
     ]
    },
    {
     "name": "stdout",
     "output_type": "stream",
     "text": [
      "Epoch[43 / 160]\n"
     ]
    },
    {
     "name": "stderr",
     "output_type": "stream",
     "text": [
      "100%|██████████| 546/546 [10:54<00:00,  1.20s/it, gp=0.0778, loss_d=-6, loss_g=16.8]      \n"
     ]
    },
    {
     "name": "stdout",
     "output_type": "stream",
     "text": [
      "Epoch[44 / 160]\n"
     ]
    },
    {
     "name": "stderr",
     "output_type": "stream",
     "text": [
      "100%|██████████| 546/546 [10:55<00:00,  1.20s/it, gp=0.13, loss_d=-2.69, loss_g=34.7]     \n"
     ]
    },
    {
     "name": "stdout",
     "output_type": "stream",
     "text": [
      "Epoch[45 / 160]\n"
     ]
    },
    {
     "name": "stderr",
     "output_type": "stream",
     "text": [
      "100%|██████████| 546/546 [10:52<00:00,  1.19s/it, gp=0.109, loss_d=-5.53, loss_g=11.3]   \n"
     ]
    },
    {
     "name": "stdout",
     "output_type": "stream",
     "text": [
      "Epoch[46 / 160]\n"
     ]
    },
    {
     "name": "stderr",
     "output_type": "stream",
     "text": [
      "100%|██████████| 546/546 [10:53<00:00,  1.20s/it, gp=0.0809, loss_d=-8.23, loss_g=15.8]   \n"
     ]
    },
    {
     "name": "stdout",
     "output_type": "stream",
     "text": [
      "Epoch[47 / 160]\n"
     ]
    },
    {
     "name": "stderr",
     "output_type": "stream",
     "text": [
      "100%|██████████| 546/546 [10:51<00:00,  1.19s/it, gp=0.0401, loss_d=-7.17, loss_g=29]     \n"
     ]
    },
    {
     "name": "stdout",
     "output_type": "stream",
     "text": [
      "Epoch[48 / 160]\n"
     ]
    },
    {
     "name": "stderr",
     "output_type": "stream",
     "text": [
      "100%|██████████| 546/546 [10:53<00:00,  1.20s/it, gp=0.088, loss_d=-11.5, loss_g=10.1]   \n"
     ]
    },
    {
     "name": "stdout",
     "output_type": "stream",
     "text": [
      "Epoch[49 / 160]\n"
     ]
    },
    {
     "name": "stderr",
     "output_type": "stream",
     "text": [
      "100%|██████████| 546/546 [10:53<00:00,  1.20s/it, gp=0.0639, loss_d=-4.08, loss_g=10.3]   \n"
     ]
    },
    {
     "name": "stdout",
     "output_type": "stream",
     "text": [
      "Epoch[50 / 160]\n"
     ]
    },
    {
     "name": "stderr",
     "output_type": "stream",
     "text": [
      "100%|██████████| 546/546 [10:46<00:00,  1.18s/it, gp=0.324, loss_d=-0.138, loss_g=11.5]   \n"
     ]
    },
    {
     "name": "stdout",
     "output_type": "stream",
     "text": [
      "Models were stored.\n",
      "Saved loss log.\n",
      "Epoch[51 / 160]\n"
     ]
    },
    {
     "name": "stderr",
     "output_type": "stream",
     "text": [
      "100%|██████████| 546/546 [10:46<00:00,  1.18s/it, gp=0.0716, loss_d=-5.39, loss_g=15.7]   \n"
     ]
    },
    {
     "name": "stdout",
     "output_type": "stream",
     "text": [
      "Epoch[52 / 160]\n"
     ]
    },
    {
     "name": "stderr",
     "output_type": "stream",
     "text": [
      "100%|██████████| 546/546 [10:46<00:00,  1.18s/it, gp=0.0201, loss_d=-2.91, loss_g=6.99]   \n"
     ]
    },
    {
     "name": "stdout",
     "output_type": "stream",
     "text": [
      "Epoch[53 / 160]\n"
     ]
    },
    {
     "name": "stderr",
     "output_type": "stream",
     "text": [
      "100%|██████████| 546/546 [10:46<00:00,  1.18s/it, gp=0.139, loss_d=-4.63, loss_g=7.89]   \n"
     ]
    },
    {
     "name": "stdout",
     "output_type": "stream",
     "text": [
      "Epoch[54 / 160]\n"
     ]
    },
    {
     "name": "stderr",
     "output_type": "stream",
     "text": [
      "100%|██████████| 546/546 [10:45<00:00,  1.18s/it, gp=0.0547, loss_d=-0.622, loss_g=13.3] \n"
     ]
    },
    {
     "name": "stdout",
     "output_type": "stream",
     "text": [
      "Epoch[55 / 160]\n"
     ]
    },
    {
     "name": "stderr",
     "output_type": "stream",
     "text": [
      "100%|██████████| 546/546 [10:45<00:00,  1.18s/it, gp=0.0572, loss_d=-6.75, loss_g=30.3]   \n"
     ]
    },
    {
     "name": "stdout",
     "output_type": "stream",
     "text": [
      "Epoch[56 / 160]\n"
     ]
    },
    {
     "name": "stderr",
     "output_type": "stream",
     "text": [
      "100%|██████████| 546/546 [10:45<00:00,  1.18s/it, gp=0.3, loss_d=-2.75, loss_g=16.5]      \n"
     ]
    },
    {
     "name": "stdout",
     "output_type": "stream",
     "text": [
      "Epoch[57 / 160]\n"
     ]
    },
    {
     "name": "stderr",
     "output_type": "stream",
     "text": [
      "100%|██████████| 546/546 [10:48<00:00,  1.19s/it, gp=0.0706, loss_d=-6.81, loss_g=21.2]  \n"
     ]
    },
    {
     "name": "stdout",
     "output_type": "stream",
     "text": [
      "Epoch[58 / 160]\n"
     ]
    },
    {
     "name": "stderr",
     "output_type": "stream",
     "text": [
      "100%|██████████| 546/546 [10:46<00:00,  1.18s/it, gp=0.083, loss_d=-2.84, loss_g=32.2]    \n"
     ]
    },
    {
     "name": "stdout",
     "output_type": "stream",
     "text": [
      "Epoch[59 / 160]\n"
     ]
    },
    {
     "name": "stderr",
     "output_type": "stream",
     "text": [
      "100%|██████████| 546/546 [10:46<00:00,  1.18s/it, gp=0.0199, loss_d=1.49, loss_g=-3.05]  \n"
     ]
    },
    {
     "name": "stdout",
     "output_type": "stream",
     "text": [
      "Epoch[60 / 160]\n"
     ]
    },
    {
     "name": "stderr",
     "output_type": "stream",
     "text": [
      "100%|██████████| 546/546 [10:47<00:00,  1.19s/it, gp=0.049, loss_d=-7.5, loss_g=26]      \n"
     ]
    },
    {
     "name": "stdout",
     "output_type": "stream",
     "text": [
      "Models were stored.\n",
      "Saved loss log.\n",
      "Epoch[61 / 160]\n"
     ]
    },
    {
     "name": "stderr",
     "output_type": "stream",
     "text": [
      "100%|██████████| 546/546 [10:46<00:00,  1.18s/it, gp=0.0795, loss_d=-0.161, loss_g=9.88] \n"
     ]
    },
    {
     "name": "stdout",
     "output_type": "stream",
     "text": [
      "Epoch[62 / 160]\n"
     ]
    },
    {
     "name": "stderr",
     "output_type": "stream",
     "text": [
      "100%|██████████| 546/546 [10:53<00:00,  1.20s/it, gp=0.219, loss_d=0.514, loss_g=16.3]    \n"
     ]
    },
    {
     "name": "stdout",
     "output_type": "stream",
     "text": [
      "Epoch[63 / 160]\n"
     ]
    },
    {
     "name": "stderr",
     "output_type": "stream",
     "text": [
      "100%|██████████| 546/546 [10:51<00:00,  1.19s/it, gp=0.148, loss_d=-3.57, loss_g=7.8]      \n"
     ]
    },
    {
     "name": "stdout",
     "output_type": "stream",
     "text": [
      "Epoch[64 / 160]\n"
     ]
    },
    {
     "name": "stderr",
     "output_type": "stream",
     "text": [
      "100%|██████████| 546/546 [10:50<00:00,  1.19s/it, gp=0.186, loss_d=0.287, loss_g=27.3]    \n"
     ]
    },
    {
     "name": "stdout",
     "output_type": "stream",
     "text": [
      "Epoch[65 / 160]\n"
     ]
    },
    {
     "name": "stderr",
     "output_type": "stream",
     "text": [
      "100%|██████████| 546/546 [10:47<00:00,  1.19s/it, gp=0.0821, loss_d=1.38, loss_g=-3.43]   \n"
     ]
    },
    {
     "name": "stdout",
     "output_type": "stream",
     "text": [
      "Epoch[66 / 160]\n"
     ]
    },
    {
     "name": "stderr",
     "output_type": "stream",
     "text": [
      "100%|██████████| 546/546 [10:51<00:00,  1.19s/it, gp=0.0492, loss_d=-7.62, loss_g=26.9]  \n"
     ]
    },
    {
     "name": "stdout",
     "output_type": "stream",
     "text": [
      "Epoch[67 / 160]\n"
     ]
    },
    {
     "name": "stderr",
     "output_type": "stream",
     "text": [
      "100%|██████████| 546/546 [10:49<00:00,  1.19s/it, gp=0.138, loss_d=-12.1, loss_g=26.9]   \n"
     ]
    },
    {
     "name": "stdout",
     "output_type": "stream",
     "text": [
      "Epoch[68 / 160]\n"
     ]
    },
    {
     "name": "stderr",
     "output_type": "stream",
     "text": [
      "100%|██████████| 546/546 [10:56<00:00,  1.20s/it, gp=0.0775, loss_d=-2.81, loss_g=7.19]  \n"
     ]
    },
    {
     "name": "stdout",
     "output_type": "stream",
     "text": [
      "Epoch[69 / 160]\n"
     ]
    },
    {
     "name": "stderr",
     "output_type": "stream",
     "text": [
      "100%|██████████| 546/546 [10:50<00:00,  1.19s/it, gp=0.0565, loss_d=-1.3, loss_g=38.2]   \n"
     ]
    },
    {
     "name": "stdout",
     "output_type": "stream",
     "text": [
      "Epoch[70 / 160]\n"
     ]
    },
    {
     "name": "stderr",
     "output_type": "stream",
     "text": [
      "100%|██████████| 546/546 [10:50<00:00,  1.19s/it, gp=0.19, loss_d=-5.68, loss_g=11]       \n"
     ]
    },
    {
     "name": "stdout",
     "output_type": "stream",
     "text": [
      "Models were stored.\n",
      "Saved loss log.\n",
      "Epoch[71 / 160]\n"
     ]
    },
    {
     "name": "stderr",
     "output_type": "stream",
     "text": [
      "100%|██████████| 546/546 [10:53<00:00,  1.20s/it, gp=0.131, loss_d=-7.09, loss_g=27.4]    \n"
     ]
    },
    {
     "name": "stdout",
     "output_type": "stream",
     "text": [
      "Epoch[72 / 160]\n"
     ]
    },
    {
     "name": "stderr",
     "output_type": "stream",
     "text": [
      "100%|██████████| 546/546 [10:52<00:00,  1.19s/it, gp=0.1, loss_d=-12.1, loss_g=30.2]      \n"
     ]
    },
    {
     "name": "stdout",
     "output_type": "stream",
     "text": [
      "Epoch[73 / 160]\n"
     ]
    },
    {
     "name": "stderr",
     "output_type": "stream",
     "text": [
      "100%|██████████| 546/546 [10:53<00:00,  1.20s/it, gp=0.0903, loss_d=-7.48, loss_g=26.7]  \n"
     ]
    },
    {
     "name": "stdout",
     "output_type": "stream",
     "text": [
      "Epoch[74 / 160]\n"
     ]
    },
    {
     "name": "stderr",
     "output_type": "stream",
     "text": [
      "100%|██████████| 546/546 [10:52<00:00,  1.20s/it, gp=0.121, loss_d=-4.88, loss_g=17.8]    \n"
     ]
    },
    {
     "name": "stdout",
     "output_type": "stream",
     "text": [
      "Epoch[75 / 160]\n"
     ]
    },
    {
     "name": "stderr",
     "output_type": "stream",
     "text": [
      "100%|██████████| 546/546 [10:51<00:00,  1.19s/it, gp=0.169, loss_d=-10.4, loss_g=44.7]   \n"
     ]
    },
    {
     "name": "stdout",
     "output_type": "stream",
     "text": [
      "Epoch[76 / 160]\n"
     ]
    },
    {
     "name": "stderr",
     "output_type": "stream",
     "text": [
      "100%|██████████| 546/546 [11:11<00:00,  1.23s/it, gp=0.0446, loss_d=-2.32, loss_g=8.47]  \n"
     ]
    },
    {
     "name": "stdout",
     "output_type": "stream",
     "text": [
      "Epoch[77 / 160]\n"
     ]
    },
    {
     "name": "stderr",
     "output_type": "stream",
     "text": [
      "100%|██████████| 546/546 [10:48<00:00,  1.19s/it, gp=0.0921, loss_d=-7.84, loss_g=0.744]  \n"
     ]
    },
    {
     "name": "stdout",
     "output_type": "stream",
     "text": [
      "Epoch[78 / 160]\n"
     ]
    },
    {
     "name": "stderr",
     "output_type": "stream",
     "text": [
      "100%|██████████| 546/546 [10:49<00:00,  1.19s/it, gp=0.403, loss_d=-25, loss_g=68.3]     \n"
     ]
    },
    {
     "name": "stdout",
     "output_type": "stream",
     "text": [
      "Epoch[79 / 160]\n"
     ]
    },
    {
     "name": "stderr",
     "output_type": "stream",
     "text": [
      "100%|██████████| 546/546 [10:50<00:00,  1.19s/it, gp=0.206, loss_d=-8.98, loss_g=17.2]   \n"
     ]
    },
    {
     "name": "stdout",
     "output_type": "stream",
     "text": [
      "Epoch[80 / 160]\n"
     ]
    },
    {
     "name": "stderr",
     "output_type": "stream",
     "text": [
      "100%|██████████| 546/546 [10:50<00:00,  1.19s/it, gp=0.0988, loss_d=-5.56, loss_g=26.5]  \n"
     ]
    },
    {
     "name": "stdout",
     "output_type": "stream",
     "text": [
      "Models were stored.\n",
      "Saved loss log.\n",
      "Epoch[81 / 160]\n"
     ]
    },
    {
     "name": "stderr",
     "output_type": "stream",
     "text": [
      "100%|██████████| 546/546 [10:47<00:00,  1.19s/it, gp=0.141, loss_d=-1.65, loss_g=24]     \n"
     ]
    },
    {
     "name": "stdout",
     "output_type": "stream",
     "text": [
      "Epoch[82 / 160]\n"
     ]
    },
    {
     "name": "stderr",
     "output_type": "stream",
     "text": [
      "100%|██████████| 546/546 [10:47<00:00,  1.19s/it, gp=0.0274, loss_d=-5.78, loss_g=13.1]  \n"
     ]
    },
    {
     "name": "stdout",
     "output_type": "stream",
     "text": [
      "Epoch[83 / 160]\n"
     ]
    },
    {
     "name": "stderr",
     "output_type": "stream",
     "text": [
      "100%|██████████| 546/546 [10:46<00:00,  1.18s/it, gp=0.147, loss_d=14.7, loss_g=-38.6]   \n"
     ]
    },
    {
     "name": "stdout",
     "output_type": "stream",
     "text": [
      "Epoch[84 / 160]\n"
     ]
    },
    {
     "name": "stderr",
     "output_type": "stream",
     "text": [
      "100%|██████████| 546/546 [10:46<00:00,  1.18s/it, gp=0.0737, loss_d=-9.14, loss_g=37.3]  \n"
     ]
    },
    {
     "name": "stdout",
     "output_type": "stream",
     "text": [
      "Epoch[85 / 160]\n"
     ]
    },
    {
     "name": "stderr",
     "output_type": "stream",
     "text": [
      "100%|██████████| 546/546 [10:46<00:00,  1.18s/it, gp=0.114, loss_d=2.3, loss_g=20.1]     \n"
     ]
    },
    {
     "name": "stdout",
     "output_type": "stream",
     "text": [
      "Epoch[86 / 160]\n"
     ]
    },
    {
     "name": "stderr",
     "output_type": "stream",
     "text": [
      "100%|██████████| 546/546 [10:46<00:00,  1.18s/it, gp=0.0393, loss_d=-1.52, loss_g=-20.3]  \n"
     ]
    },
    {
     "name": "stdout",
     "output_type": "stream",
     "text": [
      "Epoch[87 / 160]\n"
     ]
    },
    {
     "name": "stderr",
     "output_type": "stream",
     "text": [
      "100%|██████████| 546/546 [10:46<00:00,  1.18s/it, gp=0.102, loss_d=-5.36, loss_g=26.5]   \n"
     ]
    },
    {
     "name": "stdout",
     "output_type": "stream",
     "text": [
      "Epoch[88 / 160]\n"
     ]
    },
    {
     "name": "stderr",
     "output_type": "stream",
     "text": [
      "100%|██████████| 546/546 [10:46<00:00,  1.18s/it, gp=0.199, loss_d=-3.02, loss_g=10.6]   \n"
     ]
    },
    {
     "name": "stdout",
     "output_type": "stream",
     "text": [
      "Epoch[89 / 160]\n"
     ]
    },
    {
     "name": "stderr",
     "output_type": "stream",
     "text": [
      "100%|██████████| 546/546 [10:46<00:00,  1.18s/it, gp=0.27, loss_d=-7.17, loss_g=41.3]    \n"
     ]
    },
    {
     "name": "stdout",
     "output_type": "stream",
     "text": [
      "Epoch[90 / 160]\n"
     ]
    },
    {
     "name": "stderr",
     "output_type": "stream",
     "text": [
      "100%|██████████| 546/546 [10:45<00:00,  1.18s/it, gp=0.0951, loss_d=-5.58, loss_g=-17.3] \n"
     ]
    },
    {
     "name": "stdout",
     "output_type": "stream",
     "text": [
      "Models were stored.\n",
      "Saved loss log.\n",
      "Epoch[91 / 160]\n"
     ]
    },
    {
     "name": "stderr",
     "output_type": "stream",
     "text": [
      "100%|██████████| 546/546 [10:45<00:00,  1.18s/it, gp=0.122, loss_d=-9.49, loss_g=21.9]    \n"
     ]
    },
    {
     "name": "stdout",
     "output_type": "stream",
     "text": [
      "Epoch[92 / 160]\n"
     ]
    },
    {
     "name": "stderr",
     "output_type": "stream",
     "text": [
      "100%|██████████| 546/546 [10:45<00:00,  1.18s/it, gp=0.0633, loss_d=-8.63, loss_g=21.8]   \n"
     ]
    },
    {
     "name": "stdout",
     "output_type": "stream",
     "text": [
      "Epoch[93 / 160]\n"
     ]
    },
    {
     "name": "stderr",
     "output_type": "stream",
     "text": [
      "100%|██████████| 546/546 [10:46<00:00,  1.18s/it, gp=0.094, loss_d=-8.37, loss_g=0.00607]\n"
     ]
    },
    {
     "name": "stdout",
     "output_type": "stream",
     "text": [
      "Epoch[94 / 160]\n"
     ]
    },
    {
     "name": "stderr",
     "output_type": "stream",
     "text": [
      "100%|██████████| 546/546 [10:46<00:00,  1.18s/it, gp=0.0731, loss_d=-11, loss_g=12.5]    \n"
     ]
    },
    {
     "name": "stdout",
     "output_type": "stream",
     "text": [
      "Epoch[95 / 160]\n"
     ]
    },
    {
     "name": "stderr",
     "output_type": "stream",
     "text": [
      "100%|██████████| 546/546 [10:46<00:00,  1.18s/it, gp=0.164, loss_d=-7.96, loss_g=33.4]    \n"
     ]
    },
    {
     "name": "stdout",
     "output_type": "stream",
     "text": [
      "Epoch[96 / 160]\n"
     ]
    },
    {
     "name": "stderr",
     "output_type": "stream",
     "text": [
      "100%|██████████| 546/546 [10:46<00:00,  1.18s/it, gp=0.0735, loss_d=0.169, loss_g=12.2]  \n"
     ]
    },
    {
     "name": "stdout",
     "output_type": "stream",
     "text": [
      "Epoch[97 / 160]\n"
     ]
    },
    {
     "name": "stderr",
     "output_type": "stream",
     "text": [
      "100%|██████████| 546/546 [10:46<00:00,  1.18s/it, gp=0.103, loss_d=-2.98, loss_g=-0.451]  \n"
     ]
    },
    {
     "name": "stdout",
     "output_type": "stream",
     "text": [
      "Epoch[98 / 160]\n"
     ]
    },
    {
     "name": "stderr",
     "output_type": "stream",
     "text": [
      "100%|██████████| 546/546 [10:46<00:00,  1.18s/it, gp=0.0858, loss_d=-11, loss_g=30.5]   \n"
     ]
    },
    {
     "name": "stdout",
     "output_type": "stream",
     "text": [
      "Epoch[99 / 160]\n"
     ]
    },
    {
     "name": "stderr",
     "output_type": "stream",
     "text": [
      "100%|██████████| 546/546 [10:46<00:00,  1.18s/it, gp=0.114, loss_d=-10.7, loss_g=25.3]    \n"
     ]
    },
    {
     "name": "stdout",
     "output_type": "stream",
     "text": [
      "Epoch[100 / 160]\n"
     ]
    },
    {
     "name": "stderr",
     "output_type": "stream",
     "text": [
      "100%|██████████| 546/546 [10:46<00:00,  1.18s/it, gp=0.221, loss_d=-2.19, loss_g=19.2]   \n"
     ]
    },
    {
     "name": "stdout",
     "output_type": "stream",
     "text": [
      "Models were stored.\n",
      "Saved loss log.\n",
      "Epoch[101 / 160]\n"
     ]
    },
    {
     "name": "stderr",
     "output_type": "stream",
     "text": [
      "100%|██████████| 546/546 [10:45<00:00,  1.18s/it, gp=0.135, loss_d=-7.28, loss_g=40.5]   \n"
     ]
    },
    {
     "name": "stdout",
     "output_type": "stream",
     "text": [
      "Epoch[102 / 160]\n"
     ]
    },
    {
     "name": "stderr",
     "output_type": "stream",
     "text": [
      "100%|██████████| 546/546 [10:45<00:00,  1.18s/it, gp=0.0385, loss_d=-17.8, loss_g=11.1]   \n"
     ]
    },
    {
     "name": "stdout",
     "output_type": "stream",
     "text": [
      "Epoch[103 / 160]\n"
     ]
    },
    {
     "name": "stderr",
     "output_type": "stream",
     "text": [
      "100%|██████████| 546/546 [10:45<00:00,  1.18s/it, gp=0.135, loss_d=-10.3, loss_g=36]      \n"
     ]
    },
    {
     "name": "stdout",
     "output_type": "stream",
     "text": [
      "Epoch[104 / 160]\n"
     ]
    },
    {
     "name": "stderr",
     "output_type": "stream",
     "text": [
      "100%|██████████| 546/546 [10:45<00:00,  1.18s/it, gp=0.66, loss_d=-9.93, loss_g=26.8]    \n"
     ]
    },
    {
     "name": "stdout",
     "output_type": "stream",
     "text": [
      "Epoch[105 / 160]\n"
     ]
    },
    {
     "name": "stderr",
     "output_type": "stream",
     "text": [
      "100%|██████████| 546/546 [10:44<00:00,  1.18s/it, gp=0.0457, loss_d=-7.7, loss_g=33.8]   \n"
     ]
    },
    {
     "name": "stdout",
     "output_type": "stream",
     "text": [
      "Epoch[106 / 160]\n"
     ]
    },
    {
     "name": "stderr",
     "output_type": "stream",
     "text": [
      "100%|██████████| 546/546 [10:45<00:00,  1.18s/it, gp=0.221, loss_d=-5.83, loss_g=33.1]   \n"
     ]
    },
    {
     "name": "stdout",
     "output_type": "stream",
     "text": [
      "Epoch[107 / 160]\n"
     ]
    },
    {
     "name": "stderr",
     "output_type": "stream",
     "text": [
      "100%|██████████| 546/546 [10:45<00:00,  1.18s/it, gp=0.275, loss_d=-9.98, loss_g=20.4]   \n"
     ]
    },
    {
     "name": "stdout",
     "output_type": "stream",
     "text": [
      "Epoch[108 / 160]\n"
     ]
    },
    {
     "name": "stderr",
     "output_type": "stream",
     "text": [
      "100%|██████████| 546/546 [10:45<00:00,  1.18s/it, gp=0.0919, loss_d=-12.1, loss_g=21.8]   \n"
     ]
    },
    {
     "name": "stdout",
     "output_type": "stream",
     "text": [
      "Epoch[109 / 160]\n"
     ]
    },
    {
     "name": "stderr",
     "output_type": "stream",
     "text": [
      "100%|██████████| 546/546 [10:45<00:00,  1.18s/it, gp=0.0767, loss_d=-12.6, loss_g=20.9]  \n"
     ]
    },
    {
     "name": "stdout",
     "output_type": "stream",
     "text": [
      "Epoch[110 / 160]\n"
     ]
    },
    {
     "name": "stderr",
     "output_type": "stream",
     "text": [
      "100%|██████████| 546/546 [10:44<00:00,  1.18s/it, gp=0.127, loss_d=-7.76, loss_g=11]      \n"
     ]
    },
    {
     "name": "stdout",
     "output_type": "stream",
     "text": [
      "Models were stored.\n",
      "Saved loss log.\n",
      "Epoch[111 / 160]\n"
     ]
    },
    {
     "name": "stderr",
     "output_type": "stream",
     "text": [
      "100%|██████████| 546/546 [10:45<00:00,  1.18s/it, gp=0.0574, loss_d=0.339, loss_g=27.4]  \n"
     ]
    },
    {
     "name": "stdout",
     "output_type": "stream",
     "text": [
      "Epoch[112 / 160]\n"
     ]
    },
    {
     "name": "stderr",
     "output_type": "stream",
     "text": [
      "100%|██████████| 546/546 [10:45<00:00,  1.18s/it, gp=0.238, loss_d=-10.5, loss_g=-1.9]     \n"
     ]
    },
    {
     "name": "stdout",
     "output_type": "stream",
     "text": [
      "Epoch[113 / 160]\n"
     ]
    },
    {
     "name": "stderr",
     "output_type": "stream",
     "text": [
      "100%|██████████| 546/546 [10:44<00:00,  1.18s/it, gp=0.137, loss_d=-7.58, loss_g=-1.14]  \n"
     ]
    },
    {
     "name": "stdout",
     "output_type": "stream",
     "text": [
      "Epoch[114 / 160]\n"
     ]
    },
    {
     "name": "stderr",
     "output_type": "stream",
     "text": [
      "100%|██████████| 546/546 [10:45<00:00,  1.18s/it, gp=0.187, loss_d=-12.7, loss_g=50.9]    \n"
     ]
    },
    {
     "name": "stdout",
     "output_type": "stream",
     "text": [
      "Epoch[115 / 160]\n"
     ]
    },
    {
     "name": "stderr",
     "output_type": "stream",
     "text": [
      "100%|██████████| 546/546 [10:45<00:00,  1.18s/it, gp=0.115, loss_d=1.22, loss_g=8.68]    \n"
     ]
    },
    {
     "name": "stdout",
     "output_type": "stream",
     "text": [
      "Epoch[116 / 160]\n"
     ]
    },
    {
     "name": "stderr",
     "output_type": "stream",
     "text": [
      "100%|██████████| 546/546 [10:45<00:00,  1.18s/it, gp=0.134, loss_d=-10.9, loss_g=17]     \n"
     ]
    },
    {
     "name": "stdout",
     "output_type": "stream",
     "text": [
      "Epoch[117 / 160]\n"
     ]
    },
    {
     "name": "stderr",
     "output_type": "stream",
     "text": [
      "100%|██████████| 546/546 [10:44<00:00,  1.18s/it, gp=0.286, loss_d=2.07, loss_g=7.87]     \n"
     ]
    },
    {
     "name": "stdout",
     "output_type": "stream",
     "text": [
      "Epoch[118 / 160]\n"
     ]
    },
    {
     "name": "stderr",
     "output_type": "stream",
     "text": [
      "100%|██████████| 546/546 [10:44<00:00,  1.18s/it, gp=0.217, loss_d=-1.22, loss_g=11.7]    \n"
     ]
    },
    {
     "name": "stdout",
     "output_type": "stream",
     "text": [
      "Epoch[119 / 160]\n"
     ]
    },
    {
     "name": "stderr",
     "output_type": "stream",
     "text": [
      "100%|██████████| 546/546 [10:44<00:00,  1.18s/it, gp=0.0434, loss_d=-0.303, loss_g=33.6] \n"
     ]
    },
    {
     "name": "stdout",
     "output_type": "stream",
     "text": [
      "Epoch[120 / 160]\n"
     ]
    },
    {
     "name": "stderr",
     "output_type": "stream",
     "text": [
      "100%|██████████| 546/546 [10:45<00:00,  1.18s/it, gp=0.122, loss_d=-6.72, loss_g=16.8]   \n"
     ]
    },
    {
     "name": "stdout",
     "output_type": "stream",
     "text": [
      "Models were stored.\n",
      "Saved loss log.\n",
      "Epoch[121 / 160]\n"
     ]
    },
    {
     "name": "stderr",
     "output_type": "stream",
     "text": [
      "100%|██████████| 546/546 [10:44<00:00,  1.18s/it, gp=0.0493, loss_d=-0.137, loss_g=-17] \n"
     ]
    },
    {
     "name": "stdout",
     "output_type": "stream",
     "text": [
      "Epoch[122 / 160]\n"
     ]
    },
    {
     "name": "stderr",
     "output_type": "stream",
     "text": [
      "100%|██████████| 546/546 [10:45<00:00,  1.18s/it, gp=0.202, loss_d=-10.9, loss_g=10.8]    \n"
     ]
    },
    {
     "name": "stdout",
     "output_type": "stream",
     "text": [
      "Epoch[123 / 160]\n"
     ]
    },
    {
     "name": "stderr",
     "output_type": "stream",
     "text": [
      "100%|██████████| 546/546 [10:45<00:00,  1.18s/it, gp=0.104, loss_d=-10.5, loss_g=24.9]   \n"
     ]
    },
    {
     "name": "stdout",
     "output_type": "stream",
     "text": [
      "Epoch[124 / 160]\n"
     ]
    },
    {
     "name": "stderr",
     "output_type": "stream",
     "text": [
      "100%|██████████| 546/546 [10:45<00:00,  1.18s/it, gp=0.193, loss_d=-3.93, loss_g=37.2]    \n"
     ]
    },
    {
     "name": "stdout",
     "output_type": "stream",
     "text": [
      "Epoch[125 / 160]\n"
     ]
    },
    {
     "name": "stderr",
     "output_type": "stream",
     "text": [
      "100%|██████████| 546/546 [10:45<00:00,  1.18s/it, gp=0.498, loss_d=8.1, loss_g=9.54]     \n"
     ]
    },
    {
     "name": "stdout",
     "output_type": "stream",
     "text": [
      "Epoch[126 / 160]\n"
     ]
    },
    {
     "name": "stderr",
     "output_type": "stream",
     "text": [
      "100%|██████████| 546/546 [10:45<00:00,  1.18s/it, gp=0.101, loss_d=-0.669, loss_g=11.8]   \n"
     ]
    },
    {
     "name": "stdout",
     "output_type": "stream",
     "text": [
      "Epoch[127 / 160]\n"
     ]
    },
    {
     "name": "stderr",
     "output_type": "stream",
     "text": [
      "100%|██████████| 546/546 [10:46<00:00,  1.18s/it, gp=0.0213, loss_d=-1.91, loss_g=17.8]   \n"
     ]
    },
    {
     "name": "stdout",
     "output_type": "stream",
     "text": [
      "Epoch[128 / 160]\n"
     ]
    },
    {
     "name": "stderr",
     "output_type": "stream",
     "text": [
      "100%|██████████| 546/546 [10:45<00:00,  1.18s/it, gp=0.073, loss_d=-7.23, loss_g=21.1]  \n"
     ]
    },
    {
     "name": "stdout",
     "output_type": "stream",
     "text": [
      "Epoch[129 / 160]\n"
     ]
    },
    {
     "name": "stderr",
     "output_type": "stream",
     "text": [
      "100%|██████████| 546/546 [10:45<00:00,  1.18s/it, gp=0.0834, loss_d=7.3, loss_g=7.35]    \n"
     ]
    },
    {
     "name": "stdout",
     "output_type": "stream",
     "text": [
      "Epoch[130 / 160]\n"
     ]
    },
    {
     "name": "stderr",
     "output_type": "stream",
     "text": [
      "100%|██████████| 546/546 [10:45<00:00,  1.18s/it, gp=0.101, loss_d=0.000938, loss_g=20.1]\n"
     ]
    },
    {
     "name": "stdout",
     "output_type": "stream",
     "text": [
      "Models were stored.\n",
      "Saved loss log.\n",
      "Epoch[131 / 160]\n"
     ]
    },
    {
     "name": "stderr",
     "output_type": "stream",
     "text": [
      "100%|██████████| 546/546 [10:45<00:00,  1.18s/it, gp=0.147, loss_d=-6.65, loss_g=16.7]    \n"
     ]
    },
    {
     "name": "stdout",
     "output_type": "stream",
     "text": [
      "Epoch[132 / 160]\n"
     ]
    },
    {
     "name": "stderr",
     "output_type": "stream",
     "text": [
      "100%|██████████| 546/546 [10:45<00:00,  1.18s/it, gp=0.14, loss_d=-8.21, loss_g=33.2]     \n"
     ]
    },
    {
     "name": "stdout",
     "output_type": "stream",
     "text": [
      "Epoch[133 / 160]\n"
     ]
    },
    {
     "name": "stderr",
     "output_type": "stream",
     "text": [
      "100%|██████████| 546/546 [10:45<00:00,  1.18s/it, gp=0.298, loss_d=1.96, loss_g=6.24]      \n"
     ]
    },
    {
     "name": "stdout",
     "output_type": "stream",
     "text": [
      "Epoch[134 / 160]\n"
     ]
    },
    {
     "name": "stderr",
     "output_type": "stream",
     "text": [
      "100%|██████████| 546/546 [10:45<00:00,  1.18s/it, gp=0.23, loss_d=2.08, loss_g=-19.3]    \n"
     ]
    },
    {
     "name": "stdout",
     "output_type": "stream",
     "text": [
      "Epoch[135 / 160]\n"
     ]
    },
    {
     "name": "stderr",
     "output_type": "stream",
     "text": [
      "100%|██████████| 546/546 [10:45<00:00,  1.18s/it, gp=0.129, loss_d=-7.14, loss_g=13.2]  \n"
     ]
    },
    {
     "name": "stdout",
     "output_type": "stream",
     "text": [
      "Epoch[136 / 160]\n"
     ]
    },
    {
     "name": "stderr",
     "output_type": "stream",
     "text": [
      "100%|██████████| 546/546 [10:45<00:00,  1.18s/it, gp=0.15, loss_d=-14.9, loss_g=17.1]   \n"
     ]
    },
    {
     "name": "stdout",
     "output_type": "stream",
     "text": [
      "Epoch[137 / 160]\n"
     ]
    },
    {
     "name": "stderr",
     "output_type": "stream",
     "text": [
      "100%|██████████| 546/546 [10:45<00:00,  1.18s/it, gp=0.393, loss_d=4.19, loss_g=15.7]    \n"
     ]
    },
    {
     "name": "stdout",
     "output_type": "stream",
     "text": [
      "Epoch[138 / 160]\n"
     ]
    },
    {
     "name": "stderr",
     "output_type": "stream",
     "text": [
      "100%|██████████| 546/546 [10:46<00:00,  1.18s/it, gp=0.117, loss_d=1.35, loss_g=-14.8]   \n"
     ]
    },
    {
     "name": "stdout",
     "output_type": "stream",
     "text": [
      "Epoch[139 / 160]\n"
     ]
    },
    {
     "name": "stderr",
     "output_type": "stream",
     "text": [
      "100%|██████████| 546/546 [10:46<00:00,  1.18s/it, gp=0.243, loss_d=-11.2, loss_g=20]      \n"
     ]
    },
    {
     "name": "stdout",
     "output_type": "stream",
     "text": [
      "Epoch[140 / 160]\n"
     ]
    },
    {
     "name": "stderr",
     "output_type": "stream",
     "text": [
      "100%|██████████| 546/546 [10:45<00:00,  1.18s/it, gp=0.184, loss_d=-16.5, loss_g=12.4]   \n"
     ]
    },
    {
     "name": "stdout",
     "output_type": "stream",
     "text": [
      "Models were stored.\n",
      "Saved loss log.\n",
      "Epoch[141 / 160]\n"
     ]
    },
    {
     "name": "stderr",
     "output_type": "stream",
     "text": [
      "100%|██████████| 546/546 [10:45<00:00,  1.18s/it, gp=0.15, loss_d=-9.9, loss_g=35.4]     \n"
     ]
    },
    {
     "name": "stdout",
     "output_type": "stream",
     "text": [
      "Epoch[142 / 160]\n"
     ]
    },
    {
     "name": "stderr",
     "output_type": "stream",
     "text": [
      "100%|██████████| 546/546 [10:45<00:00,  1.18s/it, gp=0.207, loss_d=-14.1, loss_g=4.38]  \n"
     ]
    },
    {
     "name": "stdout",
     "output_type": "stream",
     "text": [
      "Epoch[143 / 160]\n"
     ]
    },
    {
     "name": "stderr",
     "output_type": "stream",
     "text": [
      "100%|██████████| 546/546 [10:45<00:00,  1.18s/it, gp=0.0892, loss_d=-8.38, loss_g=41.2]  \n"
     ]
    },
    {
     "name": "stdout",
     "output_type": "stream",
     "text": [
      "Epoch[144 / 160]\n"
     ]
    },
    {
     "name": "stderr",
     "output_type": "stream",
     "text": [
      "100%|██████████| 546/546 [10:46<00:00,  1.18s/it, gp=0.25, loss_d=-14.5, loss_g=30.1]   \n"
     ]
    },
    {
     "name": "stdout",
     "output_type": "stream",
     "text": [
      "Epoch[145 / 160]\n"
     ]
    },
    {
     "name": "stderr",
     "output_type": "stream",
     "text": [
      "100%|██████████| 546/546 [10:57<00:00,  1.21s/it, gp=0.146, loss_d=-9.15, loss_g=48.4]   \n"
     ]
    },
    {
     "name": "stdout",
     "output_type": "stream",
     "text": [
      "Epoch[146 / 160]\n"
     ]
    },
    {
     "name": "stderr",
     "output_type": "stream",
     "text": [
      "100%|██████████| 546/546 [10:57<00:00,  1.20s/it, gp=0.113, loss_d=-14.5, loss_g=44]    \n"
     ]
    },
    {
     "name": "stdout",
     "output_type": "stream",
     "text": [
      "Epoch[147 / 160]\n"
     ]
    },
    {
     "name": "stderr",
     "output_type": "stream",
     "text": [
      "100%|██████████| 546/546 [10:56<00:00,  1.20s/it, gp=0.208, loss_d=-11.9, loss_g=33.7]  \n"
     ]
    },
    {
     "name": "stdout",
     "output_type": "stream",
     "text": [
      "Epoch[148 / 160]\n"
     ]
    },
    {
     "name": "stderr",
     "output_type": "stream",
     "text": [
      "100%|██████████| 546/546 [10:51<00:00,  1.19s/it, gp=0.338, loss_d=-10.4, loss_g=32.9]   \n"
     ]
    },
    {
     "name": "stdout",
     "output_type": "stream",
     "text": [
      "Epoch[149 / 160]\n"
     ]
    },
    {
     "name": "stderr",
     "output_type": "stream",
     "text": [
      "100%|██████████| 546/546 [10:57<00:00,  1.20s/it, gp=0.416, loss_d=-3.38, loss_g=-12]    \n"
     ]
    },
    {
     "name": "stdout",
     "output_type": "stream",
     "text": [
      "Epoch[150 / 160]\n"
     ]
    },
    {
     "name": "stderr",
     "output_type": "stream",
     "text": [
      "100%|██████████| 546/546 [10:58<00:00,  1.21s/it, gp=0.215, loss_d=-4.87, loss_g=42.6]  \n"
     ]
    },
    {
     "name": "stdout",
     "output_type": "stream",
     "text": [
      "Models were stored.\n",
      "Saved loss log.\n",
      "Epoch[151 / 160]\n"
     ]
    },
    {
     "name": "stderr",
     "output_type": "stream",
     "text": [
      "100%|██████████| 546/546 [10:51<00:00,  1.19s/it, gp=0.26, loss_d=-8.19, loss_g=23]     \n"
     ]
    },
    {
     "name": "stdout",
     "output_type": "stream",
     "text": [
      "Epoch[152 / 160]\n"
     ]
    },
    {
     "name": "stderr",
     "output_type": "stream",
     "text": [
      "100%|██████████| 546/546 [10:51<00:00,  1.19s/it, gp=0.131, loss_d=-15, loss_g=45.1]    \n"
     ]
    },
    {
     "name": "stdout",
     "output_type": "stream",
     "text": [
      "Epoch[153 / 160]\n"
     ]
    },
    {
     "name": "stderr",
     "output_type": "stream",
     "text": [
      "100%|██████████| 546/546 [10:52<00:00,  1.19s/it, gp=0.168, loss_d=-10.3, loss_g=21.1]  \n"
     ]
    },
    {
     "name": "stdout",
     "output_type": "stream",
     "text": [
      "Epoch[154 / 160]\n"
     ]
    },
    {
     "name": "stderr",
     "output_type": "stream",
     "text": [
      "100%|██████████| 546/546 [10:54<00:00,  1.20s/it, gp=0.0839, loss_d=-13.7, loss_g=22.3]  \n"
     ]
    },
    {
     "name": "stdout",
     "output_type": "stream",
     "text": [
      "Epoch[155 / 160]\n"
     ]
    },
    {
     "name": "stderr",
     "output_type": "stream",
     "text": [
      "100%|██████████| 546/546 [10:52<00:00,  1.19s/it, gp=0.218, loss_d=-17.6, loss_g=31.2]  \n"
     ]
    },
    {
     "name": "stdout",
     "output_type": "stream",
     "text": [
      "Epoch[156 / 160]\n"
     ]
    },
    {
     "name": "stderr",
     "output_type": "stream",
     "text": [
      "100%|██████████| 546/546 [10:51<00:00,  1.19s/it, gp=0.141, loss_d=-4.26, loss_g=14.4]   \n"
     ]
    },
    {
     "name": "stdout",
     "output_type": "stream",
     "text": [
      "Epoch[157 / 160]\n"
     ]
    },
    {
     "name": "stderr",
     "output_type": "stream",
     "text": [
      "100%|██████████| 546/546 [10:55<00:00,  1.20s/it, gp=0.239, loss_d=-18.8, loss_g=57.1]  \n"
     ]
    },
    {
     "name": "stdout",
     "output_type": "stream",
     "text": [
      "Epoch[158 / 160]\n"
     ]
    },
    {
     "name": "stderr",
     "output_type": "stream",
     "text": [
      "100%|██████████| 546/546 [10:51<00:00,  1.19s/it, gp=0.291, loss_d=-7.68, loss_g=26.3]   \n"
     ]
    },
    {
     "name": "stdout",
     "output_type": "stream",
     "text": [
      "Epoch[159 / 160]\n"
     ]
    },
    {
     "name": "stderr",
     "output_type": "stream",
     "text": [
      "100%|██████████| 546/546 [10:53<00:00,  1.20s/it, gp=0.153, loss_d=-4.29, loss_g=13]    \n"
     ]
    },
    {
     "name": "stdout",
     "output_type": "stream",
     "text": [
      "Epoch[160 / 160]\n"
     ]
    },
    {
     "name": "stderr",
     "output_type": "stream",
     "text": [
      "100%|██████████| 546/546 [10:52<00:00,  1.19s/it, gp=0.25, loss_d=-12.6, loss_g=22.5]   \n"
     ]
    },
    {
     "name": "stdout",
     "output_type": "stream",
     "text": [
      "Models were stored.\n",
      "Saved loss log.\n"
     ]
    }
   ],
   "source": [
    "generator = Generator(Z_DIM, W_DIM, IN_CHANNELS, IMG_CHANNELS).to(DEVICE)\n",
    "discriminator = Discriminator(IN_CHANNELS, IMG_CHANNELS).to(DEVICE)\n",
    "\n",
    "optimizer_g = optim.Adam([\n",
    "    {'params': [param for name, param in generator.named_parameters() if 'map' not in name]},\n",
    "    {'params': generator.mapping_network.parameters(), 'lr': 1e-5}\n",
    "], lr=LEARNING_RATE, betas=(0.0, 0.99))\n",
    "optimizer_d = optim.Adam(discriminator.parameters(), lr=LEARNING_RATE, betas=(0.0, 0.99))\n",
    "\n",
    "generator.train()\n",
    "discriminator.train()\n",
    "\n",
    "loss_log = {\n",
    "    \"Generator Loss\": [],\n",
    "    \"Discriminator Loss\": []\n",
    "}\n",
    "\n",
    "step = int(log2(FIRST_IMG_SIZE / 4))\n",
    "for num_epochs in PROGRESSIVE_EPOCHS[step:]:\n",
    "    alpha = 1e-7\n",
    "    loader, dataset = get_loader(4 * 2 ** step)\n",
    "    print('Current Image Size: ' + str(4 * 2**step))\n",
    "    \n",
    "    for epoch in range(num_epochs):\n",
    "        print(f'Epoch[{epoch + 1} / {num_epochs}]')\n",
    "\n",
    "        alpha, loss_d, loss_g = train_function(\n",
    "            discriminator, generator, loader, dataset, step, alpha, optimizer_d, optimizer_g\n",
    "        )\n",
    "\n",
    "        loss_log[\"Generator Loss\"].append(loss_g)\n",
    "        loss_log[\"Discriminator Loss\"].append(loss_d)\n",
    "\n",
    "        if (epoch + 1) % SAVE_INTERVAL == 0:\n",
    "            generate_examples(generator, step, epoch)\n",
    "            save_model(discriminator, generator, step, epoch)\n",
    "            save_loss_value(loss_log)\n",
    "\n",
    "    step += 1"
   ]
  },
  {
   "cell_type": "raw",
   "metadata": {
    "vscode": {
     "languageId": "raw"
    }
   },
   "source": [
    "This script was edited at Yoshimi Lab in Tohoku University, Material Science and Engineering Department"
   ]
  }
 ],
 "metadata": {
  "kernelspec": {
   "display_name": "stylegan_python39",
   "language": "python",
   "name": "python3"
  },
  "language_info": {
   "codemirror_mode": {
    "name": "ipython",
    "version": 3
   },
   "file_extension": ".py",
   "mimetype": "text/x-python",
   "name": "python",
   "nbconvert_exporter": "python",
   "pygments_lexer": "ipython3",
   "version": "3.9.18"
  }
 },
 "nbformat": 4,
 "nbformat_minor": 2
}
