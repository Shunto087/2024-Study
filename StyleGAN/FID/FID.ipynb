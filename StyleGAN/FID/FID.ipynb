{
 "cells": [
  {
   "cell_type": "raw",
   "metadata": {
    "vscode": {
     "languageId": "raw"
    }
   },
   "source": [
    "FID（Fréchet Inception Distance）"
   ]
  },
  {
   "cell_type": "code",
   "execution_count": 7,
   "metadata": {},
   "outputs": [],
   "source": [
    "FIRST_EPOCH = 10\n",
    "EPOCH_INTERVAL = 10\n",
    "END_EPOCH = 160"
   ]
  },
  {
   "cell_type": "code",
   "execution_count": 8,
   "metadata": {},
   "outputs": [],
   "source": [
    "import os\n",
    "import random\n",
    "import numpy as np\n",
    "from PIL import Image\n",
    "from scipy.linalg import sqrtm\n",
    "import torch\n",
    "from torchvision import models, transforms\n",
    "import csv\n",
    "from datetime import datetime\n",
    "\n",
    "def calculate_fid(real_features, fake_features):\n",
    "    mu1, sigma1 = np.mean(real_features, axis=0), np.cov(real_features, rowvar=False)\n",
    "    mu2, sigma2 = np.mean(fake_features, axis=0), np.cov(fake_features, rowvar=False)\n",
    "\n",
    "    ssdiff = np.sum((mu1 - mu2) ** 2.0)\n",
    "    covmean = sqrtm(sigma1.dot(sigma2))\n",
    "\n",
    "    if np.iscomplexobj(covmean):\n",
    "        covmean = covmean.real\n",
    "\n",
    "    fid = ssdiff + np.trace(sigma1 + sigma2 - 2.0 * covmean)\n",
    "    return fid\n",
    "\n",
    "def extract_features(folder, model, transform, num_images):\n",
    "    images = os.listdir(folder)\n",
    "    sampled_images = random.sample(images, num_images)\n",
    "    features = []\n",
    "\n",
    "    for img_name in sampled_images:\n",
    "        img_path = os.path.join(folder, img_name)\n",
    "        img = Image.open(img_path).convert('RGB')\n",
    "        img_tensor = transform(img).unsqueeze(0)\n",
    "\n",
    "        with torch.no_grad():\n",
    "            feature = model(img_tensor).squeeze(0).numpy()\n",
    "        features.append(feature)\n",
    "\n",
    "    return np.array(features), sampled_images"
   ]
  },
  {
   "cell_type": "code",
   "execution_count": 9,
   "metadata": {},
   "outputs": [
    {
     "name": "stdout",
     "output_type": "stream",
     "text": [
      "10\n",
      "Epoch 10 - FID score: 324.67656481192716\n",
      "Results saved to fid_results.csv\n",
      "20\n",
      "Epoch 20 - FID score: 313.90332537107474\n",
      "Results saved to fid_results.csv\n",
      "30\n",
      "Epoch 30 - FID score: 249.0677208566722\n",
      "Results saved to fid_results.csv\n",
      "40\n",
      "Epoch 40 - FID score: 163.81441827407536\n",
      "Results saved to fid_results.csv\n",
      "50\n",
      "Epoch 50 - FID score: 104.42224624181446\n",
      "Results saved to fid_results.csv\n",
      "60\n",
      "Epoch 60 - FID score: 51.56157375202825\n",
      "Results saved to fid_results.csv\n",
      "70\n",
      "Epoch 70 - FID score: 28.54749340460875\n",
      "Results saved to fid_results.csv\n",
      "80\n",
      "Epoch 80 - FID score: 27.385347958660155\n",
      "Results saved to fid_results.csv\n",
      "90\n",
      "Epoch 90 - FID score: 24.281041082509557\n",
      "Results saved to fid_results.csv\n",
      "100\n",
      "Epoch 100 - FID score: 36.1367976772574\n",
      "Results saved to fid_results.csv\n",
      "110\n",
      "Epoch 110 - FID score: 24.29972406328111\n",
      "Results saved to fid_results.csv\n",
      "120\n",
      "Epoch 120 - FID score: 23.96450912726603\n",
      "Results saved to fid_results.csv\n",
      "130\n",
      "Epoch 130 - FID score: 23.1909155582343\n",
      "Results saved to fid_results.csv\n",
      "140\n",
      "Epoch 140 - FID score: 22.10410268371509\n",
      "Results saved to fid_results.csv\n",
      "150\n",
      "Epoch 150 - FID score: 22.65726943546902\n",
      "Results saved to fid_results.csv\n",
      "160\n",
      "Epoch 160 - FID score: 24.415845938512284\n",
      "Results saved to fid_results.csv\n"
     ]
    }
   ],
   "source": [
    "def main(epoch, csv_file=\"fid_results.csv\"):\n",
    "    folder1 = f\"../dataset/basic\"\n",
    "    folder2 = f\"../synthesis_images/step6/epoch{epoch}\"\n",
    "    num_images = 1500\n",
    "\n",
    "    transform = transforms.Compose([\n",
    "        transforms.Resize((299, 299)),\n",
    "        transforms.ToTensor(),\n",
    "        transforms.Normalize(mean=[0.5, 0.5, 0.5], std=[0.5, 0.5, 0.5]),\n",
    "    ])\n",
    "\n",
    "    inception_model = models.inception_v3(pretrained=True)\n",
    "    inception_model.fc = torch.nn.Identity()\n",
    "    inception_model.eval()\n",
    "\n",
    "    real_features, real_sampled = extract_features(folder1, inception_model, transform, num_images)\n",
    "    fake_features, fake_sampled = extract_features(folder2, inception_model, transform, num_images)\n",
    "\n",
    "    fid_score = calculate_fid(real_features, fake_features)\n",
    "\n",
    "    current_time = datetime.now().strftime(\"%Y-%m-%d %H:%M:%S\")\n",
    "\n",
    "    file_exists = os.path.isfile(csv_file)\n",
    "    with open(csv_file, mode='a', newline='') as file:\n",
    "        writer = csv.writer(file)\n",
    "        if not file_exists:\n",
    "            # ファイルが存在しない場合はヘッダーを追加\n",
    "            writer.writerow([\"Epoch\", \"Execution Time\", \"FID Score\", \"Sampled Images from Original\", \"Sampled Images from Generated\"])\n",
    "        writer.writerow([epoch, current_time, fid_score, \";\".join(real_sampled), \";\".join(fake_sampled)])\n",
    "\n",
    "    print(f\"Epoch {epoch} - FID score: {fid_score}\")\n",
    "    print(f\"Results saved to {csv_file}\")\n",
    "\n",
    "\n",
    "for epoch in range (FIRST_EPOCH, END_EPOCH+10, EPOCH_INTERVAL):\n",
    "    print(epoch)\n",
    "    if __name__ == \"__main__\":\n",
    "        main(epoch)"
   ]
  }
 ],
 "metadata": {
  "kernelspec": {
   "display_name": "stylegan_python39",
   "language": "python",
   "name": "python3"
  },
  "language_info": {
   "codemirror_mode": {
    "name": "ipython",
    "version": 3
   },
   "file_extension": ".py",
   "mimetype": "text/x-python",
   "name": "python",
   "nbconvert_exporter": "python",
   "pygments_lexer": "ipython3",
   "version": "3.9.18"
  }
 },
 "nbformat": 4,
 "nbformat_minor": 2
}
