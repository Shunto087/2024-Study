{
 "cells": [
  {
   "cell_type": "raw",
   "metadata": {
    "vscode": {
     "languageId": "raw"
    }
   },
   "source": [
    "This script was written at Yoshimi Lab in Tohoku University, Material Science and Engineering Department"
   ]
  },
  {
   "cell_type": "raw",
   "metadata": {
    "vscode": {
     "languageId": "raw"
    }
   },
   "source": [
    "Script Discription\n",
    "\n",
    "This script is for generating synthesis images from stored DCGAN models."
   ]
  },
  {
   "cell_type": "raw",
   "metadata": {
    "vscode": {
     "languageId": "raw"
    }
   },
   "source": [
    "Import necessary Python libraries"
   ]
  },
  {
   "cell_type": "code",
   "execution_count": 1,
   "metadata": {},
   "outputs": [
    {
     "name": "stderr",
     "output_type": "stream",
     "text": [
      "c:\\Users\\Yoshi\\anaconda3\\envs\\stylegan_python39\\lib\\site-packages\\tqdm\\auto.py:21: TqdmWarning: IProgress not found. Please update jupyter and ipywidgets. See https://ipywidgets.readthedocs.io/en/stable/user_install.html\n",
      "  from .autonotebook import tqdm as notebook_tqdm\n"
     ]
    }
   ],
   "source": [
    "import torch\n",
    "import torch.nn as nn\n",
    "import torchvision.utils as vutils\n",
    "import os"
   ]
  },
  {
   "cell_type": "raw",
   "metadata": {
    "vscode": {
     "languageId": "raw"
    }
   },
   "source": [
    "Check the availability of GPU"
   ]
  },
  {
   "cell_type": "code",
   "execution_count": 2,
   "metadata": {},
   "outputs": [
    {
     "name": "stdout",
     "output_type": "stream",
     "text": [
      "Fri Jan 24 17:07:58 2025       \n",
      "+-----------------------------------------------------------------------------+\n",
      "| NVIDIA-SMI 522.06       Driver Version: 522.06       CUDA Version: 11.8     |\n",
      "|-------------------------------+----------------------+----------------------+\n",
      "| GPU  Name            TCC/WDDM | Bus-Id        Disp.A | Volatile Uncorr. ECC |\n",
      "| Fan  Temp  Perf  Pwr:Usage/Cap|         Memory-Usage | GPU-Util  Compute M. |\n",
      "|                               |                      |               MIG M. |\n",
      "|===============================+======================+======================|\n",
      "|   0  NVIDIA RTX A6000   WDDM  | 00000000:01:00.0  On |                  Off |\n",
      "| 30%   34C    P8    19W / 300W |    743MiB / 49140MiB |      7%      Default |\n",
      "|                               |                      |                  N/A |\n",
      "+-------------------------------+----------------------+----------------------+\n",
      "                                                                               \n",
      "+-----------------------------------------------------------------------------+\n",
      "| Processes:                                                                  |\n",
      "|  GPU   GI   CI        PID   Type   Process name                  GPU Memory |\n",
      "|        ID   ID                                                   Usage      |\n",
      "|=============================================================================|\n",
      "|    0   N/A  N/A       556    C+G   C:\\Windows\\explorer.exe         N/A      |\n",
      "|    0   N/A  N/A      2828    C+G   ...me\\Application\\chrome.exe    N/A      |\n",
      "|    0   N/A  N/A      4156    C+G   ...artMenuExperienceHost.exe    N/A      |\n",
      "|    0   N/A  N/A      5620    C+G   ...e\\PhoneExperienceHost.exe    N/A      |\n",
      "|    0   N/A  N/A      6576    C+G   ...\\ApplicationFrameHost.exe    N/A      |\n",
      "|    0   N/A  N/A      7588    C+G   ...n1h2txyewy\\SearchHost.exe    N/A      |\n",
      "|    0   N/A  N/A     10116    C+G   ...oft\\OneDrive\\OneDrive.exe    N/A      |\n",
      "|    0   N/A  N/A     13392    C+G   ...lPanel\\SystemSettings.exe    N/A      |\n",
      "|    0   N/A  N/A     14136    C+G   ...2txyewy\\TextInputHost.exe    N/A      |\n",
      "|    0   N/A  N/A     15556    C+G   ...urrent\\LogiOptionsMgr.exe    N/A      |\n",
      "|    0   N/A  N/A     15580    C+G   ...e\\Current\\LogiOverlay.exe    N/A      |\n",
      "|    0   N/A  N/A     15684    C+G   ...03.112\\msedgewebview2.exe    N/A      |\n",
      "|    0   N/A  N/A     16064    C+G   ...me\\Application\\chrome.exe    N/A      |\n",
      "|    0   N/A  N/A     20088    C+G   ...y\\ShellExperienceHost.exe    N/A      |\n",
      "|    0   N/A  N/A     21468    C+G   ...03.112\\msedgewebview2.exe    N/A      |\n",
      "|    0   N/A  N/A     22340    C+G   ...ge\\Application\\msedge.exe    N/A      |\n",
      "|    0   N/A  N/A     26764    C+G   ...ekyb3d8bbwe\\HxOutlook.exe    N/A      |\n",
      "|    0   N/A  N/A     27104    C+G   ...icrosoft VS Code\\Code.exe    N/A      |\n",
      "|    0   N/A  N/A     32308    C+G   ...ws\\System32\\ShellHost.exe    N/A      |\n",
      "+-----------------------------------------------------------------------------+\n",
      "cuda\n"
     ]
    }
   ],
   "source": [
    "!nvidia-smi\n",
    "\n",
    "DEVICE = 'cuda' if torch.cuda.is_available() else 'cpu'\n",
    "print(DEVICE)"
   ]
  },
  {
   "cell_type": "raw",
   "metadata": {
    "vscode": {
     "languageId": "raw"
    }
   },
   "source": [
    "Set hyperparameters"
   ]
  },
  {
   "cell_type": "code",
   "execution_count": 3,
   "metadata": {},
   "outputs": [],
   "source": [
    "# Basic\n",
    "FIRST_EPOCH = 10\n",
    "EPOCH_INTERVAL = 10\n",
    "END_EPOCH = 500\n",
    "NUM_IMAGES = 2182\n",
    "IMG_CHANNELS = 1\n",
    "Z_DIM = 100"
   ]
  },
  {
   "cell_type": "code",
   "execution_count": 4,
   "metadata": {},
   "outputs": [],
   "source": [
    "class Generator(nn.Module):\n",
    "    def __init__(self, z_dim, img_channels):\n",
    "        super(Generator, self).__init__()\n",
    "        self.generator_networks = nn.Sequential(\n",
    "            # 1st layer (1 pix to 4 pix)\n",
    "            nn.ConvTranspose2d(z_dim, 1024, kernel_size=4, stride=1, padding=0),\n",
    "            nn.BatchNorm2d(1024),\n",
    "            nn.ReLU(inplace=True),\n",
    "\n",
    "            # 2nd layer (4 pix to 8 pix)\n",
    "            nn.ConvTranspose2d(1024, 512, kernel_size=4, stride=2, padding=1),\n",
    "            nn.BatchNorm2d(512),\n",
    "            nn.ReLU(inplace=True),\n",
    "\n",
    "            # 3rd layer (8 pix to 16 pix)\n",
    "            nn.ConvTranspose2d(512, 256, kernel_size=4, stride=2, padding=1),\n",
    "            nn.BatchNorm2d(256),\n",
    "            nn.ReLU(inplace=True),\n",
    "\n",
    "            # 4th layer (16 pix to 32 pix)\n",
    "            nn.ConvTranspose2d(256, 128, kernel_size=4, stride=2, padding=1),\n",
    "            nn.BatchNorm2d(128),\n",
    "            nn.ReLU(inplace=True),\n",
    "\n",
    "            # 5th layer (32 pix to 64 pix)\n",
    "            nn.ConvTranspose2d(128, 64, kernel_size=4, stride=2, padding=1),\n",
    "            nn.BatchNorm2d(64),\n",
    "            nn.ReLU(inplace=True),\n",
    "\n",
    "            # 6th layer (64 pix to 128 pix)\n",
    "            nn.ConvTranspose2d(64, 32, kernel_size=4, stride=2, padding=1),\n",
    "            nn.BatchNorm2d(32),\n",
    "            nn.ReLU(inplace=True),\n",
    "\n",
    "            # 7th layer (128 pix to 256 pix)\n",
    "            nn.ConvTranspose2d(32, img_channels, kernel_size=4, stride=2, padding=1),\n",
    "            nn.Tanh()\n",
    "        )\n",
    "\n",
    "    def forward(self, x):\n",
    "        return self.generator_networks(x)"
   ]
  },
  {
   "cell_type": "code",
   "execution_count": 5,
   "metadata": {},
   "outputs": [
    {
     "name": "stdout",
     "output_type": "stream",
     "text": [
      "生成画像が ./synthesis_images/epoch10 に保存されました。\n",
      "生成画像が ./synthesis_images/epoch20 に保存されました。\n",
      "生成画像が ./synthesis_images/epoch30 に保存されました。\n",
      "生成画像が ./synthesis_images/epoch40 に保存されました。\n",
      "生成画像が ./synthesis_images/epoch50 に保存されました。\n",
      "生成画像が ./synthesis_images/epoch60 に保存されました。\n",
      "生成画像が ./synthesis_images/epoch70 に保存されました。\n",
      "生成画像が ./synthesis_images/epoch80 に保存されました。\n",
      "生成画像が ./synthesis_images/epoch90 に保存されました。\n",
      "生成画像が ./synthesis_images/epoch100 に保存されました。\n",
      "生成画像が ./synthesis_images/epoch110 に保存されました。\n",
      "生成画像が ./synthesis_images/epoch120 に保存されました。\n",
      "生成画像が ./synthesis_images/epoch130 に保存されました。\n",
      "生成画像が ./synthesis_images/epoch140 に保存されました。\n",
      "生成画像が ./synthesis_images/epoch150 に保存されました。\n",
      "生成画像が ./synthesis_images/epoch160 に保存されました。\n",
      "生成画像が ./synthesis_images/epoch170 に保存されました。\n",
      "生成画像が ./synthesis_images/epoch180 に保存されました。\n",
      "生成画像が ./synthesis_images/epoch190 に保存されました。\n",
      "生成画像が ./synthesis_images/epoch200 に保存されました。\n",
      "生成画像が ./synthesis_images/epoch210 に保存されました。\n",
      "生成画像が ./synthesis_images/epoch220 に保存されました。\n",
      "生成画像が ./synthesis_images/epoch230 に保存されました。\n",
      "生成画像が ./synthesis_images/epoch240 に保存されました。\n",
      "生成画像が ./synthesis_images/epoch250 に保存されました。\n",
      "生成画像が ./synthesis_images/epoch260 に保存されました。\n",
      "生成画像が ./synthesis_images/epoch270 に保存されました。\n",
      "生成画像が ./synthesis_images/epoch280 に保存されました。\n",
      "生成画像が ./synthesis_images/epoch290 に保存されました。\n",
      "生成画像が ./synthesis_images/epoch300 に保存されました。\n",
      "生成画像が ./synthesis_images/epoch310 に保存されました。\n",
      "生成画像が ./synthesis_images/epoch320 に保存されました。\n",
      "生成画像が ./synthesis_images/epoch330 に保存されました。\n",
      "生成画像が ./synthesis_images/epoch340 に保存されました。\n",
      "生成画像が ./synthesis_images/epoch350 に保存されました。\n",
      "生成画像が ./synthesis_images/epoch360 に保存されました。\n",
      "生成画像が ./synthesis_images/epoch370 に保存されました。\n",
      "生成画像が ./synthesis_images/epoch380 に保存されました。\n",
      "生成画像が ./synthesis_images/epoch390 に保存されました。\n",
      "生成画像が ./synthesis_images/epoch400 に保存されました。\n",
      "生成画像が ./synthesis_images/epoch410 に保存されました。\n",
      "生成画像が ./synthesis_images/epoch420 に保存されました。\n",
      "生成画像が ./synthesis_images/epoch430 に保存されました。\n",
      "生成画像が ./synthesis_images/epoch440 に保存されました。\n",
      "生成画像が ./synthesis_images/epoch450 に保存されました。\n",
      "生成画像が ./synthesis_images/epoch460 に保存されました。\n",
      "生成画像が ./synthesis_images/epoch470 に保存されました。\n",
      "生成画像が ./synthesis_images/epoch480 に保存されました。\n",
      "生成画像が ./synthesis_images/epoch490 に保存されました。\n",
      "生成画像が ./synthesis_images/epoch500 に保存されました。\n"
     ]
    }
   ],
   "source": [
    "num_images = NUM_IMAGES\n",
    "z_dim=Z_DIM\n",
    "device=DEVICE\n",
    "img_channels = IMG_CHANNELS\n",
    "\n",
    "for epoch in range(FIRST_EPOCH, END_EPOCH+10, EPOCH_INTERVAL):\n",
    "    model_path = f\"./saved_models/epoch{epoch}/generator_epoch{epoch}.pth\"\n",
    "    output_dir_1 = f\"./synthesis_images/\"\n",
    "    os.makedirs(output_dir_1, exist_ok=True)\n",
    "    output_dir_2 = f\"./synthesis_images/epoch{epoch}\"\n",
    "    os.makedirs(output_dir_2, exist_ok=True)\n",
    "\n",
    "    generator = torch.load(model_path, map_location=device)\n",
    "    generator.to(device)\n",
    "    generator.eval()\n",
    "\n",
    "    fixed_noise = torch.randn(num_images, z_dim, 1, 1, device=device)\n",
    "\n",
    "    with torch.no_grad():\n",
    "        generated_images = generator(fixed_noise).detach().cpu()\n",
    "\n",
    "    for i in range(NUM_IMAGES):\n",
    "        vutils.save_image(\n",
    "            generated_images[i], os.path.join(output_dir_2, f\"syenthesis_image_{i+1}.tif\"), normalize=True\n",
    "        )\n",
    "\n",
    "    print(f\"生成画像が {output_dir_2} に保存されました。\")"
   ]
  },
  {
   "cell_type": "raw",
   "metadata": {
    "vscode": {
     "languageId": "raw"
    }
   },
   "source": [
    "This script was written at Yoshimi Lab in Tohoku University, Material Science and Engineering Department"
   ]
  }
 ],
 "metadata": {
  "kernelspec": {
   "display_name": "stylegan_python39",
   "language": "python",
   "name": "python3"
  },
  "language_info": {
   "codemirror_mode": {
    "name": "ipython",
    "version": 3
   },
   "file_extension": ".py",
   "mimetype": "text/x-python",
   "name": "python",
   "nbconvert_exporter": "python",
   "pygments_lexer": "ipython3",
   "version": "3.9.18"
  }
 },
 "nbformat": 4,
 "nbformat_minor": 2
}
